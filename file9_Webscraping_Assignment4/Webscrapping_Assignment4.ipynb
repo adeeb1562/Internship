{
 "cells": [
  {
   "cell_type": "code",
   "execution_count": 1,
   "metadata": {},
   "outputs": [],
   "source": [
    "# Importing Libraries\n",
    "import selenium\n",
    "import pandas as pd\n",
    "import time\n",
    "from bs4 import BeautifulSoup\n",
    "from selenium import webdriver\n",
    "from selenium.common.exceptions import StaleElementReferenceException, NoSuchElementException\n",
    "import requests\n",
    "import re\n",
    "from selenium.webdriver.common.by import By"
   ]
  },
  {
   "cell_type": "markdown",
   "metadata": {},
   "source": [
    "# 1. Scrape the details of most viewed videos on YouTube from Wikipedia:"
   ]
  },
  {
   "cell_type": "code",
   "execution_count": 2,
   "metadata": {},
   "outputs": [
    {
     "name": "stderr",
     "output_type": "stream",
     "text": [
      "The chromedriver version (123.0.6312.86) detected in PATH at C:\\Users\\Adeeb Naiyer\\chromedriver.exe might not be compatible with the detected chrome version (124.0.6367.119); currently, chromedriver 124.0.6367.155 is recommended for chrome 124.*, so it is advised to delete the driver in PATH and retry\n"
     ]
    }
   ],
   "source": [
    "driver = webdriver.Chrome()\n",
    "url_1=\"https://en.wikipedia.org/wiki/List_of_most-viewed_YouTube_videos/\"\n",
    "driver.get(url_1)"
   ]
  },
  {
   "cell_type": "code",
   "execution_count": 3,
   "metadata": {},
   "outputs": [],
   "source": [
    "Rank=[]\n",
    "Name=[]\n",
    "Artist=[]\n",
    "Upload_Date=[]\n",
    "Views=[]"
   ]
  },
  {
   "cell_type": "code",
   "execution_count": 4,
   "metadata": {},
   "outputs": [],
   "source": [
    "search_1 = driver.find_element(By.XPATH, '//*[@id=\"noarticletext\"]/tbody/tr/td/span/a')      \n",
    "search_1.click()"
   ]
  },
  {
   "cell_type": "code",
   "execution_count": 5,
   "metadata": {},
   "outputs": [],
   "source": [
    "search_2 = driver.find_element(By.XPATH, '//div[@class=\"mw-search-result-heading\"]')       \n",
    "search_2.click()"
   ]
  },
  {
   "cell_type": "code",
   "execution_count": 6,
   "metadata": {},
   "outputs": [
    {
     "name": "stdout",
     "output_type": "stream",
     "text": [
      "['\"Baby Shark Dance\"[7]', '\"Despacito\"[10]', '\"Johny Johny Yes Papa\"[18]', '\"Bath Song\"[19]', '\"Shape of You\"[20]', '\"See You Again\"[23]', '\"Wheels on the Bus\"[28]', '\"Phonics Song with Two Words\"[29]', '\"Uptown Funk\"[30]', '\"Gangnam Style\"[31]', '\"Learning Colors – Colorful Eggs on a Farm\"[36]', '\"Dame Tu Cosita\"[37]', '\"Masha and the Bear – Recipe for Disaster\"[38]', '\"Axel F\"[39]', '\"Sugar\"[40]', '\"Baa Baa Black Sheep\"[41]', '\"Counting Stars\"[42]', '\"Lakdi Ki Kathi\"[43]', '\"Roar\"[44]', '\"Waka Waka (This Time for Africa)\"[45]', '\"Sorry\"[46]', '\"Shree Hanuman Chalisa\"[47]', '\"Humpty the train on a fruits ride\"[48]', '\"Thinking Out Loud\"[49]', '\"Perfect\"[50]', '\"Dark Horse\"[51]', '\"Let Her Go\"[52]', '\"Faded\"[53]', '\"Girls Like You\"[54]', '\"Lean On\"[55]', '\"Baby Shark Dance\"[7]', '\"Despacito\"[10]', '\"See You Again\"[23]', '\"Gangnam Style\"⁂[31]', '\"Baby\"*[69]', '\"Bad Romance\"[73]', '\"Charlie Bit My Finger\"[77]', '\"Evolution of Dance\"[79]', '\"Girlfriend\"‡[81][82]', '\"Evolution of Dance\"[79]', '\"Music Is My Hot Hot Sex\"‡[87]', '\"Evolution of Dance\"*[79]', '\"Pokémon Theme Music Video\"‡[92]', '\"Myspace – The Movie\"‡[97][98]', '\"Phony Photo Booth\"‡[101]', '\"The Chronic of Narnia Rap\"‡[107]', '\"Ronaldinho: Touch of Gold\"‡*[110]', '\"I/O Brush\"‡*[116]']\n",
      "48\n"
     ]
    }
   ],
   "source": [
    "# Scraping Rank\n",
    "rnk = driver.find_elements(By.XPATH, '//div[@id=\"mw-content-text\"]/div/table/tbody/tr/td[1]')\n",
    "Rank = []\n",
    "for i in rnk:\n",
    "    if i.text is None:\n",
    "        Rank.append(\"-\")\n",
    "    else:\n",
    "        Rank.append(i.text)\n",
    "\n",
    "print(Rank)\n",
    "\n",
    "print(len(Rank))"
   ]
  },
  {
   "cell_type": "code",
   "execution_count": 7,
   "metadata": {},
   "outputs": [
    {
     "name": "stdout",
     "output_type": "stream",
     "text": [
      "48 ['\"Baby Shark Dance\"[7]', '\"Despacito\"[10]', '\"Johny Johny Yes Papa\"[18]', '\"Bath Song\"[19]', '\"Shape of You\"[20]', '\"See You Again\"[23]', '\"Wheels on the Bus\"[28]', '\"Phonics Song with Two Words\"[29]', '\"Uptown Funk\"[30]', '\"Gangnam Style\"[31]', '\"Learning Colors – Colorful Eggs on a Farm\"[36]', '\"Dame Tu Cosita\"[37]', '\"Masha and the Bear – Recipe for Disaster\"[38]', '\"Axel F\"[39]', '\"Sugar\"[40]', '\"Baa Baa Black Sheep\"[41]', '\"Counting Stars\"[42]', '\"Lakdi Ki Kathi\"[43]', '\"Roar\"[44]', '\"Waka Waka (This Time for Africa)\"[45]', '\"Sorry\"[46]', '\"Shree Hanuman Chalisa\"[47]', '\"Humpty the train on a fruits ride\"[48]', '\"Thinking Out Loud\"[49]', '\"Perfect\"[50]', '\"Dark Horse\"[51]', '\"Let Her Go\"[52]', '\"Faded\"[53]', '\"Girls Like You\"[54]', '\"Lean On\"[55]', '\"Baby Shark Dance\"[7]', '\"Despacito\"[10]', '\"See You Again\"[23]', '\"Gangnam Style\"⁂[31]', '\"Baby\"*[69]', '\"Bad Romance\"[73]', '\"Charlie Bit My Finger\"[77]', '\"Evolution of Dance\"[79]', '\"Girlfriend\"‡[81][82]', '\"Evolution of Dance\"[79]', '\"Music Is My Hot Hot Sex\"‡[87]', '\"Evolution of Dance\"*[79]', '\"Pokémon Theme Music Video\"‡[92]', '\"Myspace – The Movie\"‡[97][98]', '\"Phony Photo Booth\"‡[101]', '\"The Chronic of Narnia Rap\"‡[107]', '\"Ronaldinho: Touch of Gold\"‡*[110]', '\"I/O Brush\"‡*[116]']\n"
     ]
    }
   ],
   "source": [
    "#scraping Video Name \n",
    "nme=driver.find_elements(By.XPATH, '//div[@id=\"mw-content-text\"]/div/table/tbody/tr/td[1]')\n",
    "for i in nme:\n",
    "    if i.text is None :\n",
    "        Name.append(\"-\") \n",
    "    else:\n",
    "        Name.append(i.text)\n",
    "print(len(Name),Name)"
   ]
  },
  {
   "cell_type": "code",
   "execution_count": 8,
   "metadata": {},
   "outputs": [
    {
     "name": "stdout",
     "output_type": "stream",
     "text": [
      "[\"Pinkfong Baby Shark - Kids' Songs & Stories\", 'Luis Fonsi', \"LooLoo Kids - Nursery Rhymes and Children's Songs\", 'Cocomelon - Nursery Rhymes', 'Ed Sheeran', 'Wiz Khalifa', 'Cocomelon - Nursery Rhymes', 'ChuChu TV Nursery Rhymes & Kids Songs', 'Mark Ronson', 'Psy', 'Miroshka TV', 'Ultra Records', 'Get Movies', 'Crazy Frog', 'Maroon 5', 'Cocomelon - Nursery Rhymes', 'OneRepublic', 'Jingle Toons', 'Katy Perry', 'Shakira', 'Justin Bieber', 'T-Series Bhakti Sagar', 'Kiddiestv Hindi - Nursery Rhymes & Kids Songs', 'Ed Sheeran', 'Ed Sheeran', 'Katy Perry', 'Passenger', 'Alan Walker', 'Maroon 5', 'Major Lazer Official', \"Pinkfong Baby Shark - Kids' Songs & Stories\", 'Luis Fonsi', 'Wiz Khalifa', 'Psy', 'Justin Bieber', 'Lady Gaga', 'HDCYT', 'Judson Laipply', 'RCA Records', 'Judson Laipply', 'CLARUSBARTEL72', 'Judson Laipply', 'Smosh', 'eggtea', 'mugenized', 'youtubedude', 'Nikesoccer', 'larfus']\n",
      "48\n"
     ]
    }
   ],
   "source": [
    "#scraping Artist \n",
    "Art=driver.find_elements(By.XPATH, \"//div[@id='mw-content-text']/div/table/tbody/tr/td[2]\")\n",
    "for i in Art:\n",
    "    if i.text is None :\n",
    "        Artist.append(\"-\") \n",
    "    else:\n",
    "        Artist.append(i.text)\n",
    "print(Artist)\n",
    "\n",
    "print(len(Artist))"
   ]
  },
  {
   "cell_type": "code",
   "execution_count": 9,
   "metadata": {},
   "outputs": [
    {
     "name": "stdout",
     "output_type": "stream",
     "text": [
      "['June 17, 2016', 'January 12, 2017', 'October 8, 2016', 'May 2, 2018', 'January 30, 2017', 'April 6, 2015', 'May 24, 2018', 'March 6, 2014', 'November 19, 2014', 'July 15, 2012', 'February 27, 2018', 'April 5, 2018', 'January 31, 2012', 'June 16, 2009', 'January 14, 2015', 'June 25, 2018', 'May 31, 2013', 'June 14, 2018', 'September 5, 2013', 'June 4, 2010', 'October 22, 2015', 'May 10, 2011', 'January 26, 2018', 'October 7, 2014', 'November 9, 2017', 'February 20, 2014', 'July 25, 2012', 'December 3, 2015', 'May 31, 2018', 'March 22, 2015', 'June 17, 2016', 'January 12, 2017', 'April 6, 2015', 'July 15, 2012', 'February 19, 2010', 'November 24, 2009', 'May 22, 2007', 'April 6, 2006', 'February 27, 2007', 'April 6, 2006', 'April 9, 2007', 'April 6, 2006', 'November 28, 2005', 'January 31, 2006', 'December 1, 2005', 'December 18, 2005', 'October 21, 2005', 'October 5, 2005']\n",
      "48\n"
     ]
    }
   ],
   "source": [
    "#scraping Upload Date \n",
    "date=driver.find_elements(By.XPATH, \"//div[@id='mw-content-text']/div/table/tbody/tr/td[4]\")\n",
    "for i in date:\n",
    "    if i.text is None :\n",
    "        Upload_Date.append(\"-\") \n",
    "    else:\n",
    "        Upload_Date.append(i.text)\n",
    "print(Upload_Date)\n",
    "print(len(Upload_Date))"
   ]
  },
  {
   "cell_type": "code",
   "execution_count": 10,
   "metadata": {},
   "outputs": [
    {
     "name": "stdout",
     "output_type": "stream",
     "text": [
      "['14.32', '8.41', '6.89', '6.66', '6.23', '6.22', '6.01', '5.75', '5.18', '5.10', '5.09', '4.59', '4.57', '4.45', '4.02', '4.01', '4.00', '3.98', '3.98', '3.89', '3.78', '3.77', '3.76', '3.75', '3.70', '3.70', '3.64', '3.60', '3.58', '3.57', '7,046,700,000', '2,993,700,000', '2,894,000,000', '803,700,000', '245,400,000', '178,400,000', '128,900,000', '118,900,000', '92,600,000', '78,400,000', '76,600,000', '10,600,000', '4,300,000', '2,700,000', '3,400,000', '2,300,000', '255,000', '247,000']\n",
      "48\n"
     ]
    }
   ],
   "source": [
    "#scraping Views \n",
    "v=driver.find_elements(By.XPATH, \"//div[@id='mw-content-text']/div/table/tbody/tr/td[3]\")\n",
    "for i in v:\n",
    "    if i.text is None :\n",
    "        Views.append(\"--\") \n",
    "    else:\n",
    "        Views.append(i.text)\n",
    "print(Views)\n",
    "print(len(Views))"
   ]
  },
  {
   "cell_type": "code",
   "execution_count": 11,
   "metadata": {},
   "outputs": [
    {
     "data": {
      "text/html": [
       "<div>\n",
       "<style scoped>\n",
       "    .dataframe tbody tr th:only-of-type {\n",
       "        vertical-align: middle;\n",
       "    }\n",
       "\n",
       "    .dataframe tbody tr th {\n",
       "        vertical-align: top;\n",
       "    }\n",
       "\n",
       "    .dataframe thead th {\n",
       "        text-align: right;\n",
       "    }\n",
       "</style>\n",
       "<table border=\"1\" class=\"dataframe\">\n",
       "  <thead>\n",
       "    <tr style=\"text-align: right;\">\n",
       "      <th></th>\n",
       "      <th>Rank</th>\n",
       "      <th>Video Title</th>\n",
       "      <th>Artist</th>\n",
       "      <th>Upload_Date</th>\n",
       "      <th>Views In Bllion</th>\n",
       "    </tr>\n",
       "  </thead>\n",
       "  <tbody>\n",
       "    <tr>\n",
       "      <th>0</th>\n",
       "      <td>\"Baby Shark Dance\"[7]</td>\n",
       "      <td>\"Baby Shark Dance\"[7]</td>\n",
       "      <td>Pinkfong Baby Shark - Kids' Songs &amp; Stories</td>\n",
       "      <td>June 17, 2016</td>\n",
       "      <td>14.32</td>\n",
       "    </tr>\n",
       "    <tr>\n",
       "      <th>1</th>\n",
       "      <td>\"Despacito\"[10]</td>\n",
       "      <td>\"Despacito\"[10]</td>\n",
       "      <td>Luis Fonsi</td>\n",
       "      <td>January 12, 2017</td>\n",
       "      <td>8.41</td>\n",
       "    </tr>\n",
       "    <tr>\n",
       "      <th>2</th>\n",
       "      <td>\"Johny Johny Yes Papa\"[18]</td>\n",
       "      <td>\"Johny Johny Yes Papa\"[18]</td>\n",
       "      <td>LooLoo Kids - Nursery Rhymes and Children's Songs</td>\n",
       "      <td>October 8, 2016</td>\n",
       "      <td>6.89</td>\n",
       "    </tr>\n",
       "    <tr>\n",
       "      <th>3</th>\n",
       "      <td>\"Bath Song\"[19]</td>\n",
       "      <td>\"Bath Song\"[19]</td>\n",
       "      <td>Cocomelon - Nursery Rhymes</td>\n",
       "      <td>May 2, 2018</td>\n",
       "      <td>6.66</td>\n",
       "    </tr>\n",
       "    <tr>\n",
       "      <th>4</th>\n",
       "      <td>\"Shape of You\"[20]</td>\n",
       "      <td>\"Shape of You\"[20]</td>\n",
       "      <td>Ed Sheeran</td>\n",
       "      <td>January 30, 2017</td>\n",
       "      <td>6.23</td>\n",
       "    </tr>\n",
       "    <tr>\n",
       "      <th>5</th>\n",
       "      <td>\"See You Again\"[23]</td>\n",
       "      <td>\"See You Again\"[23]</td>\n",
       "      <td>Wiz Khalifa</td>\n",
       "      <td>April 6, 2015</td>\n",
       "      <td>6.22</td>\n",
       "    </tr>\n",
       "    <tr>\n",
       "      <th>6</th>\n",
       "      <td>\"Wheels on the Bus\"[28]</td>\n",
       "      <td>\"Wheels on the Bus\"[28]</td>\n",
       "      <td>Cocomelon - Nursery Rhymes</td>\n",
       "      <td>May 24, 2018</td>\n",
       "      <td>6.01</td>\n",
       "    </tr>\n",
       "    <tr>\n",
       "      <th>7</th>\n",
       "      <td>\"Phonics Song with Two Words\"[29]</td>\n",
       "      <td>\"Phonics Song with Two Words\"[29]</td>\n",
       "      <td>ChuChu TV Nursery Rhymes &amp; Kids Songs</td>\n",
       "      <td>March 6, 2014</td>\n",
       "      <td>5.75</td>\n",
       "    </tr>\n",
       "    <tr>\n",
       "      <th>8</th>\n",
       "      <td>\"Uptown Funk\"[30]</td>\n",
       "      <td>\"Uptown Funk\"[30]</td>\n",
       "      <td>Mark Ronson</td>\n",
       "      <td>November 19, 2014</td>\n",
       "      <td>5.18</td>\n",
       "    </tr>\n",
       "    <tr>\n",
       "      <th>9</th>\n",
       "      <td>\"Gangnam Style\"[31]</td>\n",
       "      <td>\"Gangnam Style\"[31]</td>\n",
       "      <td>Psy</td>\n",
       "      <td>July 15, 2012</td>\n",
       "      <td>5.10</td>\n",
       "    </tr>\n",
       "    <tr>\n",
       "      <th>10</th>\n",
       "      <td>\"Learning Colors – Colorful Eggs on a Farm\"[36]</td>\n",
       "      <td>\"Learning Colors – Colorful Eggs on a Farm\"[36]</td>\n",
       "      <td>Miroshka TV</td>\n",
       "      <td>February 27, 2018</td>\n",
       "      <td>5.09</td>\n",
       "    </tr>\n",
       "    <tr>\n",
       "      <th>11</th>\n",
       "      <td>\"Dame Tu Cosita\"[37]</td>\n",
       "      <td>\"Dame Tu Cosita\"[37]</td>\n",
       "      <td>Ultra Records</td>\n",
       "      <td>April 5, 2018</td>\n",
       "      <td>4.59</td>\n",
       "    </tr>\n",
       "    <tr>\n",
       "      <th>12</th>\n",
       "      <td>\"Masha and the Bear – Recipe for Disaster\"[38]</td>\n",
       "      <td>\"Masha and the Bear – Recipe for Disaster\"[38]</td>\n",
       "      <td>Get Movies</td>\n",
       "      <td>January 31, 2012</td>\n",
       "      <td>4.57</td>\n",
       "    </tr>\n",
       "    <tr>\n",
       "      <th>13</th>\n",
       "      <td>\"Axel F\"[39]</td>\n",
       "      <td>\"Axel F\"[39]</td>\n",
       "      <td>Crazy Frog</td>\n",
       "      <td>June 16, 2009</td>\n",
       "      <td>4.45</td>\n",
       "    </tr>\n",
       "    <tr>\n",
       "      <th>14</th>\n",
       "      <td>\"Sugar\"[40]</td>\n",
       "      <td>\"Sugar\"[40]</td>\n",
       "      <td>Maroon 5</td>\n",
       "      <td>January 14, 2015</td>\n",
       "      <td>4.02</td>\n",
       "    </tr>\n",
       "    <tr>\n",
       "      <th>15</th>\n",
       "      <td>\"Baa Baa Black Sheep\"[41]</td>\n",
       "      <td>\"Baa Baa Black Sheep\"[41]</td>\n",
       "      <td>Cocomelon - Nursery Rhymes</td>\n",
       "      <td>June 25, 2018</td>\n",
       "      <td>4.01</td>\n",
       "    </tr>\n",
       "    <tr>\n",
       "      <th>16</th>\n",
       "      <td>\"Counting Stars\"[42]</td>\n",
       "      <td>\"Counting Stars\"[42]</td>\n",
       "      <td>OneRepublic</td>\n",
       "      <td>May 31, 2013</td>\n",
       "      <td>4.00</td>\n",
       "    </tr>\n",
       "    <tr>\n",
       "      <th>17</th>\n",
       "      <td>\"Lakdi Ki Kathi\"[43]</td>\n",
       "      <td>\"Lakdi Ki Kathi\"[43]</td>\n",
       "      <td>Jingle Toons</td>\n",
       "      <td>June 14, 2018</td>\n",
       "      <td>3.98</td>\n",
       "    </tr>\n",
       "    <tr>\n",
       "      <th>18</th>\n",
       "      <td>\"Roar\"[44]</td>\n",
       "      <td>\"Roar\"[44]</td>\n",
       "      <td>Katy Perry</td>\n",
       "      <td>September 5, 2013</td>\n",
       "      <td>3.98</td>\n",
       "    </tr>\n",
       "    <tr>\n",
       "      <th>19</th>\n",
       "      <td>\"Waka Waka (This Time for Africa)\"[45]</td>\n",
       "      <td>\"Waka Waka (This Time for Africa)\"[45]</td>\n",
       "      <td>Shakira</td>\n",
       "      <td>June 4, 2010</td>\n",
       "      <td>3.89</td>\n",
       "    </tr>\n",
       "    <tr>\n",
       "      <th>20</th>\n",
       "      <td>\"Sorry\"[46]</td>\n",
       "      <td>\"Sorry\"[46]</td>\n",
       "      <td>Justin Bieber</td>\n",
       "      <td>October 22, 2015</td>\n",
       "      <td>3.78</td>\n",
       "    </tr>\n",
       "    <tr>\n",
       "      <th>21</th>\n",
       "      <td>\"Shree Hanuman Chalisa\"[47]</td>\n",
       "      <td>\"Shree Hanuman Chalisa\"[47]</td>\n",
       "      <td>T-Series Bhakti Sagar</td>\n",
       "      <td>May 10, 2011</td>\n",
       "      <td>3.77</td>\n",
       "    </tr>\n",
       "    <tr>\n",
       "      <th>22</th>\n",
       "      <td>\"Humpty the train on a fruits ride\"[48]</td>\n",
       "      <td>\"Humpty the train on a fruits ride\"[48]</td>\n",
       "      <td>Kiddiestv Hindi - Nursery Rhymes &amp; Kids Songs</td>\n",
       "      <td>January 26, 2018</td>\n",
       "      <td>3.76</td>\n",
       "    </tr>\n",
       "    <tr>\n",
       "      <th>23</th>\n",
       "      <td>\"Thinking Out Loud\"[49]</td>\n",
       "      <td>\"Thinking Out Loud\"[49]</td>\n",
       "      <td>Ed Sheeran</td>\n",
       "      <td>October 7, 2014</td>\n",
       "      <td>3.75</td>\n",
       "    </tr>\n",
       "    <tr>\n",
       "      <th>24</th>\n",
       "      <td>\"Perfect\"[50]</td>\n",
       "      <td>\"Perfect\"[50]</td>\n",
       "      <td>Ed Sheeran</td>\n",
       "      <td>November 9, 2017</td>\n",
       "      <td>3.70</td>\n",
       "    </tr>\n",
       "    <tr>\n",
       "      <th>25</th>\n",
       "      <td>\"Dark Horse\"[51]</td>\n",
       "      <td>\"Dark Horse\"[51]</td>\n",
       "      <td>Katy Perry</td>\n",
       "      <td>February 20, 2014</td>\n",
       "      <td>3.70</td>\n",
       "    </tr>\n",
       "    <tr>\n",
       "      <th>26</th>\n",
       "      <td>\"Let Her Go\"[52]</td>\n",
       "      <td>\"Let Her Go\"[52]</td>\n",
       "      <td>Passenger</td>\n",
       "      <td>July 25, 2012</td>\n",
       "      <td>3.64</td>\n",
       "    </tr>\n",
       "    <tr>\n",
       "      <th>27</th>\n",
       "      <td>\"Faded\"[53]</td>\n",
       "      <td>\"Faded\"[53]</td>\n",
       "      <td>Alan Walker</td>\n",
       "      <td>December 3, 2015</td>\n",
       "      <td>3.60</td>\n",
       "    </tr>\n",
       "    <tr>\n",
       "      <th>28</th>\n",
       "      <td>\"Girls Like You\"[54]</td>\n",
       "      <td>\"Girls Like You\"[54]</td>\n",
       "      <td>Maroon 5</td>\n",
       "      <td>May 31, 2018</td>\n",
       "      <td>3.58</td>\n",
       "    </tr>\n",
       "    <tr>\n",
       "      <th>29</th>\n",
       "      <td>\"Lean On\"[55]</td>\n",
       "      <td>\"Lean On\"[55]</td>\n",
       "      <td>Major Lazer Official</td>\n",
       "      <td>March 22, 2015</td>\n",
       "      <td>3.57</td>\n",
       "    </tr>\n",
       "    <tr>\n",
       "      <th>30</th>\n",
       "      <td>\"Baby Shark Dance\"[7]</td>\n",
       "      <td>\"Baby Shark Dance\"[7]</td>\n",
       "      <td>Pinkfong Baby Shark - Kids' Songs &amp; Stories</td>\n",
       "      <td>June 17, 2016</td>\n",
       "      <td>7,046,700,000</td>\n",
       "    </tr>\n",
       "    <tr>\n",
       "      <th>31</th>\n",
       "      <td>\"Despacito\"[10]</td>\n",
       "      <td>\"Despacito\"[10]</td>\n",
       "      <td>Luis Fonsi</td>\n",
       "      <td>January 12, 2017</td>\n",
       "      <td>2,993,700,000</td>\n",
       "    </tr>\n",
       "    <tr>\n",
       "      <th>32</th>\n",
       "      <td>\"See You Again\"[23]</td>\n",
       "      <td>\"See You Again\"[23]</td>\n",
       "      <td>Wiz Khalifa</td>\n",
       "      <td>April 6, 2015</td>\n",
       "      <td>2,894,000,000</td>\n",
       "    </tr>\n",
       "    <tr>\n",
       "      <th>33</th>\n",
       "      <td>\"Gangnam Style\"⁂[31]</td>\n",
       "      <td>\"Gangnam Style\"⁂[31]</td>\n",
       "      <td>Psy</td>\n",
       "      <td>July 15, 2012</td>\n",
       "      <td>803,700,000</td>\n",
       "    </tr>\n",
       "    <tr>\n",
       "      <th>34</th>\n",
       "      <td>\"Baby\"*[69]</td>\n",
       "      <td>\"Baby\"*[69]</td>\n",
       "      <td>Justin Bieber</td>\n",
       "      <td>February 19, 2010</td>\n",
       "      <td>245,400,000</td>\n",
       "    </tr>\n",
       "    <tr>\n",
       "      <th>35</th>\n",
       "      <td>\"Bad Romance\"[73]</td>\n",
       "      <td>\"Bad Romance\"[73]</td>\n",
       "      <td>Lady Gaga</td>\n",
       "      <td>November 24, 2009</td>\n",
       "      <td>178,400,000</td>\n",
       "    </tr>\n",
       "    <tr>\n",
       "      <th>36</th>\n",
       "      <td>\"Charlie Bit My Finger\"[77]</td>\n",
       "      <td>\"Charlie Bit My Finger\"[77]</td>\n",
       "      <td>HDCYT</td>\n",
       "      <td>May 22, 2007</td>\n",
       "      <td>128,900,000</td>\n",
       "    </tr>\n",
       "    <tr>\n",
       "      <th>37</th>\n",
       "      <td>\"Evolution of Dance\"[79]</td>\n",
       "      <td>\"Evolution of Dance\"[79]</td>\n",
       "      <td>Judson Laipply</td>\n",
       "      <td>April 6, 2006</td>\n",
       "      <td>118,900,000</td>\n",
       "    </tr>\n",
       "    <tr>\n",
       "      <th>38</th>\n",
       "      <td>\"Girlfriend\"‡[81][82]</td>\n",
       "      <td>\"Girlfriend\"‡[81][82]</td>\n",
       "      <td>RCA Records</td>\n",
       "      <td>February 27, 2007</td>\n",
       "      <td>92,600,000</td>\n",
       "    </tr>\n",
       "    <tr>\n",
       "      <th>39</th>\n",
       "      <td>\"Evolution of Dance\"[79]</td>\n",
       "      <td>\"Evolution of Dance\"[79]</td>\n",
       "      <td>Judson Laipply</td>\n",
       "      <td>April 6, 2006</td>\n",
       "      <td>78,400,000</td>\n",
       "    </tr>\n",
       "    <tr>\n",
       "      <th>40</th>\n",
       "      <td>\"Music Is My Hot Hot Sex\"‡[87]</td>\n",
       "      <td>\"Music Is My Hot Hot Sex\"‡[87]</td>\n",
       "      <td>CLARUSBARTEL72</td>\n",
       "      <td>April 9, 2007</td>\n",
       "      <td>76,600,000</td>\n",
       "    </tr>\n",
       "    <tr>\n",
       "      <th>41</th>\n",
       "      <td>\"Evolution of Dance\"*[79]</td>\n",
       "      <td>\"Evolution of Dance\"*[79]</td>\n",
       "      <td>Judson Laipply</td>\n",
       "      <td>April 6, 2006</td>\n",
       "      <td>10,600,000</td>\n",
       "    </tr>\n",
       "    <tr>\n",
       "      <th>42</th>\n",
       "      <td>\"Pokémon Theme Music Video\"‡[92]</td>\n",
       "      <td>\"Pokémon Theme Music Video\"‡[92]</td>\n",
       "      <td>Smosh</td>\n",
       "      <td>November 28, 2005</td>\n",
       "      <td>4,300,000</td>\n",
       "    </tr>\n",
       "    <tr>\n",
       "      <th>43</th>\n",
       "      <td>\"Myspace – The Movie\"‡[97][98]</td>\n",
       "      <td>\"Myspace – The Movie\"‡[97][98]</td>\n",
       "      <td>eggtea</td>\n",
       "      <td>January 31, 2006</td>\n",
       "      <td>2,700,000</td>\n",
       "    </tr>\n",
       "    <tr>\n",
       "      <th>44</th>\n",
       "      <td>\"Phony Photo Booth\"‡[101]</td>\n",
       "      <td>\"Phony Photo Booth\"‡[101]</td>\n",
       "      <td>mugenized</td>\n",
       "      <td>December 1, 2005</td>\n",
       "      <td>3,400,000</td>\n",
       "    </tr>\n",
       "    <tr>\n",
       "      <th>45</th>\n",
       "      <td>\"The Chronic of Narnia Rap\"‡[107]</td>\n",
       "      <td>\"The Chronic of Narnia Rap\"‡[107]</td>\n",
       "      <td>youtubedude</td>\n",
       "      <td>December 18, 2005</td>\n",
       "      <td>2,300,000</td>\n",
       "    </tr>\n",
       "    <tr>\n",
       "      <th>46</th>\n",
       "      <td>\"Ronaldinho: Touch of Gold\"‡*[110]</td>\n",
       "      <td>\"Ronaldinho: Touch of Gold\"‡*[110]</td>\n",
       "      <td>Nikesoccer</td>\n",
       "      <td>October 21, 2005</td>\n",
       "      <td>255,000</td>\n",
       "    </tr>\n",
       "    <tr>\n",
       "      <th>47</th>\n",
       "      <td>\"I/O Brush\"‡*[116]</td>\n",
       "      <td>\"I/O Brush\"‡*[116]</td>\n",
       "      <td>larfus</td>\n",
       "      <td>October 5, 2005</td>\n",
       "      <td>247,000</td>\n",
       "    </tr>\n",
       "  </tbody>\n",
       "</table>\n",
       "</div>"
      ],
      "text/plain": [
       "                                               Rank  \\\n",
       "0                             \"Baby Shark Dance\"[7]   \n",
       "1                                   \"Despacito\"[10]   \n",
       "2                        \"Johny Johny Yes Papa\"[18]   \n",
       "3                                   \"Bath Song\"[19]   \n",
       "4                                \"Shape of You\"[20]   \n",
       "5                               \"See You Again\"[23]   \n",
       "6                           \"Wheels on the Bus\"[28]   \n",
       "7                 \"Phonics Song with Two Words\"[29]   \n",
       "8                                 \"Uptown Funk\"[30]   \n",
       "9                               \"Gangnam Style\"[31]   \n",
       "10  \"Learning Colors – Colorful Eggs on a Farm\"[36]   \n",
       "11                             \"Dame Tu Cosita\"[37]   \n",
       "12   \"Masha and the Bear – Recipe for Disaster\"[38]   \n",
       "13                                     \"Axel F\"[39]   \n",
       "14                                      \"Sugar\"[40]   \n",
       "15                        \"Baa Baa Black Sheep\"[41]   \n",
       "16                             \"Counting Stars\"[42]   \n",
       "17                             \"Lakdi Ki Kathi\"[43]   \n",
       "18                                       \"Roar\"[44]   \n",
       "19           \"Waka Waka (This Time for Africa)\"[45]   \n",
       "20                                      \"Sorry\"[46]   \n",
       "21                      \"Shree Hanuman Chalisa\"[47]   \n",
       "22          \"Humpty the train on a fruits ride\"[48]   \n",
       "23                          \"Thinking Out Loud\"[49]   \n",
       "24                                    \"Perfect\"[50]   \n",
       "25                                 \"Dark Horse\"[51]   \n",
       "26                                 \"Let Her Go\"[52]   \n",
       "27                                      \"Faded\"[53]   \n",
       "28                             \"Girls Like You\"[54]   \n",
       "29                                    \"Lean On\"[55]   \n",
       "30                            \"Baby Shark Dance\"[7]   \n",
       "31                                  \"Despacito\"[10]   \n",
       "32                              \"See You Again\"[23]   \n",
       "33                             \"Gangnam Style\"⁂[31]   \n",
       "34                                      \"Baby\"*[69]   \n",
       "35                                \"Bad Romance\"[73]   \n",
       "36                      \"Charlie Bit My Finger\"[77]   \n",
       "37                         \"Evolution of Dance\"[79]   \n",
       "38                            \"Girlfriend\"‡[81][82]   \n",
       "39                         \"Evolution of Dance\"[79]   \n",
       "40                   \"Music Is My Hot Hot Sex\"‡[87]   \n",
       "41                        \"Evolution of Dance\"*[79]   \n",
       "42                 \"Pokémon Theme Music Video\"‡[92]   \n",
       "43                   \"Myspace – The Movie\"‡[97][98]   \n",
       "44                        \"Phony Photo Booth\"‡[101]   \n",
       "45                \"The Chronic of Narnia Rap\"‡[107]   \n",
       "46               \"Ronaldinho: Touch of Gold\"‡*[110]   \n",
       "47                               \"I/O Brush\"‡*[116]   \n",
       "\n",
       "                                        Video Title  \\\n",
       "0                             \"Baby Shark Dance\"[7]   \n",
       "1                                   \"Despacito\"[10]   \n",
       "2                        \"Johny Johny Yes Papa\"[18]   \n",
       "3                                   \"Bath Song\"[19]   \n",
       "4                                \"Shape of You\"[20]   \n",
       "5                               \"See You Again\"[23]   \n",
       "6                           \"Wheels on the Bus\"[28]   \n",
       "7                 \"Phonics Song with Two Words\"[29]   \n",
       "8                                 \"Uptown Funk\"[30]   \n",
       "9                               \"Gangnam Style\"[31]   \n",
       "10  \"Learning Colors – Colorful Eggs on a Farm\"[36]   \n",
       "11                             \"Dame Tu Cosita\"[37]   \n",
       "12   \"Masha and the Bear – Recipe for Disaster\"[38]   \n",
       "13                                     \"Axel F\"[39]   \n",
       "14                                      \"Sugar\"[40]   \n",
       "15                        \"Baa Baa Black Sheep\"[41]   \n",
       "16                             \"Counting Stars\"[42]   \n",
       "17                             \"Lakdi Ki Kathi\"[43]   \n",
       "18                                       \"Roar\"[44]   \n",
       "19           \"Waka Waka (This Time for Africa)\"[45]   \n",
       "20                                      \"Sorry\"[46]   \n",
       "21                      \"Shree Hanuman Chalisa\"[47]   \n",
       "22          \"Humpty the train on a fruits ride\"[48]   \n",
       "23                          \"Thinking Out Loud\"[49]   \n",
       "24                                    \"Perfect\"[50]   \n",
       "25                                 \"Dark Horse\"[51]   \n",
       "26                                 \"Let Her Go\"[52]   \n",
       "27                                      \"Faded\"[53]   \n",
       "28                             \"Girls Like You\"[54]   \n",
       "29                                    \"Lean On\"[55]   \n",
       "30                            \"Baby Shark Dance\"[7]   \n",
       "31                                  \"Despacito\"[10]   \n",
       "32                              \"See You Again\"[23]   \n",
       "33                             \"Gangnam Style\"⁂[31]   \n",
       "34                                      \"Baby\"*[69]   \n",
       "35                                \"Bad Romance\"[73]   \n",
       "36                      \"Charlie Bit My Finger\"[77]   \n",
       "37                         \"Evolution of Dance\"[79]   \n",
       "38                            \"Girlfriend\"‡[81][82]   \n",
       "39                         \"Evolution of Dance\"[79]   \n",
       "40                   \"Music Is My Hot Hot Sex\"‡[87]   \n",
       "41                        \"Evolution of Dance\"*[79]   \n",
       "42                 \"Pokémon Theme Music Video\"‡[92]   \n",
       "43                   \"Myspace – The Movie\"‡[97][98]   \n",
       "44                        \"Phony Photo Booth\"‡[101]   \n",
       "45                \"The Chronic of Narnia Rap\"‡[107]   \n",
       "46               \"Ronaldinho: Touch of Gold\"‡*[110]   \n",
       "47                               \"I/O Brush\"‡*[116]   \n",
       "\n",
       "                                               Artist        Upload_Date  \\\n",
       "0         Pinkfong Baby Shark - Kids' Songs & Stories      June 17, 2016   \n",
       "1                                          Luis Fonsi   January 12, 2017   \n",
       "2   LooLoo Kids - Nursery Rhymes and Children's Songs    October 8, 2016   \n",
       "3                          Cocomelon - Nursery Rhymes        May 2, 2018   \n",
       "4                                          Ed Sheeran   January 30, 2017   \n",
       "5                                         Wiz Khalifa      April 6, 2015   \n",
       "6                          Cocomelon - Nursery Rhymes       May 24, 2018   \n",
       "7               ChuChu TV Nursery Rhymes & Kids Songs      March 6, 2014   \n",
       "8                                         Mark Ronson  November 19, 2014   \n",
       "9                                                 Psy      July 15, 2012   \n",
       "10                                        Miroshka TV  February 27, 2018   \n",
       "11                                      Ultra Records      April 5, 2018   \n",
       "12                                         Get Movies   January 31, 2012   \n",
       "13                                         Crazy Frog      June 16, 2009   \n",
       "14                                           Maroon 5   January 14, 2015   \n",
       "15                         Cocomelon - Nursery Rhymes      June 25, 2018   \n",
       "16                                        OneRepublic       May 31, 2013   \n",
       "17                                       Jingle Toons      June 14, 2018   \n",
       "18                                         Katy Perry  September 5, 2013   \n",
       "19                                            Shakira       June 4, 2010   \n",
       "20                                      Justin Bieber   October 22, 2015   \n",
       "21                              T-Series Bhakti Sagar       May 10, 2011   \n",
       "22      Kiddiestv Hindi - Nursery Rhymes & Kids Songs   January 26, 2018   \n",
       "23                                         Ed Sheeran    October 7, 2014   \n",
       "24                                         Ed Sheeran   November 9, 2017   \n",
       "25                                         Katy Perry  February 20, 2014   \n",
       "26                                          Passenger      July 25, 2012   \n",
       "27                                        Alan Walker   December 3, 2015   \n",
       "28                                           Maroon 5       May 31, 2018   \n",
       "29                               Major Lazer Official     March 22, 2015   \n",
       "30        Pinkfong Baby Shark - Kids' Songs & Stories      June 17, 2016   \n",
       "31                                         Luis Fonsi   January 12, 2017   \n",
       "32                                        Wiz Khalifa      April 6, 2015   \n",
       "33                                                Psy      July 15, 2012   \n",
       "34                                      Justin Bieber  February 19, 2010   \n",
       "35                                          Lady Gaga  November 24, 2009   \n",
       "36                                              HDCYT       May 22, 2007   \n",
       "37                                     Judson Laipply      April 6, 2006   \n",
       "38                                        RCA Records  February 27, 2007   \n",
       "39                                     Judson Laipply      April 6, 2006   \n",
       "40                                     CLARUSBARTEL72      April 9, 2007   \n",
       "41                                     Judson Laipply      April 6, 2006   \n",
       "42                                              Smosh  November 28, 2005   \n",
       "43                                             eggtea   January 31, 2006   \n",
       "44                                          mugenized   December 1, 2005   \n",
       "45                                        youtubedude  December 18, 2005   \n",
       "46                                         Nikesoccer   October 21, 2005   \n",
       "47                                             larfus    October 5, 2005   \n",
       "\n",
       "   Views In Bllion  \n",
       "0            14.32  \n",
       "1             8.41  \n",
       "2             6.89  \n",
       "3             6.66  \n",
       "4             6.23  \n",
       "5             6.22  \n",
       "6             6.01  \n",
       "7             5.75  \n",
       "8             5.18  \n",
       "9             5.10  \n",
       "10            5.09  \n",
       "11            4.59  \n",
       "12            4.57  \n",
       "13            4.45  \n",
       "14            4.02  \n",
       "15            4.01  \n",
       "16            4.00  \n",
       "17            3.98  \n",
       "18            3.98  \n",
       "19            3.89  \n",
       "20            3.78  \n",
       "21            3.77  \n",
       "22            3.76  \n",
       "23            3.75  \n",
       "24            3.70  \n",
       "25            3.70  \n",
       "26            3.64  \n",
       "27            3.60  \n",
       "28            3.58  \n",
       "29            3.57  \n",
       "30   7,046,700,000  \n",
       "31   2,993,700,000  \n",
       "32   2,894,000,000  \n",
       "33     803,700,000  \n",
       "34     245,400,000  \n",
       "35     178,400,000  \n",
       "36     128,900,000  \n",
       "37     118,900,000  \n",
       "38      92,600,000  \n",
       "39      78,400,000  \n",
       "40      76,600,000  \n",
       "41      10,600,000  \n",
       "42       4,300,000  \n",
       "43       2,700,000  \n",
       "44       3,400,000  \n",
       "45       2,300,000  \n",
       "46         255,000  \n",
       "47         247,000  "
      ]
     },
     "execution_count": 11,
     "metadata": {},
     "output_type": "execute_result"
    }
   ],
   "source": [
    "Yt=pd.DataFrame([])\n",
    "Yt['Rank']=Rank\n",
    "Yt['Video Title']=Name\n",
    "Yt['Artist']=Artist\n",
    "Yt['Upload_Date']=Upload_Date\n",
    "Yt['Views In Bllion']=Views\n",
    "Yt"
   ]
  },
  {
   "cell_type": "markdown",
   "metadata": {},
   "source": [
    "# 2. Scrape the details team India’s international fixtures from bcci.tv. "
   ]
  },
  {
   "cell_type": "code",
   "execution_count": 12,
   "metadata": {},
   "outputs": [
    {
     "name": "stderr",
     "output_type": "stream",
     "text": [
      "The chromedriver version (123.0.6312.86) detected in PATH at C:\\Users\\Adeeb Naiyer\\chromedriver.exe might not be compatible with the detected chrome version (124.0.6367.119); currently, chromedriver 124.0.6367.155 is recommended for chrome 124.*, so it is advised to delete the driver in PATH and retry\n"
     ]
    }
   ],
   "source": [
    "driver = webdriver.Chrome()\n",
    "url2=\"https://www.bcci.tv/international/fixtures\"\n",
    "driver.get(url2)"
   ]
  },
  {
   "cell_type": "code",
   "execution_count": 13,
   "metadata": {},
   "outputs": [],
   "source": [
    "Series=[]\n",
    "Place =[]\n",
    "Date =[]\n",
    "Time=[]"
   ]
  },
  {
   "cell_type": "code",
   "execution_count": 14,
   "metadata": {},
   "outputs": [],
   "source": [
    "search_1 = driver.find_element(By.XPATH, '//div[@class=\"imw-tabs international-tabs\"]/a[2]')      \n",
    "search_1.click()"
   ]
  },
  {
   "cell_type": "code",
   "execution_count": 15,
   "metadata": {},
   "outputs": [
    {
     "name": "stdout",
     "output_type": "stream",
     "text": [
      "['ICC MENS T20 WORLD CUP 2024', 'ICC MENS T20 WORLD CUP 2024', 'ICC MENS T20 WORLD CUP 2024', 'ICC MENS T20 WORLD CUP 2024', 'INDIA TOUR OF ZIMBABWE 2024', 'INDIA TOUR OF ZIMBABWE 2024', 'INDIA TOUR OF ZIMBABWE 2024', 'INDIA TOUR OF ZIMBABWE 2024', 'INDIA TOUR OF ZIMBABWE 2024']\n"
     ]
    }
   ],
   "source": [
    "#series\n",
    "sr=driver.find_elements(By.XPATH, '//h5[@class=\"match-tournament-name ng-binding\"]')\n",
    "for i in sr:\n",
    "    if i.text is None :\n",
    "        Series.append(\"--\") \n",
    "    else:\n",
    "        Series.append(i.text)\n",
    "print(Series)"
   ]
  },
  {
   "cell_type": "code",
   "execution_count": 16,
   "metadata": {},
   "outputs": [
    {
     "name": "stdout",
     "output_type": "stream",
     "text": [
      "['Nassau County International Cricket Stadium,', 'Nassau County International Cricket Stadium,', 'Nassau County International Cricket Stadium,', 'Central Broward Park & Broward County Stadium, Lauderhill,', 'Harare Sports Club,', 'Harare Sports Club,', 'Harare Sports Club,', 'Harare Sports Club,', 'Harare Sports Club,']\n"
     ]
    }
   ],
   "source": [
    "#place\n",
    "pl=driver.find_elements(By.XPATH, '//span[@class=\"ng-binding ng-scope\"]')\n",
    "for i in pl:\n",
    "    if i.text is None :\n",
    "        Place.append(\"--\") \n",
    "    else:\n",
    "        Place.append(i.text)\n",
    "print(Place)"
   ]
  },
  {
   "cell_type": "code",
   "execution_count": 17,
   "metadata": {},
   "outputs": [
    {
     "name": "stdout",
     "output_type": "stream",
     "text": [
      "['5 JUNE, 2024', '9 JUNE, 2024', '12 JUNE, 2024', '15 JUNE, 2024', '6 JULY, 2024', '7 JULY, 2024', '10 JULY, 2024', '13 JULY, 2024', '14 JULY, 2024']\n"
     ]
    }
   ],
   "source": [
    "#date\n",
    "G=driver.find_elements(By.XPATH, '//div[@class=\"match-dates ng-binding\"]')\n",
    "for i in G:\n",
    "    if i.text is None :\n",
    "        Date.append(\"--\") \n",
    "    else:\n",
    "        Date.append(i.text)\n",
    "print(Date)"
   ]
  },
  {
   "cell_type": "code",
   "execution_count": 18,
   "metadata": {},
   "outputs": [
    {
     "name": "stdout",
     "output_type": "stream",
     "text": [
      "['3:30 PM IST', '3:30 PM IST', '3:30 PM IST', '3:30 PM IST', '3:30 PM IST', '3:30 PM IST', '3:30 PM IST', '3:30 PM IST', '3:30 PM IST']\n"
     ]
    }
   ],
   "source": [
    "#time\n",
    "TO=driver.find_elements(By.XPATH, '//div[@class=\"match-time no-margin ng-binding\"]')\n",
    "for i in TO:\n",
    "    if i.text is None :\n",
    "        Time.append(\"--\") \n",
    "    else:\n",
    "        Time.append(i.text)\n",
    "print(Time)"
   ]
  },
  {
   "cell_type": "code",
   "execution_count": 19,
   "metadata": {},
   "outputs": [
    {
     "data": {
      "text/html": [
       "<div>\n",
       "<style scoped>\n",
       "    .dataframe tbody tr th:only-of-type {\n",
       "        vertical-align: middle;\n",
       "    }\n",
       "\n",
       "    .dataframe tbody tr th {\n",
       "        vertical-align: top;\n",
       "    }\n",
       "\n",
       "    .dataframe thead th {\n",
       "        text-align: right;\n",
       "    }\n",
       "</style>\n",
       "<table border=\"1\" class=\"dataframe\">\n",
       "  <thead>\n",
       "    <tr style=\"text-align: right;\">\n",
       "      <th></th>\n",
       "      <th>Series</th>\n",
       "      <th>Place</th>\n",
       "      <th>Date</th>\n",
       "      <th>Time</th>\n",
       "    </tr>\n",
       "  </thead>\n",
       "  <tbody>\n",
       "    <tr>\n",
       "      <th>0</th>\n",
       "      <td>ICC MENS T20 WORLD CUP 2024</td>\n",
       "      <td>Nassau County International Cricket Stadium,</td>\n",
       "      <td>5 JUNE, 2024</td>\n",
       "      <td>3:30 PM IST</td>\n",
       "    </tr>\n",
       "    <tr>\n",
       "      <th>1</th>\n",
       "      <td>ICC MENS T20 WORLD CUP 2024</td>\n",
       "      <td>Nassau County International Cricket Stadium,</td>\n",
       "      <td>9 JUNE, 2024</td>\n",
       "      <td>3:30 PM IST</td>\n",
       "    </tr>\n",
       "    <tr>\n",
       "      <th>2</th>\n",
       "      <td>ICC MENS T20 WORLD CUP 2024</td>\n",
       "      <td>Nassau County International Cricket Stadium,</td>\n",
       "      <td>12 JUNE, 2024</td>\n",
       "      <td>3:30 PM IST</td>\n",
       "    </tr>\n",
       "    <tr>\n",
       "      <th>3</th>\n",
       "      <td>ICC MENS T20 WORLD CUP 2024</td>\n",
       "      <td>Central Broward Park &amp; Broward County Stadium,...</td>\n",
       "      <td>15 JUNE, 2024</td>\n",
       "      <td>3:30 PM IST</td>\n",
       "    </tr>\n",
       "    <tr>\n",
       "      <th>4</th>\n",
       "      <td>INDIA TOUR OF ZIMBABWE 2024</td>\n",
       "      <td>Harare Sports Club,</td>\n",
       "      <td>6 JULY, 2024</td>\n",
       "      <td>3:30 PM IST</td>\n",
       "    </tr>\n",
       "    <tr>\n",
       "      <th>5</th>\n",
       "      <td>INDIA TOUR OF ZIMBABWE 2024</td>\n",
       "      <td>Harare Sports Club,</td>\n",
       "      <td>7 JULY, 2024</td>\n",
       "      <td>3:30 PM IST</td>\n",
       "    </tr>\n",
       "    <tr>\n",
       "      <th>6</th>\n",
       "      <td>INDIA TOUR OF ZIMBABWE 2024</td>\n",
       "      <td>Harare Sports Club,</td>\n",
       "      <td>10 JULY, 2024</td>\n",
       "      <td>3:30 PM IST</td>\n",
       "    </tr>\n",
       "    <tr>\n",
       "      <th>7</th>\n",
       "      <td>INDIA TOUR OF ZIMBABWE 2024</td>\n",
       "      <td>Harare Sports Club,</td>\n",
       "      <td>13 JULY, 2024</td>\n",
       "      <td>3:30 PM IST</td>\n",
       "    </tr>\n",
       "    <tr>\n",
       "      <th>8</th>\n",
       "      <td>INDIA TOUR OF ZIMBABWE 2024</td>\n",
       "      <td>Harare Sports Club,</td>\n",
       "      <td>14 JULY, 2024</td>\n",
       "      <td>3:30 PM IST</td>\n",
       "    </tr>\n",
       "  </tbody>\n",
       "</table>\n",
       "</div>"
      ],
      "text/plain": [
       "                        Series  \\\n",
       "0  ICC MENS T20 WORLD CUP 2024   \n",
       "1  ICC MENS T20 WORLD CUP 2024   \n",
       "2  ICC MENS T20 WORLD CUP 2024   \n",
       "3  ICC MENS T20 WORLD CUP 2024   \n",
       "4  INDIA TOUR OF ZIMBABWE 2024   \n",
       "5  INDIA TOUR OF ZIMBABWE 2024   \n",
       "6  INDIA TOUR OF ZIMBABWE 2024   \n",
       "7  INDIA TOUR OF ZIMBABWE 2024   \n",
       "8  INDIA TOUR OF ZIMBABWE 2024   \n",
       "\n",
       "                                               Place           Date  \\\n",
       "0       Nassau County International Cricket Stadium,   5 JUNE, 2024   \n",
       "1       Nassau County International Cricket Stadium,   9 JUNE, 2024   \n",
       "2       Nassau County International Cricket Stadium,  12 JUNE, 2024   \n",
       "3  Central Broward Park & Broward County Stadium,...  15 JUNE, 2024   \n",
       "4                                Harare Sports Club,   6 JULY, 2024   \n",
       "5                                Harare Sports Club,   7 JULY, 2024   \n",
       "6                                Harare Sports Club,  10 JULY, 2024   \n",
       "7                                Harare Sports Club,  13 JULY, 2024   \n",
       "8                                Harare Sports Club,  14 JULY, 2024   \n",
       "\n",
       "          Time  \n",
       "0  3:30 PM IST  \n",
       "1  3:30 PM IST  \n",
       "2  3:30 PM IST  \n",
       "3  3:30 PM IST  \n",
       "4  3:30 PM IST  \n",
       "5  3:30 PM IST  \n",
       "6  3:30 PM IST  \n",
       "7  3:30 PM IST  \n",
       "8  3:30 PM IST  "
      ]
     },
     "execution_count": 19,
     "metadata": {},
     "output_type": "execute_result"
    }
   ],
   "source": [
    "IF=pd.DataFrame([])\n",
    "IF['Series']=Series\n",
    "IF['Place']=Place\n",
    "IF['Date']=Date\n",
    "IF['Time']=Time\n",
    "IF"
   ]
  },
  {
   "cell_type": "markdown",
   "metadata": {},
   "source": [
    "# 3. Scrape the details of State-wise GDP of India from statisticstime.com. "
   ]
  },
  {
   "cell_type": "code",
   "execution_count": 20,
   "metadata": {},
   "outputs": [
    {
     "name": "stderr",
     "output_type": "stream",
     "text": [
      "The chromedriver version (123.0.6312.86) detected in PATH at C:\\Users\\Adeeb Naiyer\\chromedriver.exe might not be compatible with the detected chrome version (124.0.6367.119); currently, chromedriver 124.0.6367.155 is recommended for chrome 124.*, so it is advised to delete the driver in PATH and retry\n"
     ]
    }
   ],
   "source": [
    "driver = webdriver.Chrome()\n",
    "url3=\"http://statisticstimes.com/\"\n",
    "driver.get(url3)"
   ]
  },
  {
   "cell_type": "code",
   "execution_count": 21,
   "metadata": {},
   "outputs": [],
   "source": [
    "Rank=[]\n",
    "State=[]\n",
    "GSDP_18_19=[]\n",
    "GSDP_19_20=[]\n",
    "Share_18_19=[]\n",
    "GDP=[]"
   ]
  },
  {
   "cell_type": "code",
   "execution_count": 22,
   "metadata": {},
   "outputs": [],
   "source": [
    "economy = driver.find_element(By.XPATH, '//*[@id=\"top\"]/div[2]/div[2]/button')     \n",
    "economy.click()"
   ]
  },
  {
   "cell_type": "code",
   "execution_count": 23,
   "metadata": {},
   "outputs": [],
   "source": [
    "india = driver.find_element(By.XPATH, '//*[@id=\"top\"]/div[2]/div[2]/div/a[3]')       \n",
    "india.click()"
   ]
  },
  {
   "cell_type": "code",
   "execution_count": 24,
   "metadata": {},
   "outputs": [],
   "source": [
    "gdp = driver.find_element(By.XPATH, '/html/body/div[2]/div[2]/div[2]/ul/li[1]/a')      \n",
    "gdp.click()"
   ]
  },
  {
   "cell_type": "code",
   "execution_count": 25,
   "metadata": {},
   "outputs": [
    {
     "name": "stdout",
     "output_type": "stream",
     "text": [
      "68 ['1', '2', '3', '4', '5', '6', '7', '8', '9', '10', '11', '12', '13', '14', '15', '16', '17', '18', '19', '20', '21', '22', '23', '24', '25', '26', '27', '28', '29', '30', '31', '32', '33', '', '1', '2', '3', '4', '5', '6', '7', '8', '9', '10', '11', '12', '13', '14', '15', '16', '17', '18', '19', '20', '21', '22', '23', '24', '25', '26', '27', '28', '29', '30', '31', '32', '33', '']\n"
     ]
    }
   ],
   "source": [
    "#scraping the Rank \n",
    "r=driver.find_elements(By.XPATH, \"//td[@class='data1']\")\n",
    "for i in r:\n",
    "    if i.text is None :\n",
    "        Rank.append(\"--\") \n",
    "    else:\n",
    "        Rank.append(i.text)\n",
    "print(len(Rank),Rank)"
   ]
  },
  {
   "cell_type": "code",
   "execution_count": 26,
   "metadata": {},
   "outputs": [
    {
     "name": "stdout",
     "output_type": "stream",
     "text": [
      "68 ['Maharashtra', 'Tamil Nadu', 'Karnataka', 'Uttar Pradesh', 'Gujarat', 'West Bengal', 'Rajasthan', 'Andhra Pradesh', 'Telangana', 'Madhya Pradesh', 'Kerala', 'Delhi', 'Haryana', 'Odisha', 'Bihar', 'Punjab', 'Assam', 'Chhattisgarh', 'Jharkhand', 'Uttarakhand', 'Jammu & Kashmir', 'Himachal Pradesh', 'Goa', 'Tripura', 'Chandigarh', 'Puducherry', 'Meghalaya', 'Sikkim', 'Manipur', 'Arunachal Pradesh', 'Nagaland', 'Mizoram', 'Andaman & Nicobar Islands', 'India', 'Maharashtra', 'Tamil Nadu', 'Karnataka', 'Uttar Pradesh', 'Gujarat', 'West Bengal', 'Rajasthan', 'Andhra Pradesh', 'Telangana', 'Madhya Pradesh', 'Kerala', 'Delhi', 'Haryana', 'Bihar', 'Odisha', 'Punjab', 'Assam', 'Chhattisgarh', 'Jharkhand', 'Uttarakhand', 'Jammu & Kashmir', 'Himachal Pradesh', 'Goa', 'Tripura', 'Chandigarh', 'Puducherry', 'Meghalaya', 'Manipur', 'Sikkim', 'Arunachal Pradesh', 'Nagaland', 'Mizoram', 'Andaman & Nicobar Islands', 'India']\n"
     ]
    }
   ],
   "source": [
    "#scraping the State \n",
    "St=driver.find_elements(By.XPATH, \"//td[@class='name']\")\n",
    "for i in St:\n",
    "    if i.text is None :\n",
    "        State.append(\"--\") \n",
    "    else:\n",
    "        State.append(i.text)\n",
    "print(len(State),State)"
   ]
  },
  {
   "cell_type": "code",
   "execution_count": 27,
   "metadata": {},
   "outputs": [
    {
     "name": "stdout",
     "output_type": "stream",
     "text": [
      "33 ['-', '2,364,514', '2,269,995', '2,258,040', '2,230,609', '1,531,758', '1,365,849', '1,303,524', '1,308,034', '1,246,471', '1,046,188', '1,014,688', '984,055', '753,177', '751,396', '676,164', '493,167', '464,399', '393,722', '303,781', '224,226', '191,728', '93,672', '72,636', '54,285', '49,643', '42,697', '42,756', '-', '39,630', '35,643', '-', '-']\n"
     ]
    }
   ],
   "source": [
    "#scraping GSDP for 22-23\n",
    "gdp=driver.find_elements(By.XPATH, '//table[@id=\"table_id\"]/tbody/tr/td[4]')\n",
    "for i in gdp:\n",
    "    if i.text is None :\n",
    "        GSDP_18_19.append(\"--\") \n",
    "    else:\n",
    "        GSDP_18_19.append(i.text)\n",
    "print(len(GSDP_18_19),GSDP_18_19)"
   ]
  },
  {
   "cell_type": "code",
   "execution_count": 28,
   "metadata": {},
   "outputs": [
    {
     "name": "stdout",
     "output_type": "stream",
     "text": [
      "33 ['3,108,022', '2,071,286', '1,978,094', '1,975,595', '1,928,683', '1,329,238', '1,193,489', '1,148,471', '1,124,204', '1,092,964', '934,542', '881,336', '868,905', '662,886', '650,302', '617,192', '411,454', '410,525', '358,863', '267,143', '193,352', '172,162', '84,266', '62,550', '46,096', '43,810', '38,785', '37,557', '36,594', '34,775', '31,038', '27,824', '10,371']\n"
     ]
    }
   ],
   "source": [
    "#scraping the GSDP 23-24\n",
    "\n",
    "gdp=driver.find_elements(By.XPATH, '//table[@id=\"table_id\"]/tbody/tr/td[5]')\n",
    "for i in gdp:\n",
    "    if i.text is None :\n",
    "        GSDP_19_20.append(\"--\") \n",
    "    else:\n",
    "        GSDP_19_20.append(i.text)\n",
    "print(len(GSDP_19_20),GSDP_19_20)"
   ]
  },
  {
   "cell_type": "code",
   "execution_count": 29,
   "metadata": {},
   "outputs": [
    {
     "name": "stdout",
     "output_type": "stream",
     "text": [
      "33 ['13.17%', '8.78%', '8.38%', '8.37%', '8.17%', '5.63%', '5.06%', '4.87%', '4.76%', '4.63%', '3.96%', '3.73%', '3.68%', '2.81%', '2.76%', '2.62%', '1.74%', '1.74%', '1.52%', '1.13%', '0.82%', '0.73%', '0.36%', '0.27%', '0.20%', '0.19%', '0.16%', '0.16%', '0.16%', '0.15%', '0.13%', '0.12%', '0.04%']\n"
     ]
    }
   ],
   "source": [
    "#scraping the Share \n",
    "shr=driver.find_elements(By.XPATH, '//table[@id=\"table_id\"]/tbody/tr/td[6]')\n",
    "for i in shr:\n",
    "    if i.text is None :\n",
    "        Share_18_19.append(\"--\") \n",
    "    else:\n",
    "        Share_18_19.append(i.text)\n",
    "print(len(Share_18_19),Share_18_19)"
   ]
  },
  {
   "cell_type": "code",
   "execution_count": 30,
   "metadata": {},
   "outputs": [
    {
     "name": "stdout",
     "output_type": "stream",
     "text": [
      "33 ['414.928', '276.522', '264.080', '263.747', '257.484', '177.456', '159.334', '153.324', '150.084', '145.913', '124.764', '117.660', '116.001', '88.497', '86.817', '82.397', '54.930', '54.806', '47.909', '35.664', '25.813', '22.984', '11.250', '8.351', '6.154', '5.849', '5.178', '5.014', '4.885', '4.643', '4.144', '3.715', '1.385']\n"
     ]
    }
   ],
   "source": [
    "#scraping the GDP\n",
    "gd=driver.find_elements(By.XPATH, '//table[@id=\"table_id\"]/tbody/tr/td[7]')\n",
    "for i in gd:\n",
    "    if i.text is None :\n",
    "        GDP.append(\"--\") \n",
    "    else:\n",
    "        GDP.append(i.text)\n",
    "print(len(GDP),GDP)"
   ]
  },
  {
   "cell_type": "code",
   "execution_count": 31,
   "metadata": {},
   "outputs": [
    {
     "data": {
      "text/html": [
       "<div>\n",
       "<style scoped>\n",
       "    .dataframe tbody tr th:only-of-type {\n",
       "        vertical-align: middle;\n",
       "    }\n",
       "\n",
       "    .dataframe tbody tr th {\n",
       "        vertical-align: top;\n",
       "    }\n",
       "\n",
       "    .dataframe thead th {\n",
       "        text-align: right;\n",
       "    }\n",
       "</style>\n",
       "<table border=\"1\" class=\"dataframe\">\n",
       "  <thead>\n",
       "    <tr style=\"text-align: right;\">\n",
       "      <th></th>\n",
       "      <th>Rank</th>\n",
       "      <th>State</th>\n",
       "      <th>GSDP 2022-23</th>\n",
       "      <th>GSDP 2023-24</th>\n",
       "      <th>Share</th>\n",
       "      <th>GDP</th>\n",
       "    </tr>\n",
       "  </thead>\n",
       "  <tbody>\n",
       "    <tr>\n",
       "      <th>0</th>\n",
       "      <td>1</td>\n",
       "      <td>Maharashtra</td>\n",
       "      <td>-</td>\n",
       "      <td>3,108,022</td>\n",
       "      <td>13.17%</td>\n",
       "      <td>414.928</td>\n",
       "    </tr>\n",
       "    <tr>\n",
       "      <th>1</th>\n",
       "      <td>2</td>\n",
       "      <td>Tamil Nadu</td>\n",
       "      <td>2,364,514</td>\n",
       "      <td>2,071,286</td>\n",
       "      <td>8.78%</td>\n",
       "      <td>276.522</td>\n",
       "    </tr>\n",
       "    <tr>\n",
       "      <th>2</th>\n",
       "      <td>3</td>\n",
       "      <td>Karnataka</td>\n",
       "      <td>2,269,995</td>\n",
       "      <td>1,978,094</td>\n",
       "      <td>8.38%</td>\n",
       "      <td>264.080</td>\n",
       "    </tr>\n",
       "    <tr>\n",
       "      <th>3</th>\n",
       "      <td>4</td>\n",
       "      <td>Uttar Pradesh</td>\n",
       "      <td>2,258,040</td>\n",
       "      <td>1,975,595</td>\n",
       "      <td>8.37%</td>\n",
       "      <td>263.747</td>\n",
       "    </tr>\n",
       "    <tr>\n",
       "      <th>4</th>\n",
       "      <td>5</td>\n",
       "      <td>Gujarat</td>\n",
       "      <td>2,230,609</td>\n",
       "      <td>1,928,683</td>\n",
       "      <td>8.17%</td>\n",
       "      <td>257.484</td>\n",
       "    </tr>\n",
       "    <tr>\n",
       "      <th>5</th>\n",
       "      <td>6</td>\n",
       "      <td>West Bengal</td>\n",
       "      <td>1,531,758</td>\n",
       "      <td>1,329,238</td>\n",
       "      <td>5.63%</td>\n",
       "      <td>177.456</td>\n",
       "    </tr>\n",
       "    <tr>\n",
       "      <th>6</th>\n",
       "      <td>7</td>\n",
       "      <td>Rajasthan</td>\n",
       "      <td>1,365,849</td>\n",
       "      <td>1,193,489</td>\n",
       "      <td>5.06%</td>\n",
       "      <td>159.334</td>\n",
       "    </tr>\n",
       "    <tr>\n",
       "      <th>7</th>\n",
       "      <td>8</td>\n",
       "      <td>Andhra Pradesh</td>\n",
       "      <td>1,303,524</td>\n",
       "      <td>1,148,471</td>\n",
       "      <td>4.87%</td>\n",
       "      <td>153.324</td>\n",
       "    </tr>\n",
       "    <tr>\n",
       "      <th>8</th>\n",
       "      <td>9</td>\n",
       "      <td>Telangana</td>\n",
       "      <td>1,308,034</td>\n",
       "      <td>1,124,204</td>\n",
       "      <td>4.76%</td>\n",
       "      <td>150.084</td>\n",
       "    </tr>\n",
       "    <tr>\n",
       "      <th>9</th>\n",
       "      <td>10</td>\n",
       "      <td>Madhya Pradesh</td>\n",
       "      <td>1,246,471</td>\n",
       "      <td>1,092,964</td>\n",
       "      <td>4.63%</td>\n",
       "      <td>145.913</td>\n",
       "    </tr>\n",
       "    <tr>\n",
       "      <th>10</th>\n",
       "      <td>11</td>\n",
       "      <td>Kerala</td>\n",
       "      <td>1,046,188</td>\n",
       "      <td>934,542</td>\n",
       "      <td>3.96%</td>\n",
       "      <td>124.764</td>\n",
       "    </tr>\n",
       "    <tr>\n",
       "      <th>11</th>\n",
       "      <td>12</td>\n",
       "      <td>Delhi</td>\n",
       "      <td>1,014,688</td>\n",
       "      <td>881,336</td>\n",
       "      <td>3.73%</td>\n",
       "      <td>117.660</td>\n",
       "    </tr>\n",
       "    <tr>\n",
       "      <th>12</th>\n",
       "      <td>13</td>\n",
       "      <td>Haryana</td>\n",
       "      <td>984,055</td>\n",
       "      <td>868,905</td>\n",
       "      <td>3.68%</td>\n",
       "      <td>116.001</td>\n",
       "    </tr>\n",
       "    <tr>\n",
       "      <th>13</th>\n",
       "      <td>14</td>\n",
       "      <td>Odisha</td>\n",
       "      <td>753,177</td>\n",
       "      <td>662,886</td>\n",
       "      <td>2.81%</td>\n",
       "      <td>88.497</td>\n",
       "    </tr>\n",
       "    <tr>\n",
       "      <th>14</th>\n",
       "      <td>15</td>\n",
       "      <td>Bihar</td>\n",
       "      <td>751,396</td>\n",
       "      <td>650,302</td>\n",
       "      <td>2.76%</td>\n",
       "      <td>86.817</td>\n",
       "    </tr>\n",
       "    <tr>\n",
       "      <th>15</th>\n",
       "      <td>16</td>\n",
       "      <td>Punjab</td>\n",
       "      <td>676,164</td>\n",
       "      <td>617,192</td>\n",
       "      <td>2.62%</td>\n",
       "      <td>82.397</td>\n",
       "    </tr>\n",
       "    <tr>\n",
       "      <th>16</th>\n",
       "      <td>17</td>\n",
       "      <td>Assam</td>\n",
       "      <td>493,167</td>\n",
       "      <td>411,454</td>\n",
       "      <td>1.74%</td>\n",
       "      <td>54.930</td>\n",
       "    </tr>\n",
       "    <tr>\n",
       "      <th>17</th>\n",
       "      <td>18</td>\n",
       "      <td>Chhattisgarh</td>\n",
       "      <td>464,399</td>\n",
       "      <td>410,525</td>\n",
       "      <td>1.74%</td>\n",
       "      <td>54.806</td>\n",
       "    </tr>\n",
       "    <tr>\n",
       "      <th>18</th>\n",
       "      <td>19</td>\n",
       "      <td>Jharkhand</td>\n",
       "      <td>393,722</td>\n",
       "      <td>358,863</td>\n",
       "      <td>1.52%</td>\n",
       "      <td>47.909</td>\n",
       "    </tr>\n",
       "    <tr>\n",
       "      <th>19</th>\n",
       "      <td>20</td>\n",
       "      <td>Uttarakhand</td>\n",
       "      <td>303,781</td>\n",
       "      <td>267,143</td>\n",
       "      <td>1.13%</td>\n",
       "      <td>35.664</td>\n",
       "    </tr>\n",
       "    <tr>\n",
       "      <th>20</th>\n",
       "      <td>21</td>\n",
       "      <td>Jammu &amp; Kashmir</td>\n",
       "      <td>224,226</td>\n",
       "      <td>193,352</td>\n",
       "      <td>0.82%</td>\n",
       "      <td>25.813</td>\n",
       "    </tr>\n",
       "    <tr>\n",
       "      <th>21</th>\n",
       "      <td>22</td>\n",
       "      <td>Himachal Pradesh</td>\n",
       "      <td>191,728</td>\n",
       "      <td>172,162</td>\n",
       "      <td>0.73%</td>\n",
       "      <td>22.984</td>\n",
       "    </tr>\n",
       "    <tr>\n",
       "      <th>22</th>\n",
       "      <td>23</td>\n",
       "      <td>Goa</td>\n",
       "      <td>93,672</td>\n",
       "      <td>84,266</td>\n",
       "      <td>0.36%</td>\n",
       "      <td>11.250</td>\n",
       "    </tr>\n",
       "    <tr>\n",
       "      <th>23</th>\n",
       "      <td>24</td>\n",
       "      <td>Tripura</td>\n",
       "      <td>72,636</td>\n",
       "      <td>62,550</td>\n",
       "      <td>0.27%</td>\n",
       "      <td>8.351</td>\n",
       "    </tr>\n",
       "    <tr>\n",
       "      <th>24</th>\n",
       "      <td>25</td>\n",
       "      <td>Chandigarh</td>\n",
       "      <td>54,285</td>\n",
       "      <td>46,096</td>\n",
       "      <td>0.20%</td>\n",
       "      <td>6.154</td>\n",
       "    </tr>\n",
       "    <tr>\n",
       "      <th>25</th>\n",
       "      <td>26</td>\n",
       "      <td>Puducherry</td>\n",
       "      <td>49,643</td>\n",
       "      <td>43,810</td>\n",
       "      <td>0.19%</td>\n",
       "      <td>5.849</td>\n",
       "    </tr>\n",
       "    <tr>\n",
       "      <th>26</th>\n",
       "      <td>27</td>\n",
       "      <td>Meghalaya</td>\n",
       "      <td>42,697</td>\n",
       "      <td>38,785</td>\n",
       "      <td>0.16%</td>\n",
       "      <td>5.178</td>\n",
       "    </tr>\n",
       "    <tr>\n",
       "      <th>27</th>\n",
       "      <td>28</td>\n",
       "      <td>Sikkim</td>\n",
       "      <td>42,756</td>\n",
       "      <td>37,557</td>\n",
       "      <td>0.16%</td>\n",
       "      <td>5.014</td>\n",
       "    </tr>\n",
       "    <tr>\n",
       "      <th>28</th>\n",
       "      <td>29</td>\n",
       "      <td>Manipur</td>\n",
       "      <td>-</td>\n",
       "      <td>36,594</td>\n",
       "      <td>0.16%</td>\n",
       "      <td>4.885</td>\n",
       "    </tr>\n",
       "    <tr>\n",
       "      <th>29</th>\n",
       "      <td>30</td>\n",
       "      <td>Arunachal Pradesh</td>\n",
       "      <td>39,630</td>\n",
       "      <td>34,775</td>\n",
       "      <td>0.15%</td>\n",
       "      <td>4.643</td>\n",
       "    </tr>\n",
       "    <tr>\n",
       "      <th>30</th>\n",
       "      <td>31</td>\n",
       "      <td>Nagaland</td>\n",
       "      <td>35,643</td>\n",
       "      <td>31,038</td>\n",
       "      <td>0.13%</td>\n",
       "      <td>4.144</td>\n",
       "    </tr>\n",
       "    <tr>\n",
       "      <th>31</th>\n",
       "      <td>32</td>\n",
       "      <td>Mizoram</td>\n",
       "      <td>-</td>\n",
       "      <td>27,824</td>\n",
       "      <td>0.12%</td>\n",
       "      <td>3.715</td>\n",
       "    </tr>\n",
       "    <tr>\n",
       "      <th>32</th>\n",
       "      <td>33</td>\n",
       "      <td>Andaman &amp; Nicobar Islands</td>\n",
       "      <td>-</td>\n",
       "      <td>10,371</td>\n",
       "      <td>0.04%</td>\n",
       "      <td>1.385</td>\n",
       "    </tr>\n",
       "  </tbody>\n",
       "</table>\n",
       "</div>"
      ],
      "text/plain": [
       "   Rank                      State GSDP 2022-23 GSDP 2023-24   Share      GDP\n",
       "0     1                Maharashtra            -    3,108,022  13.17%  414.928\n",
       "1     2                 Tamil Nadu    2,364,514    2,071,286   8.78%  276.522\n",
       "2     3                  Karnataka    2,269,995    1,978,094   8.38%  264.080\n",
       "3     4              Uttar Pradesh    2,258,040    1,975,595   8.37%  263.747\n",
       "4     5                    Gujarat    2,230,609    1,928,683   8.17%  257.484\n",
       "5     6                West Bengal    1,531,758    1,329,238   5.63%  177.456\n",
       "6     7                  Rajasthan    1,365,849    1,193,489   5.06%  159.334\n",
       "7     8             Andhra Pradesh    1,303,524    1,148,471   4.87%  153.324\n",
       "8     9                  Telangana    1,308,034    1,124,204   4.76%  150.084\n",
       "9    10             Madhya Pradesh    1,246,471    1,092,964   4.63%  145.913\n",
       "10   11                     Kerala    1,046,188      934,542   3.96%  124.764\n",
       "11   12                      Delhi    1,014,688      881,336   3.73%  117.660\n",
       "12   13                    Haryana      984,055      868,905   3.68%  116.001\n",
       "13   14                     Odisha      753,177      662,886   2.81%   88.497\n",
       "14   15                      Bihar      751,396      650,302   2.76%   86.817\n",
       "15   16                     Punjab      676,164      617,192   2.62%   82.397\n",
       "16   17                      Assam      493,167      411,454   1.74%   54.930\n",
       "17   18               Chhattisgarh      464,399      410,525   1.74%   54.806\n",
       "18   19                  Jharkhand      393,722      358,863   1.52%   47.909\n",
       "19   20                Uttarakhand      303,781      267,143   1.13%   35.664\n",
       "20   21            Jammu & Kashmir      224,226      193,352   0.82%   25.813\n",
       "21   22           Himachal Pradesh      191,728      172,162   0.73%   22.984\n",
       "22   23                        Goa       93,672       84,266   0.36%   11.250\n",
       "23   24                    Tripura       72,636       62,550   0.27%    8.351\n",
       "24   25                 Chandigarh       54,285       46,096   0.20%    6.154\n",
       "25   26                 Puducherry       49,643       43,810   0.19%    5.849\n",
       "26   27                  Meghalaya       42,697       38,785   0.16%    5.178\n",
       "27   28                     Sikkim       42,756       37,557   0.16%    5.014\n",
       "28   29                    Manipur            -       36,594   0.16%    4.885\n",
       "29   30          Arunachal Pradesh       39,630       34,775   0.15%    4.643\n",
       "30   31                   Nagaland       35,643       31,038   0.13%    4.144\n",
       "31   32                    Mizoram            -       27,824   0.12%    3.715\n",
       "32   33  Andaman & Nicobar Islands            -       10,371   0.04%    1.385"
      ]
     },
     "execution_count": 31,
     "metadata": {},
     "output_type": "execute_result"
    }
   ],
   "source": [
    "State_GDP=pd.DataFrame([])\n",
    "State_GDP['Rank']=Rank[:33]\n",
    "State_GDP['State']=State[:33]\n",
    "State_GDP['GSDP 2022-23']=GSDP_18_19[:33]\n",
    "State_GDP['GSDP 2023-24']=GSDP_19_20[:33]\n",
    "State_GDP['Share']=Share_18_19[:33]\n",
    "State_GDP['GDP']=GDP[:33]\n",
    "State_GDP"
   ]
  },
  {
   "cell_type": "markdown",
   "metadata": {},
   "source": [
    "# 4. Scrape the details of trending repositories on Github.com. "
   ]
  },
  {
   "cell_type": "code",
   "execution_count": 32,
   "metadata": {},
   "outputs": [
    {
     "name": "stderr",
     "output_type": "stream",
     "text": [
      "The chromedriver version (123.0.6312.86) detected in PATH at C:\\Users\\Adeeb Naiyer\\chromedriver.exe might not be compatible with the detected chrome version (124.0.6367.119); currently, chromedriver 124.0.6367.155 is recommended for chrome 124.*, so it is advised to delete the driver in PATH and retry\n"
     ]
    }
   ],
   "source": [
    "driver = webdriver.Chrome()\n",
    "url4=\"https://github.com/\"\n",
    "driver.get(url4)"
   ]
  },
  {
   "cell_type": "code",
   "execution_count": 33,
   "metadata": {},
   "outputs": [],
   "source": [
    "RT =[]\n",
    "RD =[]\n",
    "# Contributors=[]\n",
    "Language=[]"
   ]
  },
  {
   "cell_type": "code",
   "execution_count": 34,
   "metadata": {},
   "outputs": [],
   "source": [
    "explore = driver.find_element(By.XPATH, '/html/body/div[1]/div[1]/header/div/div[2]/div/nav/ul/li[3]/button')      \n",
    "explore.click()"
   ]
  },
  {
   "cell_type": "code",
   "execution_count": 35,
   "metadata": {},
   "outputs": [],
   "source": [
    "trending = driver.find_element(By.XPATH, '/html/body/div[1]/div[1]/header/div/div[2]/div/nav/ul/li[3]/div/div[3]/ul/li[2]/a')  \n",
    "trending.click()"
   ]
  },
  {
   "cell_type": "code",
   "execution_count": 36,
   "metadata": {},
   "outputs": [
    {
     "name": "stdout",
     "output_type": "stream",
     "text": [
      "25 ['VinciGit00 / Scrapegraph-ai', 'toeverything / AFFiNE', 'IvanGlinkin / CCTV', 'Skyvern-AI / skyvern', 'huggingface / lerobot', 'ejoy / ant', 'OpenDevin / OpenDevin', 'rustdesk / rustdesk', 'pagefaultgames / pokerogue', 'AtotheY / saas-landingpage', 'tangzhiyao / boss-show-time', 'Blealtan / efficient-kan', 'phenaproxima / starshot-prototype', 'HqWu-HITCS / Awesome-Chinese-LLM', 'airbnb / lottie-ios', 'FunkinCrew / Funkin', 'AdityaNG / kan-gpt', 'deepseek-ai / DeepSeek-V2', 'assafelovic / gpt-researcher', 'commaai / openpilot', 'infiniflow / ragflow', 'CorentinTh / it-tools', 'cloudwu / skynet', 'NielsRogge / Transformers-Tutorials', 'HVision-NKU / StoryDiffusion']\n"
     ]
    }
   ],
   "source": [
    "#scraping the Repositor_Name \n",
    "RN=driver.find_elements(By.XPATH, '//h2[@class=\"h3 lh-condensed\"]')\n",
    "for i in RN:\n",
    "    if i.text is None :\n",
    "        RT.append(\"--\") \n",
    "    else:\n",
    "        RT.append(i.text)\n",
    "print(len(RT),RT)"
   ]
  },
  {
   "cell_type": "code",
   "execution_count": 37,
   "metadata": {},
   "outputs": [
    {
     "name": "stdout",
     "output_type": "stream",
     "text": [
      "23 ['Python scraper based on AI', 'There can be more than Notion and Miro. AFFiNE(pronounced [ə‘fain]) is a next-gen knowledge base that brings planning, sorting and creating all together. Privacy first, open-source, customizable and ready to use.', 'Close-Circuit Telegram Vision revolutionizes location tracking with its open-source design and Telegram API integration. Offering precise tracking within 50-100 meters, users can monitor others in real-time for logistics or safety, redefining how we navigate our surroundings', 'Automate browser-based workflows with LLMs and Computer Vision', '🤗 LeRobot: State-of-the-art Machine Learning for Real-World Robotics in Pytorch', 'Ant game engine', '🐚 OpenDevin: Code Less, Make More', 'An open-source remote desktop, and alternative to TeamViewer.', 'https://map.sistilli.dev/public/coding/SaaS+Boilerplate', '展示boss直聘岗位的发布时间', 'An efficient pure-PyTorch implementation of Kolmogorov-Arnold Network (KAN).', \"Prototype of a new kind of Drupal, based on recipes and loaded up with contrib's best modules and themes. Not a fork or a distribution.\", '整理开源的中文大语言模型，以规模较小、可私有化部署、训练成本较低的模型为主，包括底座模型，垂直领域微调及应用，数据集与教程等。', 'An iOS library to natively render After Effects vector animations', 'A rhythm game made with HaxeFlixel', 'The PyTorch implementation of Generative Pre-trained Transformers (GPTs) using Kolmogorov-Arnold Networks (KANs) for language modeling', 'GPT based autonomous agent that does online comprehensive research on any given topic', 'openpilot is an open source driver assistance system. openpilot performs the functions of Automated Lane Centering and Adaptive Cruise Control for 250+ supported car makes and models.', 'RAGFlow is an open-source RAG (Retrieval-Augmented Generation) engine based on deep document understanding.', 'Collection of handy online tools for developers, with great UX.', 'A lightweight online game framework', 'This repository contains demos I made with the Transformers library by HuggingFace.', 'Create Magic Story!']\n"
     ]
    }
   ],
   "source": [
    "#scraping the Description \n",
    "des=driver.find_elements(By.XPATH, '//article[@class=\"Box-row\"]/p')\n",
    "for i in des:\n",
    "    if i.text is None :\n",
    "        RD.append(\"--\") \n",
    "    else:\n",
    "        RD.append(i.text)\n",
    "print(len(RD),RD)"
   ]
  },
  {
   "cell_type": "code",
   "execution_count": 38,
   "metadata": {},
   "outputs": [
    {
     "name": "stdout",
     "output_type": "stream",
     "text": [
      "23 ['Python', 'TypeScript', 'JavaScript', 'Python', 'Python', 'Lua', 'Python', 'Rust', 'TypeScript', 'TypeScript', 'JavaScript', 'Python', 'PHP', 'Swift', 'Haxe', 'Python', 'Python', 'Python', 'Python', 'Vue', 'C', 'Jupyter Notebook', 'Jupyter Notebook']\n"
     ]
    }
   ],
   "source": [
    "#scraping the Language\n",
    "C=driver.find_elements(By.XPATH, \"//span[@itemprop='programmingLanguage']\")\n",
    "for i in C:\n",
    "    if i.text is None :\n",
    "        Language.append(\"NAN\") \n",
    "    else:\n",
    "        Language.append(i.text)\n",
    "print(len(Language),Language)"
   ]
  },
  {
   "cell_type": "code",
   "execution_count": 39,
   "metadata": {},
   "outputs": [
    {
     "data": {
      "text/html": [
       "<div>\n",
       "<style scoped>\n",
       "    .dataframe tbody tr th:only-of-type {\n",
       "        vertical-align: middle;\n",
       "    }\n",
       "\n",
       "    .dataframe tbody tr th {\n",
       "        vertical-align: top;\n",
       "    }\n",
       "\n",
       "    .dataframe thead th {\n",
       "        text-align: right;\n",
       "    }\n",
       "</style>\n",
       "<table border=\"1\" class=\"dataframe\">\n",
       "  <thead>\n",
       "    <tr style=\"text-align: right;\">\n",
       "      <th></th>\n",
       "      <th>Name</th>\n",
       "      <th>Description</th>\n",
       "      <th>Language</th>\n",
       "    </tr>\n",
       "  </thead>\n",
       "  <tbody>\n",
       "    <tr>\n",
       "      <th>0</th>\n",
       "      <td>VinciGit00 / Scrapegraph-ai</td>\n",
       "      <td>Python scraper based on AI</td>\n",
       "      <td>Python</td>\n",
       "    </tr>\n",
       "    <tr>\n",
       "      <th>1</th>\n",
       "      <td>toeverything / AFFiNE</td>\n",
       "      <td>There can be more than Notion and Miro. AFFiNE...</td>\n",
       "      <td>TypeScript</td>\n",
       "    </tr>\n",
       "    <tr>\n",
       "      <th>2</th>\n",
       "      <td>IvanGlinkin / CCTV</td>\n",
       "      <td>Close-Circuit Telegram Vision revolutionizes l...</td>\n",
       "      <td>JavaScript</td>\n",
       "    </tr>\n",
       "    <tr>\n",
       "      <th>3</th>\n",
       "      <td>Skyvern-AI / skyvern</td>\n",
       "      <td>Automate browser-based workflows with LLMs and...</td>\n",
       "      <td>Python</td>\n",
       "    </tr>\n",
       "    <tr>\n",
       "      <th>4</th>\n",
       "      <td>huggingface / lerobot</td>\n",
       "      <td>🤗 LeRobot: State-of-the-art Machine Learning f...</td>\n",
       "      <td>Python</td>\n",
       "    </tr>\n",
       "    <tr>\n",
       "      <th>5</th>\n",
       "      <td>ejoy / ant</td>\n",
       "      <td>Ant game engine</td>\n",
       "      <td>Lua</td>\n",
       "    </tr>\n",
       "    <tr>\n",
       "      <th>6</th>\n",
       "      <td>OpenDevin / OpenDevin</td>\n",
       "      <td>🐚 OpenDevin: Code Less, Make More</td>\n",
       "      <td>Python</td>\n",
       "    </tr>\n",
       "    <tr>\n",
       "      <th>7</th>\n",
       "      <td>rustdesk / rustdesk</td>\n",
       "      <td>An open-source remote desktop, and alternative...</td>\n",
       "      <td>Rust</td>\n",
       "    </tr>\n",
       "    <tr>\n",
       "      <th>8</th>\n",
       "      <td>pagefaultgames / pokerogue</td>\n",
       "      <td>https://map.sistilli.dev/public/coding/SaaS+Bo...</td>\n",
       "      <td>TypeScript</td>\n",
       "    </tr>\n",
       "    <tr>\n",
       "      <th>9</th>\n",
       "      <td>AtotheY / saas-landingpage</td>\n",
       "      <td>展示boss直聘岗位的发布时间</td>\n",
       "      <td>TypeScript</td>\n",
       "    </tr>\n",
       "    <tr>\n",
       "      <th>10</th>\n",
       "      <td>tangzhiyao / boss-show-time</td>\n",
       "      <td>An efficient pure-PyTorch implementation of Ko...</td>\n",
       "      <td>JavaScript</td>\n",
       "    </tr>\n",
       "    <tr>\n",
       "      <th>11</th>\n",
       "      <td>Blealtan / efficient-kan</td>\n",
       "      <td>Prototype of a new kind of Drupal, based on re...</td>\n",
       "      <td>Python</td>\n",
       "    </tr>\n",
       "    <tr>\n",
       "      <th>12</th>\n",
       "      <td>phenaproxima / starshot-prototype</td>\n",
       "      <td>整理开源的中文大语言模型，以规模较小、可私有化部署、训练成本较低的模型为主，包括底座模型，垂...</td>\n",
       "      <td>PHP</td>\n",
       "    </tr>\n",
       "    <tr>\n",
       "      <th>13</th>\n",
       "      <td>HqWu-HITCS / Awesome-Chinese-LLM</td>\n",
       "      <td>An iOS library to natively render After Effect...</td>\n",
       "      <td>Swift</td>\n",
       "    </tr>\n",
       "    <tr>\n",
       "      <th>14</th>\n",
       "      <td>airbnb / lottie-ios</td>\n",
       "      <td>A rhythm game made with HaxeFlixel</td>\n",
       "      <td>Haxe</td>\n",
       "    </tr>\n",
       "    <tr>\n",
       "      <th>15</th>\n",
       "      <td>FunkinCrew / Funkin</td>\n",
       "      <td>The PyTorch implementation of Generative Pre-t...</td>\n",
       "      <td>Python</td>\n",
       "    </tr>\n",
       "    <tr>\n",
       "      <th>16</th>\n",
       "      <td>AdityaNG / kan-gpt</td>\n",
       "      <td>GPT based autonomous agent that does online co...</td>\n",
       "      <td>Python</td>\n",
       "    </tr>\n",
       "    <tr>\n",
       "      <th>17</th>\n",
       "      <td>deepseek-ai / DeepSeek-V2</td>\n",
       "      <td>openpilot is an open source driver assistance ...</td>\n",
       "      <td>Python</td>\n",
       "    </tr>\n",
       "    <tr>\n",
       "      <th>18</th>\n",
       "      <td>assafelovic / gpt-researcher</td>\n",
       "      <td>RAGFlow is an open-source RAG (Retrieval-Augme...</td>\n",
       "      <td>Python</td>\n",
       "    </tr>\n",
       "    <tr>\n",
       "      <th>19</th>\n",
       "      <td>commaai / openpilot</td>\n",
       "      <td>Collection of handy online tools for developer...</td>\n",
       "      <td>Vue</td>\n",
       "    </tr>\n",
       "    <tr>\n",
       "      <th>20</th>\n",
       "      <td>infiniflow / ragflow</td>\n",
       "      <td>A lightweight online game framework</td>\n",
       "      <td>C</td>\n",
       "    </tr>\n",
       "    <tr>\n",
       "      <th>21</th>\n",
       "      <td>CorentinTh / it-tools</td>\n",
       "      <td>This repository contains demos I made with the...</td>\n",
       "      <td>Jupyter Notebook</td>\n",
       "    </tr>\n",
       "    <tr>\n",
       "      <th>22</th>\n",
       "      <td>cloudwu / skynet</td>\n",
       "      <td>Create Magic Story!</td>\n",
       "      <td>Jupyter Notebook</td>\n",
       "    </tr>\n",
       "  </tbody>\n",
       "</table>\n",
       "</div>"
      ],
      "text/plain": [
       "                                 Name  \\\n",
       "0         VinciGit00 / Scrapegraph-ai   \n",
       "1               toeverything / AFFiNE   \n",
       "2                  IvanGlinkin / CCTV   \n",
       "3                Skyvern-AI / skyvern   \n",
       "4               huggingface / lerobot   \n",
       "5                          ejoy / ant   \n",
       "6               OpenDevin / OpenDevin   \n",
       "7                 rustdesk / rustdesk   \n",
       "8          pagefaultgames / pokerogue   \n",
       "9          AtotheY / saas-landingpage   \n",
       "10        tangzhiyao / boss-show-time   \n",
       "11           Blealtan / efficient-kan   \n",
       "12  phenaproxima / starshot-prototype   \n",
       "13   HqWu-HITCS / Awesome-Chinese-LLM   \n",
       "14                airbnb / lottie-ios   \n",
       "15                FunkinCrew / Funkin   \n",
       "16                 AdityaNG / kan-gpt   \n",
       "17          deepseek-ai / DeepSeek-V2   \n",
       "18       assafelovic / gpt-researcher   \n",
       "19                commaai / openpilot   \n",
       "20               infiniflow / ragflow   \n",
       "21              CorentinTh / it-tools   \n",
       "22                   cloudwu / skynet   \n",
       "\n",
       "                                          Description          Language  \n",
       "0                          Python scraper based on AI            Python  \n",
       "1   There can be more than Notion and Miro. AFFiNE...        TypeScript  \n",
       "2   Close-Circuit Telegram Vision revolutionizes l...        JavaScript  \n",
       "3   Automate browser-based workflows with LLMs and...            Python  \n",
       "4   🤗 LeRobot: State-of-the-art Machine Learning f...            Python  \n",
       "5                                     Ant game engine               Lua  \n",
       "6                   🐚 OpenDevin: Code Less, Make More            Python  \n",
       "7   An open-source remote desktop, and alternative...              Rust  \n",
       "8   https://map.sistilli.dev/public/coding/SaaS+Bo...        TypeScript  \n",
       "9                                     展示boss直聘岗位的发布时间        TypeScript  \n",
       "10  An efficient pure-PyTorch implementation of Ko...        JavaScript  \n",
       "11  Prototype of a new kind of Drupal, based on re...            Python  \n",
       "12  整理开源的中文大语言模型，以规模较小、可私有化部署、训练成本较低的模型为主，包括底座模型，垂...               PHP  \n",
       "13  An iOS library to natively render After Effect...             Swift  \n",
       "14                 A rhythm game made with HaxeFlixel              Haxe  \n",
       "15  The PyTorch implementation of Generative Pre-t...            Python  \n",
       "16  GPT based autonomous agent that does online co...            Python  \n",
       "17  openpilot is an open source driver assistance ...            Python  \n",
       "18  RAGFlow is an open-source RAG (Retrieval-Augme...            Python  \n",
       "19  Collection of handy online tools for developer...               Vue  \n",
       "20                A lightweight online game framework                 C  \n",
       "21  This repository contains demos I made with the...  Jupyter Notebook  \n",
       "22                                Create Magic Story!  Jupyter Notebook  "
      ]
     },
     "execution_count": 39,
     "metadata": {},
     "output_type": "execute_result"
    }
   ],
   "source": [
    "Trending_Repository=pd.DataFrame([])\n",
    "Trending_Repository['Name']=RT[:23]\n",
    "Trending_Repository['Description']=RD[:23]\n",
    "Trending_Repository['Language']=Language[:23]\n",
    "Trending_Repository"
   ]
  },
  {
   "cell_type": "markdown",
   "metadata": {},
   "source": [
    "# 5. Scrape the details of top 100 songs on billiboard.com. "
   ]
  },
  {
   "cell_type": "code",
   "execution_count": 40,
   "metadata": {},
   "outputs": [
    {
     "name": "stderr",
     "output_type": "stream",
     "text": [
      "The chromedriver version (123.0.6312.86) detected in PATH at C:\\Users\\Adeeb Naiyer\\chromedriver.exe might not be compatible with the detected chrome version (124.0.6367.119); currently, chromedriver 124.0.6367.155 is recommended for chrome 124.*, so it is advised to delete the driver in PATH and retry\n"
     ]
    }
   ],
   "source": [
    "driver = webdriver.Chrome()\n",
    "url5=\"https://www.billboard.com/\"\n",
    "driver.get(url5)"
   ]
  },
  {
   "cell_type": "code",
   "execution_count": 41,
   "metadata": {},
   "outputs": [],
   "source": [
    "Song = []\n",
    "Artist = []\n",
    "LWR=[]\n",
    "PR=[]\n",
    "WOB=[]"
   ]
  },
  {
   "cell_type": "code",
   "execution_count": 43,
   "metadata": {},
   "outputs": [],
   "source": [
    "explore = driver.find_element(By.XPATH, '//div[@class=\"banner-actions-container\"]/button[1]')      \n",
    "explore.click()"
   ]
  },
  {
   "cell_type": "code",
   "execution_count": 44,
   "metadata": {},
   "outputs": [],
   "source": [
    "explore = driver.find_element(By.XPATH, '/html/body/div[3]/header/div/div[4]/div/div[1]/div[1]/button')      \n",
    "explore.click()"
   ]
  },
  {
   "cell_type": "code",
   "execution_count": 46,
   "metadata": {},
   "outputs": [],
   "source": [
    "top100 = driver.find_element(By.XPATH, '/html/body/div[3]/div[9]/div/div/div/ul/li[1]/ul/li[2]/a')       \n",
    "top100.click()"
   ]
  },
  {
   "cell_type": "code",
   "execution_count": 47,
   "metadata": {},
   "outputs": [
    {
     "name": "stdout",
     "output_type": "stream",
     "text": [
      "100 ['Fortnight', 'Million Dollar Baby', 'A Bar Song (Tipsy)', 'Espresso', 'Beautiful Things', 'Lose Control', 'Too Sweet', 'Like That', 'I Can Do It With A Broken Heart', 'Down Bad', 'Euphoria', 'Saturn', \"Who's Afraid Of Little Old Me?\", 'So Long, London', 'Lovin On Me', 'My Boy Only Breaks His Favorite Toys', 'Push Ups', 'But Daddy I Love Him', \"We Can't Be Friends (Wait For Your Love)\", 'Florida!!!', 'The Tortured Poets Department', 'Guilty As Sin?', 'Stick Season', 'I Remember Everything', \"Texas Hold 'Em\", 'I Like The Way You Kiss Me', 'Greedy', 'Cruel Summer', 'Feather', 'The Smallest Man Who Ever Lived', 'Type Shit', 'Get It Sexyy', 'Agora Hills', 'Wanna Be', 'Fresh Out The Slammer', 'loml', 'The Alchemy', 'Yeah Glo!', 'End Of Beginning', 'I Can Fix Him (No Really I Can)', 'Whatever She Wants', 'Carnival', 'Austin', 'Gata Only', 'Never Lose Me', 'Redrum', 'So High School', 'Good Luck, Babe!', 'imgonnagetyouback', 'Where It Ends', 'The Black Dog', 'Clara Bow', 'Act II: Date @ 8', 'Made For Me', 'Wildflowers And Wild Horses', 'The Prophecy', 'Wild Ones', 'Tell Ur Girlfriend', 'thanK you aIMee', 'FE!N', 'Slow It Down', 'How Did It End?', 'Adivino', 'The Albatross', 'Back Then Right Now', 'I Hate It Here', 'Obsessed', 'Hell N Back', 'Chloe Or Sam Or Sophia Or Marcus', 'Bulletproof', \"I Look In People's Windows\", 'Illusion', 'Get In With Me', 'Okay', 'The Bolter', 'Cinderella', 'Scared To Start', 'Peter', 'Mmhmm', \"Wind Up Missin' You\", 'Enough (Miami)', 'Cassandra', 'Halfway To Hell', 'La Diabla', 'Tu Name', 'Outskirts', 'Belong Together', '23', 'II Most Wanted', 'One Of The Girls', 'Tucson Too Late', 'Bandit', 'We Ride', 'Dirt Cheap', 'Cry', 'Wine Into Whiskey', 'Feel It', 'Spin You Around (1/24)', 'The Manuscript', \"Let's Go\"]\n"
     ]
    }
   ],
   "source": [
    "#scraping the Song_Name \n",
    "song=driver.find_elements(By.XPATH, '//li[@class=\"lrv-u-width-100p\"]/ul/li/h3')\n",
    "for i in song:\n",
    "    if i.text is None :\n",
    "        Song.append(\"--\") \n",
    "    else:\n",
    "        Song.append(i.text)\n",
    "print(len(Song),Song)"
   ]
  },
  {
   "cell_type": "code",
   "execution_count": 48,
   "metadata": {},
   "outputs": [
    {
     "name": "stdout",
     "output_type": "stream",
     "text": [
      "400 ['Taylor Swift Featuring Post Malone', '1', '1', '2', 'Tommy Richman', '-', '2', '1', 'Shaboozey', '27', '3', '3', 'Sabrina Carpenter', '22', '4', '3', 'Benson Boone', '15', '2', '15', 'Teddy Swims', '18', '1', '38', 'Hozier', '16', '1', '6', 'Future, Metro Boomin & Kendrick Lamar', '17', '1', '6', 'Taylor Swift', '3', '3', '2', 'Taylor Swift', '2', '2', '2', 'Kendrick Lamar', '-', '11', '1', 'SZA', '29', '6', '10', 'Taylor Swift', '9', '9', '2', 'Taylor Swift', '5', '5', '2', 'Jack Harlow', '28', '1', '25', 'Taylor Swift', '6', '6', '2', 'Drake', '19', '17', '2', 'Taylor Swift', '7', '7', '2', 'Ariana Grande', '33', '1', '8', 'Taylor Swift Featuring Florence + The Machine', '8', '8', '2', 'Taylor Swift', '4', '4', '2', 'Taylor Swift', '10', '10', '2', 'Noah Kahan', '37', '9', '31', 'Zach Bryan Featuring Kacey Musgraves', '40', '1', '36', 'Beyonce', '31', '1', '12', 'Artemas', '38', '12', '6', 'Tate McRae', '42', '3', '33', 'Taylor Swift', '41', '1', '52', 'Sabrina Carpenter', '50', '21', '22', 'Taylor Swift', '14', '14', '2', 'Future, Metro Boomin, Travis Scott & Playboi Carti', '43', '2', '6', 'Sexyy Red', '49', '20', '7', 'Doja Cat', '45', '7', '32', 'GloRilla & Megan Thee Stallion', '48', '11', '4', 'Taylor Swift', '11', '11', '2', 'Taylor Swift', '12', '12', '2', 'Taylor Swift', '13', '13', '2', 'GloRilla', '59', '32', '12', 'Djo', '56', '11', '11', 'Taylor Swift', '20', '20', '2', 'Bryson Tiller', '54', '19', '11', '¥$: Ye & Ty Dolla $ign Featuring Rich The Kid & Playboi Carti', '52', '1', '12', 'Dasha', '60', '28', '8', 'FloyyMenor X Cris Mj', '58', '27', '7', 'Flo Milli', '61', '15', '20', '21 Savage', '57', '5', '16', 'Taylor Swift', '24', '24', '2', 'Chappell Roan', '62', '44', '4', 'Taylor Swift', '26', '26', '2', 'Bailey Zimmerman', '65', '32', '18', 'Taylor Swift', '25', '25', '2', 'Taylor Swift', '21', '21', '2', '4Batz Featuring Drake', '63', '7', '17', 'Muni Long', '64', '20', '16', 'Lainey Wilson', '71', '48', '14', 'Taylor Swift', '32', '32', '2', 'Jessie Murph & Jelly Roll', '68', '35', '30', 'Lay Bankz', '66', '58', '3', 'Taylor Swift', '23', '23', '2', 'Travis Scott Featuring Playboi Carti', '67', '5', '26', 'Benson Boone', '69', '40', '6', 'Taylor Swift', '35', '35', '2', 'Myke Towers & Bad Bunny', '-', '63', '1', 'Taylor Swift', '30', '30', '2', 'Tyler Hubbard', '73', '62', '7', 'Taylor Swift', '34', '34', '2', 'Olivia Rodrigo', '74', '14', '6', 'Bakar Featuring Summer Walker', '72', '53', '4', 'Taylor Swift', '36', '36', '2', 'Nate Smith', '79', '64', '4', 'Taylor Swift', '39', '39', '2', 'Dua Lipa', '78', '43', '3', 'BossMan DLow', '75', '49', '13', 'JT', '-', '74', '1', 'Taylor Swift', '47', '47', '2', 'Future, Metro Boomin & Travis Scott', '70', '6', '6', 'Michael Marcagi', '82', '54', '11', 'Taylor Swift', '46', '46', '2', 'BigXthaPlug', '77', '63', '19', 'Tucker Wetmore', '76', '75', '5', 'Cardi B', '80', '9', '7', 'Taylor Swift', '44', '44', '2', 'Jelly Roll', '93', '83', '4', 'Xavi', '83', '20', '20', 'Fuerza Regida', '87', '66', '11', 'Sam Hunt', '86', '66', '8', 'Mark Ambor', '-', '87', '1', 'Chayce Beckham', '91', '45', '18', 'Beyonce & Miley Cyrus', '84', '6', '5', 'The Weeknd, Jennie & Lily Rose Depp', '89', '51', '19', 'Jordan Davis', '92', '80', '9', 'Don Toliver', '-', '38', '12', 'Bryan Martin', '-', '93', '4', 'Cody Johnson', '-', '92', '2', 'Benson Boone', '85', '60', '4', 'Tucker Wetmore', '97', '77', '6', 'd4vd', '95', '94', '3', 'Morgan Wallen', '98', '24', '14', 'Taylor Swift', '51', '51', '2', 'Key Glock & Young Dolph', '90', '59', '8']\n"
     ]
    }
   ],
   "source": [
    "#scraping the Singer \n",
    "art=driver.find_elements(By.XPATH, '//li[@class=\"lrv-u-width-100p\"]/ul/li/span')\n",
    "for i in art:\n",
    "    if i.text is None :\n",
    "        Artist.append(\"--\") \n",
    "    else:\n",
    "        Artist.append(i.text)\n",
    "print(len(Artist),Artist)"
   ]
  },
  {
   "cell_type": "code",
   "execution_count": 49,
   "metadata": {},
   "outputs": [
    {
     "name": "stdout",
     "output_type": "stream",
     "text": [
      "100 ['1', '-', '27', '22', '15', '18', '16', '17', '3', '2', '-', '29', '9', '5', '28', '6', '19', '7', '33', '8', '4', '10', '37', '40', '31', '38', '42', '41', '50', '14', '43', '49', '45', '48', '11', '12', '13', '59', '56', '20', '54', '52', '60', '58', '61', '57', '24', '62', '26', '65', '25', '21', '63', '64', '71', '32', '68', '66', '23', '67', '69', '35', '-', '30', '73', '34', '74', '72', '36', '79', '39', '78', '75', '-', '47', '70', '82', '46', '77', '76', '80', '44', '93', '83', '87', '86', '-', '91', '84', '89', '92', '-', '-', '-', '85', '97', '95', '98', '51', '90']\n"
     ]
    }
   ],
   "source": [
    "#scraping the Last_Week Rank \n",
    "lwr=driver.find_elements(By.XPATH, '//div[@class=\"chart-results-list // lrv-u-padding-t-150 lrv-u-padding-t-050@mobile-max\"]/div/ul/li/ul/li[4]/span')\n",
    "for i in lwr:\n",
    "    if i.text is None :\n",
    "        LWR.append(\"--\") \n",
    "    else:\n",
    "        LWR.append(i.text)\n",
    "print(len(LWR),LWR)"
   ]
  },
  {
   "cell_type": "code",
   "execution_count": 50,
   "metadata": {},
   "outputs": [
    {
     "name": "stdout",
     "output_type": "stream",
     "text": [
      "100 ['1', '2', '3', '4', '2', '1', '1', '1', '3', '2', '11', '6', '9', '5', '1', '6', '17', '7', '1', '8', '4', '10', '9', '1', '1', '12', '3', '1', '21', '14', '2', '20', '7', '11', '11', '12', '13', '32', '11', '20', '19', '1', '28', '27', '15', '5', '24', '44', '26', '32', '25', '21', '7', '20', '48', '32', '35', '58', '23', '5', '40', '35', '63', '30', '62', '34', '14', '53', '36', '64', '39', '43', '49', '74', '47', '6', '54', '46', '63', '75', '9', '44', '83', '20', '66', '66', '87', '45', '6', '51', '80', '38', '93', '92', '60', '77', '94', '24', '51', '59']\n"
     ]
    }
   ],
   "source": [
    "#scraping the peak rank\n",
    "pr=driver.find_elements(By.XPATH, '//div[@class=\"chart-results-list // lrv-u-padding-t-150 lrv-u-padding-t-050@mobile-max\"]/div/ul/li/ul/li[5]/span')\n",
    "for i in pr:\n",
    "    if i.text is None :\n",
    "        PR.append(\"--\") \n",
    "    else:\n",
    "        PR.append(i.text)\n",
    "print(len(PR),PR)"
   ]
  },
  {
   "cell_type": "code",
   "execution_count": 51,
   "metadata": {},
   "outputs": [
    {
     "name": "stdout",
     "output_type": "stream",
     "text": [
      "100 ['2', '1', '3', '3', '15', '38', '6', '6', '2', '2', '1', '10', '2', '2', '25', '2', '2', '2', '8', '2', '2', '2', '31', '36', '12', '6', '33', '52', '22', '2', '6', '7', '32', '4', '2', '2', '2', '12', '11', '2', '11', '12', '8', '7', '20', '16', '2', '4', '2', '18', '2', '2', '17', '16', '14', '2', '30', '3', '2', '26', '6', '2', '1', '2', '7', '2', '6', '4', '2', '4', '2', '3', '13', '1', '2', '6', '11', '2', '19', '5', '7', '2', '4', '20', '11', '8', '1', '18', '5', '19', '9', '12', '4', '2', '4', '6', '3', '14', '2', '8']\n"
     ]
    }
   ],
   "source": [
    "#scraping the week on board\n",
    "wb=driver.find_elements(By.XPATH, '//div[@class=\"chart-results-list // lrv-u-padding-t-150 lrv-u-padding-t-050@mobile-max\"]/div/ul/li/ul/li[6]/span')\n",
    "for i in wb:\n",
    "    if i.text is None :\n",
    "        WOB.append(\"--\") \n",
    "    else:\n",
    "        WOB.append(i.text)\n",
    "print(len(WOB),WOB)"
   ]
  },
  {
   "cell_type": "code",
   "execution_count": 52,
   "metadata": {},
   "outputs": [
    {
     "data": {
      "text/html": [
       "<div>\n",
       "<style scoped>\n",
       "    .dataframe tbody tr th:only-of-type {\n",
       "        vertical-align: middle;\n",
       "    }\n",
       "\n",
       "    .dataframe tbody tr th {\n",
       "        vertical-align: top;\n",
       "    }\n",
       "\n",
       "    .dataframe thead th {\n",
       "        text-align: right;\n",
       "    }\n",
       "</style>\n",
       "<table border=\"1\" class=\"dataframe\">\n",
       "  <thead>\n",
       "    <tr style=\"text-align: right;\">\n",
       "      <th></th>\n",
       "      <th>Song</th>\n",
       "      <th>Artist</th>\n",
       "      <th>Last week rank</th>\n",
       "      <th>Peak rank</th>\n",
       "      <th>Weeks on board</th>\n",
       "    </tr>\n",
       "  </thead>\n",
       "  <tbody>\n",
       "    <tr>\n",
       "      <th>0</th>\n",
       "      <td>Fortnight</td>\n",
       "      <td>Taylor Swift Featuring Post Malone</td>\n",
       "      <td>1</td>\n",
       "      <td>1</td>\n",
       "      <td>2</td>\n",
       "    </tr>\n",
       "    <tr>\n",
       "      <th>1</th>\n",
       "      <td>Million Dollar Baby</td>\n",
       "      <td>1</td>\n",
       "      <td>-</td>\n",
       "      <td>2</td>\n",
       "      <td>1</td>\n",
       "    </tr>\n",
       "    <tr>\n",
       "      <th>2</th>\n",
       "      <td>A Bar Song (Tipsy)</td>\n",
       "      <td>1</td>\n",
       "      <td>27</td>\n",
       "      <td>3</td>\n",
       "      <td>3</td>\n",
       "    </tr>\n",
       "    <tr>\n",
       "      <th>3</th>\n",
       "      <td>Espresso</td>\n",
       "      <td>2</td>\n",
       "      <td>22</td>\n",
       "      <td>4</td>\n",
       "      <td>3</td>\n",
       "    </tr>\n",
       "    <tr>\n",
       "      <th>4</th>\n",
       "      <td>Beautiful Things</td>\n",
       "      <td>Tommy Richman</td>\n",
       "      <td>15</td>\n",
       "      <td>2</td>\n",
       "      <td>15</td>\n",
       "    </tr>\n",
       "    <tr>\n",
       "      <th>...</th>\n",
       "      <td>...</td>\n",
       "      <td>...</td>\n",
       "      <td>...</td>\n",
       "      <td>...</td>\n",
       "      <td>...</td>\n",
       "    </tr>\n",
       "    <tr>\n",
       "      <th>95</th>\n",
       "      <td>Wine Into Whiskey</td>\n",
       "      <td>36</td>\n",
       "      <td>97</td>\n",
       "      <td>77</td>\n",
       "      <td>6</td>\n",
       "    </tr>\n",
       "    <tr>\n",
       "      <th>96</th>\n",
       "      <td>Feel It</td>\n",
       "      <td>Beyonce</td>\n",
       "      <td>95</td>\n",
       "      <td>94</td>\n",
       "      <td>3</td>\n",
       "    </tr>\n",
       "    <tr>\n",
       "      <th>97</th>\n",
       "      <td>Spin You Around (1/24)</td>\n",
       "      <td>31</td>\n",
       "      <td>98</td>\n",
       "      <td>24</td>\n",
       "      <td>14</td>\n",
       "    </tr>\n",
       "    <tr>\n",
       "      <th>98</th>\n",
       "      <td>The Manuscript</td>\n",
       "      <td>1</td>\n",
       "      <td>51</td>\n",
       "      <td>51</td>\n",
       "      <td>2</td>\n",
       "    </tr>\n",
       "    <tr>\n",
       "      <th>99</th>\n",
       "      <td>Let's Go</td>\n",
       "      <td>12</td>\n",
       "      <td>90</td>\n",
       "      <td>59</td>\n",
       "      <td>8</td>\n",
       "    </tr>\n",
       "  </tbody>\n",
       "</table>\n",
       "<p>100 rows × 5 columns</p>\n",
       "</div>"
      ],
      "text/plain": [
       "                      Song                              Artist Last week rank  \\\n",
       "0                Fortnight  Taylor Swift Featuring Post Malone              1   \n",
       "1      Million Dollar Baby                                   1              -   \n",
       "2       A Bar Song (Tipsy)                                   1             27   \n",
       "3                 Espresso                                   2             22   \n",
       "4         Beautiful Things                       Tommy Richman             15   \n",
       "..                     ...                                 ...            ...   \n",
       "95       Wine Into Whiskey                                  36             97   \n",
       "96                 Feel It                             Beyonce             95   \n",
       "97  Spin You Around (1/24)                                  31             98   \n",
       "98          The Manuscript                                   1             51   \n",
       "99                Let's Go                                  12             90   \n",
       "\n",
       "   Peak rank  Weeks on board  \n",
       "0           1              2  \n",
       "1           2              1  \n",
       "2           3              3  \n",
       "3           4              3  \n",
       "4           2             15  \n",
       "..        ...            ...  \n",
       "95         77              6  \n",
       "96         94              3  \n",
       "97         24             14  \n",
       "98         51              2  \n",
       "99         59              8  \n",
       "\n",
       "[100 rows x 5 columns]"
      ]
     },
     "execution_count": 52,
     "metadata": {},
     "output_type": "execute_result"
    }
   ],
   "source": [
    "top100=pd.DataFrame([])\n",
    "top100['Song']=Song[:100]\n",
    "top100['Artist']=Artist[:100]\n",
    "top100['Last week rank']=LWR[:100]\n",
    "top100['Peak rank ']=PR[:100]\n",
    "top100['Weeks on board']=WOB[:100]\n",
    "top100"
   ]
  },
  {
   "cell_type": "markdown",
   "metadata": {},
   "source": [
    "# 6. Scrape the details of Highest selling novels."
   ]
  },
  {
   "cell_type": "code",
   "execution_count": 53,
   "metadata": {},
   "outputs": [
    {
     "name": "stderr",
     "output_type": "stream",
     "text": [
      "The chromedriver version (123.0.6312.86) detected in PATH at C:\\Users\\Adeeb Naiyer\\chromedriver.exe might not be compatible with the detected chrome version (124.0.6367.119); currently, chromedriver 124.0.6367.155 is recommended for chrome 124.*, so it is advised to delete the driver in PATH and retry\n"
     ]
    }
   ],
   "source": [
    "driver = webdriver.Chrome()\n",
    "url6=\"https://www.theguardian.com/news/datablog/2012/aug/09/best-selling-books-all-time-fifty-shades-grey-compare\"\n",
    "driver.get(url6)"
   ]
  },
  {
   "cell_type": "code",
   "execution_count": 54,
   "metadata": {},
   "outputs": [],
   "source": [
    "Book_name=[]\n",
    "Author_name=[]\n",
    "Volumes_sold=[]\n",
    "Publisher=[]\n",
    "Genre=[]"
   ]
  },
  {
   "cell_type": "code",
   "execution_count": 55,
   "metadata": {},
   "outputs": [
    {
     "name": "stdout",
     "output_type": "stream",
     "text": [
      "100 ['Da Vinci Code,The', 'Harry Potter and the Deathly Hallows', \"Harry Potter and the Philosopher's Stone\", 'Harry Potter and the Order of the Phoenix', 'Fifty Shades of Grey', 'Harry Potter and the Goblet of Fire', 'Harry Potter and the Chamber of Secrets', 'Harry Potter and the Prisoner of Azkaban', 'Angels and Demons', \"Harry Potter and the Half-blood Prince:Children's Edition\", 'Fifty Shades Darker', 'Twilight', 'Girl with the Dragon Tattoo,The:Millennium Trilogy', 'Fifty Shades Freed', 'Lost Symbol,The', 'New Moon', 'Deception Point', 'Eclipse', 'Lovely Bones,The', 'Curious Incident of the Dog in the Night-time,The', 'Digital Fortress', 'Short History of Nearly Everything,A', 'Girl Who Played with Fire,The:Millennium Trilogy', 'Breaking Dawn', 'Very Hungry Caterpillar,The:The Very Hungry Caterpillar', 'Gruffalo,The', \"Jamie's 30-Minute Meals\", 'Kite Runner,The', 'One Day', 'Thousand Splendid Suns,A', \"Girl Who Kicked the Hornets' Nest,The:Millennium Trilogy\", \"Time Traveler's Wife,The\", 'Atonement', \"Bridget Jones's Diary:A Novel\", 'World According to Clarkson,The', \"Captain Corelli's Mandolin\", 'Sound of Laughter,The', 'Life of Pi', 'Billy Connolly', 'Child Called It,A', \"Gruffalo's Child,The\", \"Angela's Ashes:A Memoir of a Childhood\", 'Birdsong', 'Northern Lights:His Dark Materials S.', 'Labyrinth', 'Harry Potter and the Half-blood Prince', 'Help,The', 'Man and Boy', 'Memoirs of a Geisha', \"No.1 Ladies' Detective Agency,The:No.1 Ladies' Detective Agency S.\", 'Island,The', 'PS, I Love You', 'You are What You Eat:The Plan That Will Change Your Life', 'Shadow of the Wind,The', 'Tales of Beedle the Bard,The', 'Broker,The', \"Dr. Atkins' New Diet Revolution:The No-hunger, Luxurious Weight Loss P\", 'Subtle Knife,The:His Dark Materials S.', 'Eats, Shoots and Leaves:The Zero Tolerance Approach to Punctuation', \"Delia's How to Cook:(Bk.1)\", 'Chocolat', 'Boy in the Striped Pyjamas,The', \"My Sister's Keeper\", 'Amber Spyglass,The:His Dark Materials S.', 'To Kill a Mockingbird', 'Men are from Mars, Women are from Venus:A Practical Guide for Improvin', 'Dear Fatty', 'Short History of Tractors in Ukrainian,A', 'Hannibal', 'Lord of the Rings,The', 'Stupid White Men:...and Other Sorry Excuses for the State of the Natio', 'Interpretation of Murder,The', 'Sharon Osbourne Extreme:My Autobiography', 'Alchemist,The:A Fable About Following Your Dream', \"At My Mother's Knee ...:and Other Low Joints\", 'Notes from a Small Island', 'Return of the Naked Chef,The', 'Bridget Jones: The Edge of Reason', \"Jamie's Italy\", 'I Can Make You Thin', 'Down Under', 'Summons,The', 'Small Island', 'Nigella Express', 'Brick Lane', \"Memory Keeper's Daughter,The\", 'Room on the Broom', 'About a Boy', 'My Booky Wook', 'God Delusion,The', '\"Beano\" Annual,The', 'White Teeth', 'House at Riverton,The', 'Book Thief,The', 'Nights of Rain and Stars', 'Ghost,The', 'Happy Days with the Naked Chef', 'Hunger Games,The:Hunger Games Trilogy', \"Lost Boy,The:A Foster Child's Search for the Love of a Family\", \"Jamie's Ministry of Food:Anyone Can Learn to Cook in 24 Hours\"]\n"
     ]
    }
   ],
   "source": [
    "#scraping the Book_name \n",
    "bname=driver.find_elements(By.XPATH, \"/html/body/div/div[2]/div[2]/div/div[2]/div/table/tbody/tr/td[2]\")\n",
    "for i in bname:\n",
    "    if i.text is None :\n",
    "        Book_name.append(\"--\") \n",
    "    else:\n",
    "        Book_name.append(i.text)\n",
    "print(len(Book_name),Book_name)"
   ]
  },
  {
   "cell_type": "code",
   "execution_count": 56,
   "metadata": {},
   "outputs": [
    {
     "name": "stdout",
     "output_type": "stream",
     "text": [
      "100 ['Brown, Dan', 'Rowling, J.K.', 'Rowling, J.K.', 'Rowling, J.K.', 'James, E. L.', 'Rowling, J.K.', 'Rowling, J.K.', 'Rowling, J.K.', 'Brown, Dan', 'Rowling, J.K.', 'James, E. L.', 'Meyer, Stephenie', 'Larsson, Stieg', 'James, E. L.', 'Brown, Dan', 'Meyer, Stephenie', 'Brown, Dan', 'Meyer, Stephenie', 'Sebold, Alice', 'Haddon, Mark', 'Brown, Dan', 'Bryson, Bill', 'Larsson, Stieg', 'Meyer, Stephenie', 'Carle, Eric', 'Donaldson, Julia', 'Oliver, Jamie', 'Hosseini, Khaled', 'Nicholls, David', 'Hosseini, Khaled', 'Larsson, Stieg', 'Niffenegger, Audrey', 'McEwan, Ian', 'Fielding, Helen', 'Clarkson, Jeremy', 'Bernieres, Louis de', 'Kay, Peter', 'Martel, Yann', 'Stephenson, Pamela', 'Pelzer, Dave', 'Donaldson, Julia', 'McCourt, Frank', 'Faulks, Sebastian', 'Pullman, Philip', 'Mosse, Kate', 'Rowling, J.K.', 'Stockett, Kathryn', 'Parsons, Tony', 'Golden, Arthur', 'McCall Smith, Alexander', 'Hislop, Victoria', 'Ahern, Cecelia', 'McKeith, Gillian', 'Zafon, Carlos Ruiz', 'Rowling, J.K.', 'Grisham, John', 'Atkins, Robert C.', 'Pullman, Philip', 'Truss, Lynne', 'Smith, Delia', 'Harris, Joanne', 'Boyne, John', 'Picoult, Jodi', 'Pullman, Philip', 'Lee, Harper', 'Gray, John', 'French, Dawn', 'Lewycka, Marina', 'Harris, Thomas', 'Tolkien, J. R. R.', 'Moore, Michael', 'Rubenfeld, Jed', 'Osbourne, Sharon', 'Coelho, Paulo', \"O'Grady, Paul\", 'Bryson, Bill', 'Oliver, Jamie', 'Fielding, Helen', 'Oliver, Jamie', 'McKenna, Paul', 'Bryson, Bill', 'Grisham, John', 'Levy, Andrea', 'Lawson, Nigella', 'Ali, Monica', 'Edwards, Kim', 'Donaldson, Julia', 'Hornby, Nick', 'Brand, Russell', 'Dawkins, Richard', '0', 'Smith, Zadie', 'Morton, Kate', 'Zusak, Markus', 'Binchy, Maeve', 'Harris, Robert', 'Oliver, Jamie', 'Collins, Suzanne', 'Pelzer, Dave', 'Oliver, Jamie']\n"
     ]
    }
   ],
   "source": [
    "#scraping the Author_name \n",
    "Auth=driver.find_elements(By.XPATH, \"/html/body/div/div[2]/div[2]/div/div[2]/div/table/tbody/tr/td[3]\")\n",
    "for i in Auth:\n",
    "    if i.text is None :\n",
    "        Author_name.append(\"--\") \n",
    "    else:\n",
    "        Author_name.append(i.text)\n",
    "print(len(Author_name),Author_name)"
   ]
  },
  {
   "cell_type": "code",
   "execution_count": 57,
   "metadata": {},
   "outputs": [
    {
     "name": "stdout",
     "output_type": "stream",
     "text": [
      "100 ['5,094,805', '4,475,152', '4,200,654', '4,179,479', '3,758,936', '3,583,215', '3,484,047', '3,377,906', '3,193,946', '2,950,264', '2,479,784', '2,315,405', '2,233,570', '2,193,928', '2,183,031', '2,152,737', '2,062,145', '2,052,876', '2,005,598', '1,979,552', '1,928,900', '1,852,919', '1,814,784', '1,787,118', '1,783,535', '1,781,269', '1,743,266', '1,629,119', '1,616,068', '1,583,992', '1,555,135', '1,546,886', '1,539,428', '1,508,205', '1,489,403', '1,352,318', '1,310,207', '1,310,176', '1,231,957', '1,217,712', '1,208,711', '1,204,058', '1,184,967', '1,181,503', '1,181,093', '1,153,181', '1,132,336', '1,130,802', '1,126,337', '1,115,549', '1,108,328', '1,107,379', '1,104,403', '1,092,349', '1,090,847', '1,087,262', '1,054,196', '1,037,160', '1,023,688', '1,015,956', '1,009,873', '1,004,414', '1,003,780', '1,002,314', '998,213', '992,846', '986,753', '986,115', '970,509', '967,466', '963,353', '962,515', '959,496', '956,114', '945,640', '931,312', '925,425', '924,695', '906,968', '905,086', '890,847', '869,671', '869,659', '862,602', '856,540', '845,858', '842,535', '828,215', '820,563', '816,907', '816,585', '815,586', '814,370', '809,641', '808,900', '807,311', '794,201', '792,187', '791,507', '791,095']\n"
     ]
    }
   ],
   "source": [
    "#scraping the Volumes_sold \n",
    "vs=driver.find_elements(By.XPATH, \"/html/body/div/div[2]/div[2]/div/div[2]/div/table/tbody/tr/td[4]\")\n",
    "for i in vs:\n",
    "    if i.text is None :\n",
    "        Volumes_sold.append(\"--\") \n",
    "    else:\n",
    "        Volumes_sold.append(i.text)\n",
    "print(len(Volumes_sold),Volumes_sold)"
   ]
  },
  {
   "cell_type": "code",
   "execution_count": 58,
   "metadata": {},
   "outputs": [
    {
     "name": "stdout",
     "output_type": "stream",
     "text": [
      "100 ['Transworld', 'Bloomsbury', 'Bloomsbury', 'Bloomsbury', 'Random House', 'Bloomsbury', 'Bloomsbury', 'Bloomsbury', 'Transworld', 'Bloomsbury', 'Random House', 'Little, Brown Book', 'Quercus', 'Random House', 'Transworld', 'Little, Brown Book', 'Transworld', 'Little, Brown Book', 'Pan Macmillan', 'Random House', 'Transworld', 'Transworld', 'Quercus', 'Little, Brown Book', 'Penguin', 'Pan Macmillan', 'Penguin', 'Bloomsbury', 'Hodder & Stoughton', 'Bloomsbury', 'Quercus', 'Random House', 'Random House', 'Pan Macmillan', 'Penguin', 'Random House', 'Random House', 'Canongate', 'HarperCollins', 'Orion', 'Pan Macmillan', 'HarperCollins', 'Random House', 'Scholastic Ltd.', 'Orion', 'Bloomsbury', 'Penguin', 'HarperCollins', 'Random House', 'Little, Brown Book', 'Headline', 'HarperCollins', 'Penguin', 'Orion', 'Bloomsbury', 'Random House', 'Random House', 'Scholastic Ltd.', 'Profile Books Group', 'Random House', 'Transworld', 'Random House Childrens Books G', 'Hodder & Stoughton', 'Scholastic Ltd.', 'Random House', 'HarperCollins', 'Random House', 'Penguin', 'Random House', 'HarperCollins', 'Penguin', 'Headline', 'Little, Brown Book', 'HarperCollins', 'Transworld', 'Transworld', 'Penguin', 'Pan Macmillan', 'Penguin', 'Transworld', 'Transworld', 'Random House', 'Headline', 'Random House', 'Transworld', 'Penguin', 'Pan Macmillan', 'Penguin', 'Hodder & Stoughton', 'Transworld', 'D.C. Thomson', 'Penguin', 'Pan Macmillan', 'Transworld', 'Orion', 'Random House', 'Penguin', 'Scholastic Ltd.', 'Orion', 'Penguin']\n"
     ]
    }
   ],
   "source": [
    "#scraping the Publisher \n",
    "pub=driver.find_elements(By.XPATH, \"/html/body/div/div[2]/div[2]/div/div[2]/div/table/tbody/tr/td[5]\")\n",
    "for i in pub:\n",
    "    if i.text is None :\n",
    "        Publisher.append(\"--\") \n",
    "    else:\n",
    "        Publisher.append(i.text)\n",
    "print(len(Publisher),Publisher)"
   ]
  },
  {
   "cell_type": "code",
   "execution_count": 59,
   "metadata": {},
   "outputs": [
    {
     "name": "stdout",
     "output_type": "stream",
     "text": [
      "100 ['Crime, Thriller & Adventure', \"Children's Fiction\", \"Children's Fiction\", \"Children's Fiction\", 'Romance & Sagas', \"Children's Fiction\", \"Children's Fiction\", \"Children's Fiction\", 'Crime, Thriller & Adventure', \"Children's Fiction\", 'Romance & Sagas', 'Young Adult Fiction', 'Crime, Thriller & Adventure', 'Romance & Sagas', 'Crime, Thriller & Adventure', 'Young Adult Fiction', 'Crime, Thriller & Adventure', 'Young Adult Fiction', 'General & Literary Fiction', 'General & Literary Fiction', 'Crime, Thriller & Adventure', 'Popular Science', 'Crime, Thriller & Adventure', 'Young Adult Fiction', 'Picture Books', 'Picture Books', 'Food & Drink: General', 'General & Literary Fiction', 'General & Literary Fiction', 'General & Literary Fiction', 'Crime, Thriller & Adventure', 'General & Literary Fiction', 'General & Literary Fiction', 'General & Literary Fiction', 'Humour: Collections & General', 'General & Literary Fiction', 'Autobiography: General', 'General & Literary Fiction', 'Biography: The Arts', 'Autobiography: General', 'Picture Books', 'Autobiography: General', 'General & Literary Fiction', 'Young Adult Fiction', 'General & Literary Fiction', 'Science Fiction & Fantasy', 'General & Literary Fiction', 'General & Literary Fiction', 'General & Literary Fiction', 'Crime, Thriller & Adventure', 'General & Literary Fiction', 'General & Literary Fiction', 'Fitness & Diet', 'General & Literary Fiction', \"Children's Fiction\", 'Crime, Thriller & Adventure', 'Fitness & Diet', 'Young Adult Fiction', 'Usage & Writing Guides', 'Food & Drink: General', 'General & Literary Fiction', 'Young Adult Fiction', 'General & Literary Fiction', 'Young Adult Fiction', 'General & Literary Fiction', 'Popular Culture & Media: General Interest', 'Autobiography: The Arts', 'General & Literary Fiction', 'Crime, Thriller & Adventure', 'Science Fiction & Fantasy', 'Current Affairs & Issues', 'Crime, Thriller & Adventure', 'Autobiography: The Arts', 'General & Literary Fiction', 'Autobiography: The Arts', 'Travel Writing', 'Food & Drink: General', 'General & Literary Fiction', 'National & Regional Cuisine', 'Fitness & Diet', 'Travel Writing', 'Crime, Thriller & Adventure', 'General & Literary Fiction', 'Food & Drink: General', 'General & Literary Fiction', 'General & Literary Fiction', 'Picture Books', 'General & Literary Fiction', 'Autobiography: The Arts', 'Popular Science', \"Children's Annuals\", 'General & Literary Fiction', 'General & Literary Fiction', 'General & Literary Fiction', 'General & Literary Fiction', 'General & Literary Fiction', 'Food & Drink: General', 'Young Adult Fiction', 'Biography: General', 'Food & Drink: General']\n"
     ]
    }
   ],
   "source": [
    "#scraping the Genre \n",
    "gen=driver.find_elements(By.XPATH, \"/html/body/div/div[2]/div[2]/div/div[2]/div/table/tbody/tr/td[6]\")\n",
    "for i in gen:\n",
    "    if i.text is None :\n",
    "        Genre.append(\"--\") \n",
    "    else:\n",
    "        Genre.append(i.text)\n",
    "print(len(Genre),Genre)"
   ]
  },
  {
   "cell_type": "code",
   "execution_count": 60,
   "metadata": {},
   "outputs": [
    {
     "data": {
      "text/html": [
       "<div>\n",
       "<style scoped>\n",
       "    .dataframe tbody tr th:only-of-type {\n",
       "        vertical-align: middle;\n",
       "    }\n",
       "\n",
       "    .dataframe tbody tr th {\n",
       "        vertical-align: top;\n",
       "    }\n",
       "\n",
       "    .dataframe thead th {\n",
       "        text-align: right;\n",
       "    }\n",
       "</style>\n",
       "<table border=\"1\" class=\"dataframe\">\n",
       "  <thead>\n",
       "    <tr style=\"text-align: right;\">\n",
       "      <th></th>\n",
       "      <th>Book_name</th>\n",
       "      <th>Author_name</th>\n",
       "      <th>Genre</th>\n",
       "      <th>Publisher</th>\n",
       "      <th>Volumes_sold</th>\n",
       "    </tr>\n",
       "  </thead>\n",
       "  <tbody>\n",
       "    <tr>\n",
       "      <th>0</th>\n",
       "      <td>Da Vinci Code,The</td>\n",
       "      <td>Brown, Dan</td>\n",
       "      <td>Crime, Thriller &amp; Adventure</td>\n",
       "      <td>Transworld</td>\n",
       "      <td>5,094,805</td>\n",
       "    </tr>\n",
       "    <tr>\n",
       "      <th>1</th>\n",
       "      <td>Harry Potter and the Deathly Hallows</td>\n",
       "      <td>Rowling, J.K.</td>\n",
       "      <td>Children's Fiction</td>\n",
       "      <td>Bloomsbury</td>\n",
       "      <td>4,475,152</td>\n",
       "    </tr>\n",
       "    <tr>\n",
       "      <th>2</th>\n",
       "      <td>Harry Potter and the Philosopher's Stone</td>\n",
       "      <td>Rowling, J.K.</td>\n",
       "      <td>Children's Fiction</td>\n",
       "      <td>Bloomsbury</td>\n",
       "      <td>4,200,654</td>\n",
       "    </tr>\n",
       "    <tr>\n",
       "      <th>3</th>\n",
       "      <td>Harry Potter and the Order of the Phoenix</td>\n",
       "      <td>Rowling, J.K.</td>\n",
       "      <td>Children's Fiction</td>\n",
       "      <td>Bloomsbury</td>\n",
       "      <td>4,179,479</td>\n",
       "    </tr>\n",
       "    <tr>\n",
       "      <th>4</th>\n",
       "      <td>Fifty Shades of Grey</td>\n",
       "      <td>James, E. L.</td>\n",
       "      <td>Romance &amp; Sagas</td>\n",
       "      <td>Random House</td>\n",
       "      <td>3,758,936</td>\n",
       "    </tr>\n",
       "    <tr>\n",
       "      <th>...</th>\n",
       "      <td>...</td>\n",
       "      <td>...</td>\n",
       "      <td>...</td>\n",
       "      <td>...</td>\n",
       "      <td>...</td>\n",
       "    </tr>\n",
       "    <tr>\n",
       "      <th>95</th>\n",
       "      <td>Ghost,The</td>\n",
       "      <td>Harris, Robert</td>\n",
       "      <td>General &amp; Literary Fiction</td>\n",
       "      <td>Random House</td>\n",
       "      <td>807,311</td>\n",
       "    </tr>\n",
       "    <tr>\n",
       "      <th>96</th>\n",
       "      <td>Happy Days with the Naked Chef</td>\n",
       "      <td>Oliver, Jamie</td>\n",
       "      <td>Food &amp; Drink: General</td>\n",
       "      <td>Penguin</td>\n",
       "      <td>794,201</td>\n",
       "    </tr>\n",
       "    <tr>\n",
       "      <th>97</th>\n",
       "      <td>Hunger Games,The:Hunger Games Trilogy</td>\n",
       "      <td>Collins, Suzanne</td>\n",
       "      <td>Young Adult Fiction</td>\n",
       "      <td>Scholastic Ltd.</td>\n",
       "      <td>792,187</td>\n",
       "    </tr>\n",
       "    <tr>\n",
       "      <th>98</th>\n",
       "      <td>Lost Boy,The:A Foster Child's Search for the L...</td>\n",
       "      <td>Pelzer, Dave</td>\n",
       "      <td>Biography: General</td>\n",
       "      <td>Orion</td>\n",
       "      <td>791,507</td>\n",
       "    </tr>\n",
       "    <tr>\n",
       "      <th>99</th>\n",
       "      <td>Jamie's Ministry of Food:Anyone Can Learn to C...</td>\n",
       "      <td>Oliver, Jamie</td>\n",
       "      <td>Food &amp; Drink: General</td>\n",
       "      <td>Penguin</td>\n",
       "      <td>791,095</td>\n",
       "    </tr>\n",
       "  </tbody>\n",
       "</table>\n",
       "<p>100 rows × 5 columns</p>\n",
       "</div>"
      ],
      "text/plain": [
       "                                            Book_name       Author_name  \\\n",
       "0                                   Da Vinci Code,The        Brown, Dan   \n",
       "1                Harry Potter and the Deathly Hallows     Rowling, J.K.   \n",
       "2            Harry Potter and the Philosopher's Stone     Rowling, J.K.   \n",
       "3           Harry Potter and the Order of the Phoenix     Rowling, J.K.   \n",
       "4                                Fifty Shades of Grey      James, E. L.   \n",
       "..                                                ...               ...   \n",
       "95                                          Ghost,The    Harris, Robert   \n",
       "96                     Happy Days with the Naked Chef     Oliver, Jamie   \n",
       "97              Hunger Games,The:Hunger Games Trilogy  Collins, Suzanne   \n",
       "98  Lost Boy,The:A Foster Child's Search for the L...      Pelzer, Dave   \n",
       "99  Jamie's Ministry of Food:Anyone Can Learn to C...     Oliver, Jamie   \n",
       "\n",
       "                          Genre        Publisher Volumes_sold  \n",
       "0   Crime, Thriller & Adventure       Transworld    5,094,805  \n",
       "1            Children's Fiction       Bloomsbury    4,475,152  \n",
       "2            Children's Fiction       Bloomsbury    4,200,654  \n",
       "3            Children's Fiction       Bloomsbury    4,179,479  \n",
       "4               Romance & Sagas     Random House    3,758,936  \n",
       "..                          ...              ...          ...  \n",
       "95   General & Literary Fiction     Random House      807,311  \n",
       "96        Food & Drink: General          Penguin      794,201  \n",
       "97          Young Adult Fiction  Scholastic Ltd.      792,187  \n",
       "98           Biography: General            Orion      791,507  \n",
       "99        Food & Drink: General          Penguin      791,095  \n",
       "\n",
       "[100 rows x 5 columns]"
      ]
     },
     "execution_count": 60,
     "metadata": {},
     "output_type": "execute_result"
    }
   ],
   "source": [
    "Book=pd.DataFrame([])\n",
    "Book['Book_name']=Book_name\n",
    "Book['Author_name']=Author_name\n",
    "Book['Genre']=Genre\n",
    "Book['Publisher']=Publisher\n",
    "Book['Volumes_sold']=Volumes_sold\n",
    "Book"
   ]
  },
  {
   "cell_type": "markdown",
   "metadata": {},
   "source": [
    "# 7. Scrape the details most watched tv series of all time from imdb.com. "
   ]
  },
  {
   "cell_type": "code",
   "execution_count": 61,
   "metadata": {},
   "outputs": [
    {
     "name": "stderr",
     "output_type": "stream",
     "text": [
      "The chromedriver version (123.0.6312.86) detected in PATH at C:\\Users\\Adeeb Naiyer\\chromedriver.exe might not be compatible with the detected chrome version (124.0.6367.119); currently, chromedriver 124.0.6367.155 is recommended for chrome 124.*, so it is advised to delete the driver in PATH and retry\n"
     ]
    }
   ],
   "source": [
    "driver = webdriver.Chrome()\n",
    "url7=\"https://www.imdb.com/\"\n",
    "driver.get(url7)"
   ]
  },
  {
   "cell_type": "code",
   "execution_count": 62,
   "metadata": {},
   "outputs": [],
   "source": [
    "Name=[]\n",
    "Year_span=[]\n",
    "Genres=[]\n",
    "Run_time=[]\n",
    "Ratings=[]\n",
    "Votes=[]"
   ]
  },
  {
   "cell_type": "code",
   "execution_count": 63,
   "metadata": {},
   "outputs": [],
   "source": [
    "explore = driver.find_element(By.XPATH, '//div[@class=\"ipc-page-content-container ipc-page-content-container--center navbar__inner\"]/label[1]')      \n",
    "explore.click()"
   ]
  },
  {
   "cell_type": "code",
   "execution_count": 64,
   "metadata": {},
   "outputs": [],
   "source": [
    "explore = driver.find_element(By.XPATH, '/html/body/div[2]/nav/div[2]/aside[1]/div/div[2]/div/div[2]/div[1]/span/div/div/ul/a[3]/span')      \n",
    "explore.click()"
   ]
  },
  {
   "cell_type": "code",
   "execution_count": 65,
   "metadata": {},
   "outputs": [
    {
     "name": "stdout",
     "output_type": "stream",
     "text": [
      "100 ['Fallout', 'Baby Reindeer', 'Shōgun', 'Dead Boy Detectives', 'Ripley', 'The Gentlemen', '3 Body Problem', 'Game of Thrones', 'Them', 'Sugar', \"X-Men '97\", 'The Tattooist of Auschwitz', 'A Man in Full', 'Knuckles', 'The Veil', \"Grey's Anatomy\", 'Young Sheldon', 'The Rookie', 'Under the Bridge', 'Dexter', 'American Horror Story', 'Eric', 'The Sympathizer', 'Star Wars: The Bad Batch', 'Bridgerton', 'Shardlake', 'Red Eye', 'From', 'The Boys', 'Tracker', 'NCIS', 'Breaking Bad', 'Law & Order: Special Victims Unit', 'The Asunta Case', 'The Walking Dead', 'Black Sails', 'Heeramandi: The Diamond Bazaar', 'Star Trek: Discovery', '9-1-1', 'Yellowstone', 'True Detective', 'Palm Royale', 'Hacks', 'Criminal Minds', 'Vikings', 'Stranger Things', 'The Sopranos', 'Monk', 'House', 'Suits', 'Queen of Tears', 'The Office', 'Elsbeth', 'Supernatural', 'House of the Dragon', 'A Gentleman in Moscow', 'The Good Doctor', 'Ghosts', 'Shameless', 'Resident Alien', 'Euphoria', 'Fargo', 'Invincible', 'Blue Lights', 'Peaky Blinders', 'Doctor Who', 'Goodbye Earth', 'Curb Your Enthusiasm', 'The Big Bang Theory', 'The Last of Us', 'The Outsider', 'Killing Eve', 'The White Lotus', 'Outlander', 'Friends', 'Black Mirror', 'Modern Family', 'S.W.A.T.', 'The Bear', 'Better Call Saul', \"Clarkson's Farm\", 'Franklin', 'Succession', 'The Crown', 'Attack on Titan', 'White Collar', 'Ted Lasso', 'Brooklyn Nine-Nine', 'Lost', 'We Were the Lucky Ones', 'The Fall Guy', 'Masters of the Air', 'One Piece', 'Bones', 'Severance', 'Mary & George', 'The Resident', 'Sherlock', 'Chicago Fire', 'Dark Matter']\n"
     ]
    }
   ],
   "source": [
    "#scraping the Name \n",
    "mname=driver.find_elements(By.XPATH, '//div[@class=\"sc-7630d22e-3 kssHlQ ipc-page-grid__item ipc-page-grid__item--span-2\"]/ul/li/div[2]/div/div/div/a/h3')\n",
    "for i in mname:\n",
    "    if i.text is None :\n",
    "        Name.append(\"--\")\n",
    "    else:\n",
    "        Name.append(i.text)\n",
    "print(len(Name),Name)"
   ]
  },
  {
   "cell_type": "code",
   "execution_count": 66,
   "metadata": {},
   "outputs": [
    {
     "name": "stdout",
     "output_type": "stream",
     "text": [
      "100 ['2024–', '2024', '2024', '2024–', '2024', '2024', '2024', '2011–2019', '2021–', '2024–', '2024–', '2024', '2024', '2024', '2024', '2005–', '2017–2024', '2018–', '2024', '2006–2013', '2011–', '2024', '2024', '2021–2024', '2020–', '2024–', '2024–', '2022–', '2019–', '2024–', '2003–', '2008–2013', '1999–', '2024', '2010–2022', '2014–2017', '2024–', '2017–2024', '2018–', '2018–', '2014–', '2024–', '2021–', '2005–', '2013–2020', '2016–2025', '1999–2007', '2002–2009', '2004–2012', '2011–2019', '2024–', '2005–2013', '2024–', '2005–2020', '2022–', '2024–', '2017–2024', '2021–', '2011–2021', '2021–', '2019–', '2014–2024', '2021–', '2023–', '2013–2022', '2005–2022', '2024–', '2000–2024', '2007–2019', '2023–', '2020', '2018–2022', '2021–2025', '2014–', '1994–2004', '2011–', '2009–2020', '2017–', '2022–', '2015–2022', '2021–', '2024–', '2018–2023', '2016–2023', '2013–2023', '2009–2014', '2020–2023', '2013–2021', '2004–2010', '2024', '1981–1986', '2024', '1999–', '2005–2017', '2022–', '2024–', '2018–2023', '2010–2017', '2012–', '2024–']\n"
     ]
    }
   ],
   "source": [
    "#scraping the Year_span \n",
    "ys=driver.find_elements(By.XPATH, '//div[@class=\"sc-b189961a-7 feoqjK cli-title-metadata\"]/span[1]')\n",
    "for i in ys:\n",
    "    if i.text is None :\n",
    "        Year_span.append(\"--\") \n",
    "    else:\n",
    "        Year_span.append(i.text)\n",
    "print(len(Year_span),Year_span)"
   ]
  },
  {
   "cell_type": "code",
   "execution_count": 67,
   "metadata": {},
   "outputs": [
    {
     "name": "stdout",
     "output_type": "stream",
     "text": [
      "100 ['8.5\\n (154K)', '8.0\\n (71K)', '8.8\\n (114K)', '7.6\\n (7.9K)', '8.2\\n (29K)', '8.1\\n (100K)', '7.6\\n (105K)', '9.2\\n (2.3M)', '7.5\\n (26K)', '7.8\\n (8.7K)', '9.0\\n (17K)', '7.9\\n (1.9K)', '6.6\\n (4.1K)', '6.3\\n (3K)', '6.4\\n (1.1K)', '7.6\\n (342K)', '7.6\\n (103K)', '8.0\\n (73K)', '7.3\\n (1.9K)', '8.6\\n (768K)', '8.0\\n (344K)', '', '7.1\\n (2K)', '7.8\\n (54K)', '7.4\\n (169K)', '6.8\\n (1.5K)', '7.0\\n (2.2K)', '7.7\\n (71K)', '8.7\\n (654K)', '6.9\\n (6.8K)', '7.8\\n (163K)', '9.5\\n (2.1M)', '8.1\\n (125K)', '7.0\\n (3.1K)', '8.1\\n (1.1M)', '8.2\\n (114K)', '6.6\\n (22K)', '7.0\\n (136K)', '7.9\\n (47K)', '8.7\\n (222K)', '8.9\\n (658K)', '6.8\\n (5.8K)', '8.2\\n (38K)', '8.1\\n (219K)', '8.5\\n (584K)', '8.7\\n (1.3M)', '9.2\\n (473K)', '8.1\\n (89K)', '8.7\\n (515K)', '8.4\\n (480K)', '8.3\\n (7.9K)', '9.0\\n (714K)', '7.8\\n (3.9K)', '8.4\\n (484K)', '8.4\\n (378K)', '6.8\\n (3.3K)', '8.0\\n (113K)', '7.9\\n (30K)', '8.5\\n (286K)', '8.1\\n (61K)', '8.3\\n (243K)', '8.9\\n (423K)', '8.7\\n (205K)', '8.1\\n (12K)', '8.8\\n (651K)', '8.6\\n (247K)', '4.3\\n (915)', '8.8\\n (148K)', '8.1\\n (869K)', '8.7\\n (527K)', '7.6\\n (98K)', '8.1\\n (136K)', '8.0\\n (209K)', '8.4\\n (179K)', '8.9\\n (1.1M)', '8.7\\n (641K)', '8.5\\n (485K)', '7.2\\n (33K)', '8.6\\n (214K)', '9.0\\n (649K)', '9.0\\n (57K)', '6.9\\n (1.7K)', '8.8\\n (274K)', '8.6\\n (257K)', '9.1\\n (513K)', '8.2\\n (142K)', '8.8\\n (350K)', '8.4\\n (364K)', '8.3\\n (596K)', '7.3\\n (2.2K)', '7.1\\n (9.1K)', '7.8\\n (44K)', '9.0\\n (236K)', '7.8\\n (176K)', '8.7\\n (202K)', '6.9\\n (4.1K)', '7.8\\n (33K)', '9.1\\n (1M)', '8.0\\n (65K)', '7.3\\n (737)']\n"
     ]
    }
   ],
   "source": [
    "#scraping the Ratings \n",
    "rate=driver.find_elements(By.XPATH, '//div[@class=\"sc-7630d22e-3 kssHlQ ipc-page-grid__item ipc-page-grid__item--span-2\"]/ul/li/div[2]/div/div/span/div/span[1]')\n",
    "for i in rate:\n",
    "    if i.text is None :\n",
    "        Ratings.append(\"--\") \n",
    "    else:\n",
    "        Ratings.append(i.text)\n",
    "print(len(Ratings),Ratings)"
   ]
  },
  {
   "cell_type": "code",
   "execution_count": 68,
   "metadata": {},
   "outputs": [
    {
     "name": "stdout",
     "output_type": "stream",
     "text": [
      "99 [' (154K)', ' (71K)', ' (114K)', ' (7.9K)', ' (29K)', ' (100K)', ' (105K)', ' (2.3M)', ' (26K)', ' (8.7K)', ' (17K)', ' (1.9K)', ' (4.1K)', ' (3K)', ' (1.1K)', ' (342K)', ' (103K)', ' (73K)', ' (1.9K)', ' (768K)', ' (344K)', ' (2K)', ' (54K)', ' (169K)', ' (1.5K)', ' (2.2K)', ' (71K)', ' (654K)', ' (6.8K)', ' (163K)', ' (2.1M)', ' (125K)', ' (3.1K)', ' (1.1M)', ' (114K)', ' (22K)', ' (136K)', ' (47K)', ' (222K)', ' (658K)', ' (5.8K)', ' (38K)', ' (219K)', ' (584K)', ' (1.3M)', ' (473K)', ' (89K)', ' (515K)', ' (480K)', ' (7.9K)', ' (714K)', ' (3.9K)', ' (484K)', ' (378K)', ' (3.3K)', ' (113K)', ' (30K)', ' (286K)', ' (61K)', ' (243K)', ' (423K)', ' (205K)', ' (12K)', ' (651K)', ' (247K)', ' (915)', ' (148K)', ' (869K)', ' (527K)', ' (98K)', ' (136K)', ' (209K)', ' (179K)', ' (1.1M)', ' (641K)', ' (485K)', ' (33K)', ' (214K)', ' (649K)', ' (57K)', ' (1.7K)', ' (274K)', ' (257K)', ' (513K)', ' (142K)', ' (350K)', ' (364K)', ' (596K)', ' (2.2K)', ' (9.1K)', ' (44K)', ' (236K)', ' (176K)', ' (202K)', ' (4.1K)', ' (33K)', ' (1M)', ' (65K)', ' (737)']\n"
     ]
    }
   ],
   "source": [
    "#scraping the Votes \n",
    "v=driver.find_elements(By.XPATH, '//div[@class=\"sc-7630d22e-3 kssHlQ ipc-page-grid__item ipc-page-grid__item--span-2\"]/ul/li/div[2]/div/div/span/div/span/span')\n",
    "for i in v:\n",
    "    if i.text is None :\n",
    "        Votes.append(\"--\") \n",
    "    else:\n",
    "        Votes.append(i.text)\n",
    "print(len(Votes),Votes)"
   ]
  },
  {
   "cell_type": "code",
   "execution_count": 69,
   "metadata": {},
   "outputs": [
    {
     "data": {
      "text/html": [
       "<div>\n",
       "<style scoped>\n",
       "    .dataframe tbody tr th:only-of-type {\n",
       "        vertical-align: middle;\n",
       "    }\n",
       "\n",
       "    .dataframe tbody tr th {\n",
       "        vertical-align: top;\n",
       "    }\n",
       "\n",
       "    .dataframe thead th {\n",
       "        text-align: right;\n",
       "    }\n",
       "</style>\n",
       "<table border=\"1\" class=\"dataframe\">\n",
       "  <thead>\n",
       "    <tr style=\"text-align: right;\">\n",
       "      <th></th>\n",
       "      <th>Name</th>\n",
       "      <th>Year_span</th>\n",
       "      <th>Rating</th>\n",
       "      <th>Votes</th>\n",
       "    </tr>\n",
       "  </thead>\n",
       "  <tbody>\n",
       "    <tr>\n",
       "      <th>0</th>\n",
       "      <td>Fallout</td>\n",
       "      <td>2024–</td>\n",
       "      <td>8.5\\n (154K)</td>\n",
       "      <td>(154K)</td>\n",
       "    </tr>\n",
       "    <tr>\n",
       "      <th>1</th>\n",
       "      <td>Baby Reindeer</td>\n",
       "      <td>2024</td>\n",
       "      <td>8.0\\n (71K)</td>\n",
       "      <td>(71K)</td>\n",
       "    </tr>\n",
       "    <tr>\n",
       "      <th>2</th>\n",
       "      <td>Shōgun</td>\n",
       "      <td>2024</td>\n",
       "      <td>8.8\\n (114K)</td>\n",
       "      <td>(114K)</td>\n",
       "    </tr>\n",
       "    <tr>\n",
       "      <th>3</th>\n",
       "      <td>Dead Boy Detectives</td>\n",
       "      <td>2024–</td>\n",
       "      <td>7.6\\n (7.9K)</td>\n",
       "      <td>(7.9K)</td>\n",
       "    </tr>\n",
       "    <tr>\n",
       "      <th>4</th>\n",
       "      <td>Ripley</td>\n",
       "      <td>2024</td>\n",
       "      <td>8.2\\n (29K)</td>\n",
       "      <td>(29K)</td>\n",
       "    </tr>\n",
       "    <tr>\n",
       "      <th>...</th>\n",
       "      <td>...</td>\n",
       "      <td>...</td>\n",
       "      <td>...</td>\n",
       "      <td>...</td>\n",
       "    </tr>\n",
       "    <tr>\n",
       "      <th>94</th>\n",
       "      <td>Severance</td>\n",
       "      <td>2022–</td>\n",
       "      <td>8.7\\n (202K)</td>\n",
       "      <td>(4.1K)</td>\n",
       "    </tr>\n",
       "    <tr>\n",
       "      <th>95</th>\n",
       "      <td>Mary &amp; George</td>\n",
       "      <td>2024–</td>\n",
       "      <td>6.9\\n (4.1K)</td>\n",
       "      <td>(33K)</td>\n",
       "    </tr>\n",
       "    <tr>\n",
       "      <th>96</th>\n",
       "      <td>The Resident</td>\n",
       "      <td>2018–2023</td>\n",
       "      <td>7.8\\n (33K)</td>\n",
       "      <td>(1M)</td>\n",
       "    </tr>\n",
       "    <tr>\n",
       "      <th>97</th>\n",
       "      <td>Sherlock</td>\n",
       "      <td>2010–2017</td>\n",
       "      <td>9.1\\n (1M)</td>\n",
       "      <td>(65K)</td>\n",
       "    </tr>\n",
       "    <tr>\n",
       "      <th>98</th>\n",
       "      <td>Chicago Fire</td>\n",
       "      <td>2012–</td>\n",
       "      <td>8.0\\n (65K)</td>\n",
       "      <td>(737)</td>\n",
       "    </tr>\n",
       "  </tbody>\n",
       "</table>\n",
       "<p>99 rows × 4 columns</p>\n",
       "</div>"
      ],
      "text/plain": [
       "                   Name  Year_span        Rating    Votes\n",
       "0               Fallout      2024–  8.5\\n (154K)   (154K)\n",
       "1         Baby Reindeer       2024   8.0\\n (71K)    (71K)\n",
       "2                Shōgun       2024  8.8\\n (114K)   (114K)\n",
       "3   Dead Boy Detectives      2024–  7.6\\n (7.9K)   (7.9K)\n",
       "4                Ripley       2024   8.2\\n (29K)    (29K)\n",
       "..                  ...        ...           ...      ...\n",
       "94            Severance      2022–  8.7\\n (202K)   (4.1K)\n",
       "95        Mary & George      2024–  6.9\\n (4.1K)    (33K)\n",
       "96         The Resident  2018–2023   7.8\\n (33K)     (1M)\n",
       "97             Sherlock  2010–2017    9.1\\n (1M)    (65K)\n",
       "98         Chicago Fire      2012–   8.0\\n (65K)    (737)\n",
       "\n",
       "[99 rows x 4 columns]"
      ]
     },
     "execution_count": 69,
     "metadata": {},
     "output_type": "execute_result"
    }
   ],
   "source": [
    "TV_Series=pd.DataFrame([])\n",
    "TV_Series['Name']=Name[:99]\n",
    "TV_Series['Year_span']=Year_span[:99]\n",
    "TV_Series['Rating']=Ratings[:99]\n",
    "TV_Series['Votes']=Votes[:99]\n",
    "TV_Series"
   ]
  },
  {
   "cell_type": "markdown",
   "metadata": {},
   "source": [
    "# 10. Details of Datasets from UCI machine learning repositories. "
   ]
  },
  {
   "cell_type": "code",
   "execution_count": 70,
   "metadata": {},
   "outputs": [
    {
     "name": "stderr",
     "output_type": "stream",
     "text": [
      "The chromedriver version (123.0.6312.86) detected in PATH at C:\\Users\\Adeeb Naiyer\\chromedriver.exe might not be compatible with the detected chrome version (124.0.6367.119); currently, chromedriver 124.0.6367.155 is recommended for chrome 124.*, so it is advised to delete the driver in PATH and retry\n"
     ]
    }
   ],
   "source": [
    "driver = webdriver.Chrome()\n",
    "url8=\"https://archive.ics.uci.edu/ml/index.php\"\n",
    "driver.get(url8)"
   ]
  },
  {
   "cell_type": "code",
   "execution_count": 71,
   "metadata": {},
   "outputs": [],
   "source": [
    "Dataset_Name=[]\n",
    "Data_Type=[]\n",
    "Task=[]\n",
    "No_of_Instances=[]\n",
    "No_of_Attribute=[]"
   ]
  },
  {
   "cell_type": "code",
   "execution_count": 72,
   "metadata": {},
   "outputs": [],
   "source": [
    "search_1 = driver.find_element(By.XPATH, '/html/body/div/div[1]/div[1]/main/div/div[1]/div/div/div/a[1]')      \n",
    "search_1.click()"
   ]
  },
  {
   "cell_type": "code",
   "execution_count": 73,
   "metadata": {},
   "outputs": [
    {
     "name": "stdout",
     "output_type": "stream",
     "text": [
      "10 ['Iris', 'Heart Disease', 'Dry Bean', 'Rice (Cammeo and Osmancik)', 'Adult', 'Breast Cancer Wisconsin (Diagnostic)', 'Raisin', 'Wine', 'Wine Quality', 'Diabetes']\n"
     ]
    }
   ],
   "source": [
    "#scraping the Dataset_Name \n",
    "dname=driver.find_elements(By.XPATH, '//a[@class=\"link-hover link text-xl font-semibold\"]')\n",
    "for i in dname:\n",
    "    if i.text is None :\n",
    "        Dataset_Name.append(\"--\") \n",
    "    else:\n",
    "        Dataset_Name.append(i.text)\n",
    "print(len(Dataset_Name),Dataset_Name)"
   ]
  },
  {
   "cell_type": "code",
   "execution_count": 74,
   "metadata": {},
   "outputs": [
    {
     "name": "stdout",
     "output_type": "stream",
     "text": [
      "10 ['Tabular', 'Multivariate', 'Multivariate', 'Multivariate', 'Multivariate', 'Multivariate', 'Multivariate', 'Tabular', 'Multivariate', 'Multivariate, Time-Series']\n"
     ]
    }
   ],
   "source": [
    "#scraping the Data_Type \n",
    "dtype=driver.find_elements(By.XPATH, '//div[@class=\"my-2 hidden gap-4 md:grid grid-cols-12\"]/div[2]')\n",
    "for i in dtype:\n",
    "    if i.text is None :\n",
    "        Data_Type.append(\"--\") \n",
    "    else:\n",
    "        Data_Type.append(i.text)\n",
    "print(len(Data_Type),Data_Type)"
   ]
  },
  {
   "cell_type": "code",
   "execution_count": 75,
   "metadata": {},
   "outputs": [
    {
     "name": "stdout",
     "output_type": "stream",
     "text": [
      "10 ['Classification', 'Classification', 'Classification', 'Classification', 'Classification', 'Classification', 'Classification', 'Classification', 'Classification, Regression', 'Classification']\n"
     ]
    }
   ],
   "source": [
    "#scraping the Task \n",
    "t=driver.find_elements(By.XPATH, '//div[@class=\"my-2 hidden gap-4 md:grid grid-cols-12\"]/div[1]')\n",
    "for i in t:\n",
    "    if i.text is None :\n",
    "        Task.append(\"--\") \n",
    "    else:\n",
    "        Task.append(i.text)\n",
    "print(len(Task),Task)"
   ]
  },
  {
   "cell_type": "code",
   "execution_count": 76,
   "metadata": {},
   "outputs": [
    {
     "name": "stdout",
     "output_type": "stream",
     "text": [
      "10 ['150 Instances', '303 Instances', '13.61K Instances', '3.81K Instances', '48.84K Instances', '569 Instances', '900 Instances', '178 Instances', '4.9K Instances', '1 Instances']\n"
     ]
    }
   ],
   "source": [
    "#scraping the No_of_Instances \n",
    "inst=driver.find_elements(By.XPATH, '//div[@class=\"my-2 hidden gap-4 md:grid grid-cols-12\"]/div[3]')\n",
    "for i in inst:\n",
    "    if i.text is None :\n",
    "        No_of_Instances.append(\"--\") \n",
    "    else:\n",
    "        No_of_Instances.append(i.text)\n",
    "print(len(No_of_Instances),No_of_Instances)"
   ]
  },
  {
   "cell_type": "code",
   "execution_count": 77,
   "metadata": {},
   "outputs": [
    {
     "name": "stdout",
     "output_type": "stream",
     "text": [
      "10 ['4 Features', '13 Features', '16 Features', '7 Features', '14 Features', '30 Features', '8 Features', '13 Features', '12 Features', '20 Features']\n"
     ]
    }
   ],
   "source": [
    "#scraping the No_of_Attribute \n",
    "noa=driver.find_elements(By.XPATH, '//div[@class=\"my-2 hidden gap-4 md:grid grid-cols-12\"]/div[4]')\n",
    "for i in noa:\n",
    "    if i.text is None :\n",
    "        No_of_Attribute.append(\"--\") \n",
    "    else:\n",
    "        No_of_Attribute.append(i.text)\n",
    "print(len(No_of_Attribute),No_of_Attribute)"
   ]
  },
  {
   "cell_type": "code",
   "execution_count": 78,
   "metadata": {},
   "outputs": [
    {
     "data": {
      "text/html": [
       "<div>\n",
       "<style scoped>\n",
       "    .dataframe tbody tr th:only-of-type {\n",
       "        vertical-align: middle;\n",
       "    }\n",
       "\n",
       "    .dataframe tbody tr th {\n",
       "        vertical-align: top;\n",
       "    }\n",
       "\n",
       "    .dataframe thead th {\n",
       "        text-align: right;\n",
       "    }\n",
       "</style>\n",
       "<table border=\"1\" class=\"dataframe\">\n",
       "  <thead>\n",
       "    <tr style=\"text-align: right;\">\n",
       "      <th></th>\n",
       "      <th>Dataset_Name</th>\n",
       "      <th>Data_Type</th>\n",
       "      <th>Task</th>\n",
       "      <th>No_of_Instances</th>\n",
       "      <th>No_of_Attribute</th>\n",
       "    </tr>\n",
       "  </thead>\n",
       "  <tbody>\n",
       "    <tr>\n",
       "      <th>0</th>\n",
       "      <td>Iris</td>\n",
       "      <td>Tabular</td>\n",
       "      <td>Classification</td>\n",
       "      <td>150 Instances</td>\n",
       "      <td>4 Features</td>\n",
       "    </tr>\n",
       "    <tr>\n",
       "      <th>1</th>\n",
       "      <td>Heart Disease</td>\n",
       "      <td>Multivariate</td>\n",
       "      <td>Classification</td>\n",
       "      <td>303 Instances</td>\n",
       "      <td>13 Features</td>\n",
       "    </tr>\n",
       "    <tr>\n",
       "      <th>2</th>\n",
       "      <td>Dry Bean</td>\n",
       "      <td>Multivariate</td>\n",
       "      <td>Classification</td>\n",
       "      <td>13.61K Instances</td>\n",
       "      <td>16 Features</td>\n",
       "    </tr>\n",
       "    <tr>\n",
       "      <th>3</th>\n",
       "      <td>Rice (Cammeo and Osmancik)</td>\n",
       "      <td>Multivariate</td>\n",
       "      <td>Classification</td>\n",
       "      <td>3.81K Instances</td>\n",
       "      <td>7 Features</td>\n",
       "    </tr>\n",
       "    <tr>\n",
       "      <th>4</th>\n",
       "      <td>Adult</td>\n",
       "      <td>Multivariate</td>\n",
       "      <td>Classification</td>\n",
       "      <td>48.84K Instances</td>\n",
       "      <td>14 Features</td>\n",
       "    </tr>\n",
       "    <tr>\n",
       "      <th>5</th>\n",
       "      <td>Breast Cancer Wisconsin (Diagnostic)</td>\n",
       "      <td>Multivariate</td>\n",
       "      <td>Classification</td>\n",
       "      <td>569 Instances</td>\n",
       "      <td>30 Features</td>\n",
       "    </tr>\n",
       "    <tr>\n",
       "      <th>6</th>\n",
       "      <td>Raisin</td>\n",
       "      <td>Multivariate</td>\n",
       "      <td>Classification</td>\n",
       "      <td>900 Instances</td>\n",
       "      <td>8 Features</td>\n",
       "    </tr>\n",
       "    <tr>\n",
       "      <th>7</th>\n",
       "      <td>Wine</td>\n",
       "      <td>Tabular</td>\n",
       "      <td>Classification</td>\n",
       "      <td>178 Instances</td>\n",
       "      <td>13 Features</td>\n",
       "    </tr>\n",
       "    <tr>\n",
       "      <th>8</th>\n",
       "      <td>Wine Quality</td>\n",
       "      <td>Multivariate</td>\n",
       "      <td>Classification, Regression</td>\n",
       "      <td>4.9K Instances</td>\n",
       "      <td>12 Features</td>\n",
       "    </tr>\n",
       "    <tr>\n",
       "      <th>9</th>\n",
       "      <td>Diabetes</td>\n",
       "      <td>Multivariate, Time-Series</td>\n",
       "      <td>Classification</td>\n",
       "      <td>1 Instances</td>\n",
       "      <td>20 Features</td>\n",
       "    </tr>\n",
       "  </tbody>\n",
       "</table>\n",
       "</div>"
      ],
      "text/plain": [
       "                           Dataset_Name                  Data_Type  \\\n",
       "0                                  Iris                    Tabular   \n",
       "1                         Heart Disease               Multivariate   \n",
       "2                              Dry Bean               Multivariate   \n",
       "3            Rice (Cammeo and Osmancik)               Multivariate   \n",
       "4                                 Adult               Multivariate   \n",
       "5  Breast Cancer Wisconsin (Diagnostic)               Multivariate   \n",
       "6                                Raisin               Multivariate   \n",
       "7                                  Wine                    Tabular   \n",
       "8                          Wine Quality               Multivariate   \n",
       "9                              Diabetes  Multivariate, Time-Series   \n",
       "\n",
       "                         Task   No_of_Instances No_of_Attribute  \n",
       "0              Classification     150 Instances      4 Features  \n",
       "1              Classification     303 Instances     13 Features  \n",
       "2              Classification  13.61K Instances     16 Features  \n",
       "3              Classification   3.81K Instances      7 Features  \n",
       "4              Classification  48.84K Instances     14 Features  \n",
       "5              Classification     569 Instances     30 Features  \n",
       "6              Classification     900 Instances      8 Features  \n",
       "7              Classification     178 Instances     13 Features  \n",
       "8  Classification, Regression    4.9K Instances     12 Features  \n",
       "9              Classification       1 Instances     20 Features  "
      ]
     },
     "execution_count": 78,
     "metadata": {},
     "output_type": "execute_result"
    }
   ],
   "source": [
    "UCI=pd.DataFrame([])\n",
    "UCI['Dataset_Name']=Dataset_Name\n",
    "UCI['Data_Type']=Data_Type\n",
    "UCI['Task']=Task\n",
    "UCI['No_of_Instances']=No_of_Instances\n",
    "UCI['No_of_Attribute']=No_of_Attribute\n",
    "UCI"
   ]
  },
  {
   "cell_type": "code",
   "execution_count": null,
   "metadata": {},
   "outputs": [],
   "source": []
  }
 ],
 "metadata": {
  "kernelspec": {
   "display_name": "py310",
   "language": "python",
   "name": "py310"
  },
  "language_info": {
   "codemirror_mode": {
    "name": "ipython",
    "version": 3
   },
   "file_extension": ".py",
   "mimetype": "text/x-python",
   "name": "python",
   "nbconvert_exporter": "python",
   "pygments_lexer": "ipython3",
   "version": "3.10.14"
  }
 },
 "nbformat": 4,
 "nbformat_minor": 4
}
