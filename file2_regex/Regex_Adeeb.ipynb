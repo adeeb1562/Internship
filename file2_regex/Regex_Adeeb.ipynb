{
  "nbformat": 4,
  "nbformat_minor": 0,
  "metadata": {
    "colab": {
      "provenance": []
    },
    "kernelspec": {
      "name": "python3",
      "display_name": "Python 3"
    },
    "language_info": {
      "name": "python"
    }
  },
  "cells": [
    {
      "cell_type": "markdown",
      "source": [
        "# **Regular Expression Practice Questions**"
      ],
      "metadata": {
        "id": "SXygqncgrkke"
      }
    },
    {
      "cell_type": "markdown",
      "source": [
        "Question 1- Write a RegEx pattern in python program to check that a string contains only a certain set of characters (in this case a-z, A-Z and 0-9)."
      ],
      "metadata": {
        "id": "6KQDfMLDro8o"
      }
    },
    {
      "cell_type": "code",
      "source": [
        "import re"
      ],
      "metadata": {
        "id": "U2gUIo4MsBAt"
      },
      "execution_count": 13,
      "outputs": []
    },
    {
      "cell_type": "code",
      "source": [
        "def pat_func(input):\n",
        "  pattern=r'[a-zA-Z0-9]+'\n",
        "  return re.match(pattern, input)"
      ],
      "metadata": {
        "id": "_W9dharVt6xk"
      },
      "execution_count": 29,
      "outputs": []
    },
    {
      "cell_type": "code",
      "source": [
        "test1=\"helloWorld\"\n",
        "test2=\"HelloWor@ld12\"\n",
        "test3=\"Hello world\"\n",
        "test4=\"HelloWorld12@\"\n",
        "test5=\"@helloworld\""
      ],
      "metadata": {
        "id": "PYcpN3qswBba"
      },
      "execution_count": 47,
      "outputs": []
    },
    {
      "cell_type": "code",
      "source": [
        "print(pat_func(test1))\n",
        "print(pat_func(test2))\n",
        "print(pat_func(test3))\n",
        "print(pat_func(test4))\n",
        "print(pat_func(test5))"
      ],
      "metadata": {
        "colab": {
          "base_uri": "https://localhost:8080/"
        },
        "id": "U83D-BCZpKE9",
        "outputId": "8c69ffa9-d80b-417f-de95-f04062615f47"
      },
      "execution_count": 48,
      "outputs": [
        {
          "output_type": "stream",
          "name": "stdout",
          "text": [
            "<re.Match object; span=(0, 10), match='helloWorld'>\n",
            "<re.Match object; span=(0, 8), match='HelloWor'>\n",
            "<re.Match object; span=(0, 5), match='Hello'>\n",
            "<re.Match object; span=(0, 12), match='HelloWorld12'>\n",
            "None\n"
          ]
        }
      ]
    },
    {
      "cell_type": "markdown",
      "source": [
        "Question 2- Write a RegEx pattern that matches a string that has an a followed by zero or more b's"
      ],
      "metadata": {
        "id": "BuYHccJarzaL"
      }
    },
    {
      "cell_type": "code",
      "source": [
        "def pat_func(input):\n",
        "  pattern=r'ab*'\n",
        "  return re.match(pattern, input)"
      ],
      "metadata": {
        "id": "LyjuK5l1r2WO"
      },
      "execution_count": 49,
      "outputs": []
    },
    {
      "cell_type": "code",
      "source": [
        "test1='abbbbc'\n",
        "print(pat_func(test1))"
      ],
      "metadata": {
        "colab": {
          "base_uri": "https://localhost:8080/"
        },
        "id": "Q8tNxSJ3tjg6",
        "outputId": "ed1a363a-0f02-456b-dd36-975a7d508d9b"
      },
      "execution_count": 50,
      "outputs": [
        {
          "output_type": "stream",
          "name": "stdout",
          "text": [
            "<re.Match object; span=(0, 5), match='abbbb'>\n"
          ]
        }
      ]
    },
    {
      "cell_type": "markdown",
      "source": [
        "Question 3-  Write a RegEx pattern that matches a string that has an a followed by one or more b's"
      ],
      "metadata": {
        "id": "uaYoFct8tH6E"
      }
    },
    {
      "cell_type": "code",
      "source": [
        "def pat_func(input):\n",
        "  pattern=r'ab+'\n",
        "  return re.match(pattern, input)"
      ],
      "metadata": {
        "id": "Dl5ku4QvtRZe"
      },
      "execution_count": 54,
      "outputs": []
    },
    {
      "cell_type": "code",
      "source": [
        "test1='abbbbc'\n",
        "test2='ac'\n",
        "print(pat_func(test1))\n",
        "print(pat_func(test2))"
      ],
      "metadata": {
        "colab": {
          "base_uri": "https://localhost:8080/"
        },
        "id": "OVYyOTkEy7Df",
        "outputId": "08acf27a-3db0-438a-e7e7-3b40a432c9f3"
      },
      "execution_count": 57,
      "outputs": [
        {
          "output_type": "stream",
          "name": "stdout",
          "text": [
            "<re.Match object; span=(0, 5), match='abbbb'>\n",
            "None\n"
          ]
        }
      ]
    },
    {
      "cell_type": "markdown",
      "source": [
        "Question 4- Write a RegEx pattern that matches a string that has an a followed by zero or one 'b'."
      ],
      "metadata": {
        "id": "NxbAEjdmzbHi"
      }
    },
    {
      "cell_type": "code",
      "source": [
        "def pat_func(input):\n",
        "  pattern=r'ab?'\n",
        "  return re.match(pattern, input)"
      ],
      "metadata": {
        "id": "xgEYC2Nszd5K"
      },
      "execution_count": 60,
      "outputs": []
    },
    {
      "cell_type": "code",
      "source": [
        "test1='a'\n",
        "test2='abb'\n",
        "test3='b'"
      ],
      "metadata": {
        "id": "6RPb8HrXzxCq"
      },
      "execution_count": 62,
      "outputs": []
    },
    {
      "cell_type": "code",
      "source": [
        "print(pat_func(test1))\n",
        "print(pat_func(test2))\n",
        "print(pat_func(test3))"
      ],
      "metadata": {
        "colab": {
          "base_uri": "https://localhost:8080/"
        },
        "id": "2kC1sXf50M9P",
        "outputId": "5d6f7d95-0916-4b7a-93ae-34c9d6cd2933"
      },
      "execution_count": 63,
      "outputs": [
        {
          "output_type": "stream",
          "name": "stdout",
          "text": [
            "<re.Match object; span=(0, 1), match='a'>\n",
            "<re.Match object; span=(0, 2), match='ab'>\n",
            "None\n"
          ]
        }
      ]
    },
    {
      "cell_type": "markdown",
      "source": [
        "Question 5- Write a RegEx pattern in python program that matches a string that has an a followed by three 'b'."
      ],
      "metadata": {
        "id": "txncSyIN0Pdv"
      }
    },
    {
      "cell_type": "code",
      "source": [
        "def pat_func(input):\n",
        "  pattern=r'ab{3}'\n",
        "  return re.match(pattern, input)"
      ],
      "metadata": {
        "id": "szmoJ5Ty0R0P"
      },
      "execution_count": 69,
      "outputs": []
    },
    {
      "cell_type": "code",
      "source": [
        "test1='abbbb'\n",
        "test2='abb'\n",
        "print(pat_func(test1))\n",
        "print(pat_func(test2))"
      ],
      "metadata": {
        "colab": {
          "base_uri": "https://localhost:8080/"
        },
        "id": "mb0s-BwT0TuP",
        "outputId": "fe898bd6-e9f5-421f-e2fb-e038235b0ba0"
      },
      "execution_count": 71,
      "outputs": [
        {
          "output_type": "stream",
          "name": "stdout",
          "text": [
            "<re.Match object; span=(0, 4), match='abbb'>\n",
            "None\n"
          ]
        }
      ]
    },
    {
      "cell_type": "markdown",
      "source": [
        "Question 6- Write a RegEx pattern in python program that matches a string that has an a followed by two to three 'b'."
      ],
      "metadata": {
        "id": "cgLO4v7r07y9"
      }
    },
    {
      "cell_type": "code",
      "source": [
        "def pat_func(input):\n",
        "  pattern=r'ab{2,3}'\n",
        "  return re.match(pattern, input)"
      ],
      "metadata": {
        "id": "7aj0Y8lR0-R3"
      },
      "execution_count": 72,
      "outputs": []
    },
    {
      "cell_type": "code",
      "source": [
        "test1='abbbbb'\n",
        "test2='bb'\n",
        "test3='ab'\n",
        "test4='abb'\n",
        "test5='abbb'\n",
        "print(pat_func(test1))\n",
        "print(pat_func(test2))\n",
        "print(pat_func(test3))\n",
        "print(pat_func(test4))\n",
        "print(pat_func(test5))"
      ],
      "metadata": {
        "colab": {
          "base_uri": "https://localhost:8080/"
        },
        "id": "OXPqDm-r1An_",
        "outputId": "4ac574fd-5ab5-462f-90b0-2b8c5ec1a8bc"
      },
      "execution_count": 73,
      "outputs": [
        {
          "output_type": "stream",
          "name": "stdout",
          "text": [
            "<re.Match object; span=(0, 4), match='abbb'>\n",
            "None\n",
            "None\n",
            "<re.Match object; span=(0, 3), match='abb'>\n",
            "<re.Match object; span=(0, 4), match='abbb'>\n"
          ]
        }
      ]
    },
    {
      "cell_type": "markdown",
      "source": [
        "Question 7- Write a Python program that matches a string that has an 'a' followed by anything, ending in 'b'."
      ],
      "metadata": {
        "id": "ZZGXuOxI1sh7"
      }
    },
    {
      "cell_type": "code",
      "source": [
        "def pat_func(input):\n",
        "  pattern=r'^a.*b$'\n",
        "  return re.match(pattern, input)"
      ],
      "metadata": {
        "id": "v9h9_7Aq1vN6"
      },
      "execution_count": 77,
      "outputs": []
    },
    {
      "cell_type": "code",
      "source": [
        "test1='afgb'\n",
        "test2='fgb'\n",
        "print(pat_func(test1))\n",
        "print(pat_func(test2))"
      ],
      "metadata": {
        "colab": {
          "base_uri": "https://localhost:8080/"
        },
        "id": "mGlH0Mlb2BTQ",
        "outputId": "10b697e0-7368-4b61-8c8b-44df4b1aa7d8"
      },
      "execution_count": 79,
      "outputs": [
        {
          "output_type": "stream",
          "name": "stdout",
          "text": [
            "<re.Match object; span=(0, 4), match='afgb'>\n",
            "None\n"
          ]
        }
      ]
    },
    {
      "cell_type": "markdown",
      "source": [
        "Question 8- Write a RegEx pattern in python program that matches a word at the beginning of a string."
      ],
      "metadata": {
        "id": "UTLFI2T42Z8B"
      }
    },
    {
      "cell_type": "code",
      "source": [
        "def pat_func(input):\n",
        "  pattern=r'^\\w+'\n",
        "  return re.match(pattern, input)"
      ],
      "metadata": {
        "id": "n2Da_9sB2cCK"
      },
      "execution_count": 80,
      "outputs": []
    },
    {
      "cell_type": "code",
      "source": [
        "test1='hello world'\n",
        "test2='23 is my lucky number'\n",
        "print(pat_func(test1))\n",
        "print(pat_func(test2))"
      ],
      "metadata": {
        "colab": {
          "base_uri": "https://localhost:8080/"
        },
        "id": "LasEbFvV2sNR",
        "outputId": "12d0935e-fdde-416f-e540-a1f144de8bb5"
      },
      "execution_count": 81,
      "outputs": [
        {
          "output_type": "stream",
          "name": "stdout",
          "text": [
            "<re.Match object; span=(0, 5), match='hello'>\n",
            "<re.Match object; span=(0, 2), match='23'>\n"
          ]
        }
      ]
    },
    {
      "cell_type": "markdown",
      "source": [
        "Question 9- Write a RegEx pattern in python program that matches a word at the end of a string."
      ],
      "metadata": {
        "id": "joCAlq8o3eTC"
      }
    },
    {
      "cell_type": "code",
      "source": [
        "def pat_func(input):\n",
        "  pattern=r'.\\w+$'\n",
        "  return re.search(pattern, input)"
      ],
      "metadata": {
        "id": "NElD-z6d3gYP"
      },
      "execution_count": 105,
      "outputs": []
    },
    {
      "cell_type": "code",
      "source": [
        "test1='Hello world'\n",
        "test2='my lucky number is 23'\n",
        "print(pat_func(test1))\n",
        "print(pat_func(test2))"
      ],
      "metadata": {
        "colab": {
          "base_uri": "https://localhost:8080/"
        },
        "id": "yqZBgoMm3n8W",
        "outputId": "770391c5-13a0-4e99-81b5-55a66846fa83"
      },
      "execution_count": 107,
      "outputs": [
        {
          "output_type": "stream",
          "name": "stdout",
          "text": [
            "<re.Match object; span=(5, 11), match=' world'>\n",
            "<re.Match object; span=(18, 21), match=' 23'>\n"
          ]
        }
      ]
    },
    {
      "cell_type": "markdown",
      "source": [
        "Question 10- Write a RegEx pattern in python program to find all words that are 4 digits long in a string.\n",
        "Sample text- '01 0132 231875 1458 301 2725.'\n",
        "Expected output- ['0132', '1458', '2725']\n"
      ],
      "metadata": {
        "id": "IwWwJGTy5ZlY"
      }
    },
    {
      "cell_type": "code",
      "source": [
        "def pat_func(input):\n",
        "  pattern=r'\\b\\d{4}\\b'\n",
        "  return re.findall(pattern, input)"
      ],
      "metadata": {
        "id": "BA-QyvR_5aWv"
      },
      "execution_count": 108,
      "outputs": []
    },
    {
      "cell_type": "code",
      "source": [
        "test1='01 0132 231875 1458 301 2725'\n",
        "print(pat_func(test1))"
      ],
      "metadata": {
        "colab": {
          "base_uri": "https://localhost:8080/"
        },
        "id": "1VvKbqxA5tYy",
        "outputId": "98952a71-d7ab-46ff-8b2f-3436fd1ffbb8"
      },
      "execution_count": 109,
      "outputs": [
        {
          "output_type": "stream",
          "name": "stdout",
          "text": [
            "['0132', '1458', '2725']\n"
          ]
        }
      ]
    }
  ]
}