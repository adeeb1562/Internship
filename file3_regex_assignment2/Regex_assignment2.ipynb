{
  "nbformat": 4,
  "nbformat_minor": 0,
  "metadata": {
    "colab": {
      "provenance": []
    },
    "kernelspec": {
      "name": "python3",
      "display_name": "Python 3"
    },
    "language_info": {
      "name": "python"
    }
  },
  "cells": [
    {
      "cell_type": "markdown",
      "source": [
        "# **Regular Expressions -  Assignment 2**"
      ],
      "metadata": {
        "id": "QYI4w2fqgLTd"
      }
    },
    {
      "cell_type": "markdown",
      "source": [
        "Question 1- Write a Python program to replace all occurrences of a space, comma, or dot with a colon.\n",
        "\n",
        "Sample Text- 'Python Exercises, PHP exercises.'\n",
        "\n",
        "Expected Output: Python:Exercises::PHP:exercises:\n"
      ],
      "metadata": {
        "id": "fXJ438UPgQqy"
      }
    },
    {
      "cell_type": "code",
      "execution_count": 20,
      "metadata": {
        "colab": {
          "base_uri": "https://localhost:8080/"
        },
        "id": "cENqKS25gKuT",
        "outputId": "0021e0e4-ab55-4869-c72e-eb6fbd5f5676"
      },
      "outputs": [
        {
          "output_type": "stream",
          "name": "stdout",
          "text": [
            "Python:Exercises::PHP:exercises:\n"
          ]
        }
      ],
      "source": [
        "import re\n",
        "sample_text='Python Exercises, PHP exercises.'\n",
        "replaced_text = re.sub(r'[ ,.]', ':', sample_text)\n",
        "print(replaced_text)"
      ]
    },
    {
      "cell_type": "markdown",
      "source": [
        "Question 2-  Create a dataframe using the dictionary below and remove everything (commas (,), !, XXXX, ;, etc.) from the columns except words.\n",
        "\n",
        "Dictionary- {'SUMMARY' : ['hello, world!', 'XXXXX test', '123four, five:; six...']}\n",
        "\n",
        "Expected output-\n",
        "\n",
        "0      hello world\n",
        "\n",
        "1             test\n",
        "\n",
        "2    four five six\n"
      ],
      "metadata": {
        "id": "TKan9lWXpbPO"
      }
    },
    {
      "cell_type": "code",
      "source": [
        "import pandas as pd\n",
        "\n",
        "dic= {'SUMMARY' : ['hello, world!', 'XXXXX test', '123four, five:; six...']}\n",
        "\n",
        "def new_dict(old_dict):\n",
        "\n",
        "    new_pat = re.sub(r'XXXX|123|[^\\w\\s]', '', old_dict)\n",
        "    return new_pat\n",
        "\n",
        "cleaned_summary = [new_dict(summary) for summary in dic['SUMMARY']]\n",
        "\n",
        "updated_dic = {'SUMMARY': cleaned_summary}\n",
        "df = pd.DataFrame(updated_dic)\n",
        "df"
      ],
      "metadata": {
        "colab": {
          "base_uri": "https://localhost:8080/",
          "height": 143
        },
        "id": "8JTTONWApehG",
        "outputId": "aabafe6b-0c24-4f64-8bf6-d0c5b3849c64"
      },
      "execution_count": 21,
      "outputs": [
        {
          "output_type": "execute_result",
          "data": {
            "text/plain": [
              "         SUMMARY\n",
              "0    hello world\n",
              "1         X test\n",
              "2  four five six"
            ],
            "text/html": [
              "\n",
              "  <div id=\"df-6ba31754-11c3-49bf-898e-c75935694df0\" class=\"colab-df-container\">\n",
              "    <div>\n",
              "<style scoped>\n",
              "    .dataframe tbody tr th:only-of-type {\n",
              "        vertical-align: middle;\n",
              "    }\n",
              "\n",
              "    .dataframe tbody tr th {\n",
              "        vertical-align: top;\n",
              "    }\n",
              "\n",
              "    .dataframe thead th {\n",
              "        text-align: right;\n",
              "    }\n",
              "</style>\n",
              "<table border=\"1\" class=\"dataframe\">\n",
              "  <thead>\n",
              "    <tr style=\"text-align: right;\">\n",
              "      <th></th>\n",
              "      <th>SUMMARY</th>\n",
              "    </tr>\n",
              "  </thead>\n",
              "  <tbody>\n",
              "    <tr>\n",
              "      <th>0</th>\n",
              "      <td>hello world</td>\n",
              "    </tr>\n",
              "    <tr>\n",
              "      <th>1</th>\n",
              "      <td>X test</td>\n",
              "    </tr>\n",
              "    <tr>\n",
              "      <th>2</th>\n",
              "      <td>four five six</td>\n",
              "    </tr>\n",
              "  </tbody>\n",
              "</table>\n",
              "</div>\n",
              "    <div class=\"colab-df-buttons\">\n",
              "\n",
              "  <div class=\"colab-df-container\">\n",
              "    <button class=\"colab-df-convert\" onclick=\"convertToInteractive('df-6ba31754-11c3-49bf-898e-c75935694df0')\"\n",
              "            title=\"Convert this dataframe to an interactive table.\"\n",
              "            style=\"display:none;\">\n",
              "\n",
              "  <svg xmlns=\"http://www.w3.org/2000/svg\" height=\"24px\" viewBox=\"0 -960 960 960\">\n",
              "    <path d=\"M120-120v-720h720v720H120Zm60-500h600v-160H180v160Zm220 220h160v-160H400v160Zm0 220h160v-160H400v160ZM180-400h160v-160H180v160Zm440 0h160v-160H620v160ZM180-180h160v-160H180v160Zm440 0h160v-160H620v160Z\"/>\n",
              "  </svg>\n",
              "    </button>\n",
              "\n",
              "  <style>\n",
              "    .colab-df-container {\n",
              "      display:flex;\n",
              "      gap: 12px;\n",
              "    }\n",
              "\n",
              "    .colab-df-convert {\n",
              "      background-color: #E8F0FE;\n",
              "      border: none;\n",
              "      border-radius: 50%;\n",
              "      cursor: pointer;\n",
              "      display: none;\n",
              "      fill: #1967D2;\n",
              "      height: 32px;\n",
              "      padding: 0 0 0 0;\n",
              "      width: 32px;\n",
              "    }\n",
              "\n",
              "    .colab-df-convert:hover {\n",
              "      background-color: #E2EBFA;\n",
              "      box-shadow: 0px 1px 2px rgba(60, 64, 67, 0.3), 0px 1px 3px 1px rgba(60, 64, 67, 0.15);\n",
              "      fill: #174EA6;\n",
              "    }\n",
              "\n",
              "    .colab-df-buttons div {\n",
              "      margin-bottom: 4px;\n",
              "    }\n",
              "\n",
              "    [theme=dark] .colab-df-convert {\n",
              "      background-color: #3B4455;\n",
              "      fill: #D2E3FC;\n",
              "    }\n",
              "\n",
              "    [theme=dark] .colab-df-convert:hover {\n",
              "      background-color: #434B5C;\n",
              "      box-shadow: 0px 1px 3px 1px rgba(0, 0, 0, 0.15);\n",
              "      filter: drop-shadow(0px 1px 2px rgba(0, 0, 0, 0.3));\n",
              "      fill: #FFFFFF;\n",
              "    }\n",
              "  </style>\n",
              "\n",
              "    <script>\n",
              "      const buttonEl =\n",
              "        document.querySelector('#df-6ba31754-11c3-49bf-898e-c75935694df0 button.colab-df-convert');\n",
              "      buttonEl.style.display =\n",
              "        google.colab.kernel.accessAllowed ? 'block' : 'none';\n",
              "\n",
              "      async function convertToInteractive(key) {\n",
              "        const element = document.querySelector('#df-6ba31754-11c3-49bf-898e-c75935694df0');\n",
              "        const dataTable =\n",
              "          await google.colab.kernel.invokeFunction('convertToInteractive',\n",
              "                                                    [key], {});\n",
              "        if (!dataTable) return;\n",
              "\n",
              "        const docLinkHtml = 'Like what you see? Visit the ' +\n",
              "          '<a target=\"_blank\" href=https://colab.research.google.com/notebooks/data_table.ipynb>data table notebook</a>'\n",
              "          + ' to learn more about interactive tables.';\n",
              "        element.innerHTML = '';\n",
              "        dataTable['output_type'] = 'display_data';\n",
              "        await google.colab.output.renderOutput(dataTable, element);\n",
              "        const docLink = document.createElement('div');\n",
              "        docLink.innerHTML = docLinkHtml;\n",
              "        element.appendChild(docLink);\n",
              "      }\n",
              "    </script>\n",
              "  </div>\n",
              "\n",
              "\n",
              "<div id=\"df-e80b657b-901a-4853-9f72-a2aacb5ff8ce\">\n",
              "  <button class=\"colab-df-quickchart\" onclick=\"quickchart('df-e80b657b-901a-4853-9f72-a2aacb5ff8ce')\"\n",
              "            title=\"Suggest charts\"\n",
              "            style=\"display:none;\">\n",
              "\n",
              "<svg xmlns=\"http://www.w3.org/2000/svg\" height=\"24px\"viewBox=\"0 0 24 24\"\n",
              "     width=\"24px\">\n",
              "    <g>\n",
              "        <path d=\"M19 3H5c-1.1 0-2 .9-2 2v14c0 1.1.9 2 2 2h14c1.1 0 2-.9 2-2V5c0-1.1-.9-2-2-2zM9 17H7v-7h2v7zm4 0h-2V7h2v10zm4 0h-2v-4h2v4z\"/>\n",
              "    </g>\n",
              "</svg>\n",
              "  </button>\n",
              "\n",
              "<style>\n",
              "  .colab-df-quickchart {\n",
              "      --bg-color: #E8F0FE;\n",
              "      --fill-color: #1967D2;\n",
              "      --hover-bg-color: #E2EBFA;\n",
              "      --hover-fill-color: #174EA6;\n",
              "      --disabled-fill-color: #AAA;\n",
              "      --disabled-bg-color: #DDD;\n",
              "  }\n",
              "\n",
              "  [theme=dark] .colab-df-quickchart {\n",
              "      --bg-color: #3B4455;\n",
              "      --fill-color: #D2E3FC;\n",
              "      --hover-bg-color: #434B5C;\n",
              "      --hover-fill-color: #FFFFFF;\n",
              "      --disabled-bg-color: #3B4455;\n",
              "      --disabled-fill-color: #666;\n",
              "  }\n",
              "\n",
              "  .colab-df-quickchart {\n",
              "    background-color: var(--bg-color);\n",
              "    border: none;\n",
              "    border-radius: 50%;\n",
              "    cursor: pointer;\n",
              "    display: none;\n",
              "    fill: var(--fill-color);\n",
              "    height: 32px;\n",
              "    padding: 0;\n",
              "    width: 32px;\n",
              "  }\n",
              "\n",
              "  .colab-df-quickchart:hover {\n",
              "    background-color: var(--hover-bg-color);\n",
              "    box-shadow: 0 1px 2px rgba(60, 64, 67, 0.3), 0 1px 3px 1px rgba(60, 64, 67, 0.15);\n",
              "    fill: var(--button-hover-fill-color);\n",
              "  }\n",
              "\n",
              "  .colab-df-quickchart-complete:disabled,\n",
              "  .colab-df-quickchart-complete:disabled:hover {\n",
              "    background-color: var(--disabled-bg-color);\n",
              "    fill: var(--disabled-fill-color);\n",
              "    box-shadow: none;\n",
              "  }\n",
              "\n",
              "  .colab-df-spinner {\n",
              "    border: 2px solid var(--fill-color);\n",
              "    border-color: transparent;\n",
              "    border-bottom-color: var(--fill-color);\n",
              "    animation:\n",
              "      spin 1s steps(1) infinite;\n",
              "  }\n",
              "\n",
              "  @keyframes spin {\n",
              "    0% {\n",
              "      border-color: transparent;\n",
              "      border-bottom-color: var(--fill-color);\n",
              "      border-left-color: var(--fill-color);\n",
              "    }\n",
              "    20% {\n",
              "      border-color: transparent;\n",
              "      border-left-color: var(--fill-color);\n",
              "      border-top-color: var(--fill-color);\n",
              "    }\n",
              "    30% {\n",
              "      border-color: transparent;\n",
              "      border-left-color: var(--fill-color);\n",
              "      border-top-color: var(--fill-color);\n",
              "      border-right-color: var(--fill-color);\n",
              "    }\n",
              "    40% {\n",
              "      border-color: transparent;\n",
              "      border-right-color: var(--fill-color);\n",
              "      border-top-color: var(--fill-color);\n",
              "    }\n",
              "    60% {\n",
              "      border-color: transparent;\n",
              "      border-right-color: var(--fill-color);\n",
              "    }\n",
              "    80% {\n",
              "      border-color: transparent;\n",
              "      border-right-color: var(--fill-color);\n",
              "      border-bottom-color: var(--fill-color);\n",
              "    }\n",
              "    90% {\n",
              "      border-color: transparent;\n",
              "      border-bottom-color: var(--fill-color);\n",
              "    }\n",
              "  }\n",
              "</style>\n",
              "\n",
              "  <script>\n",
              "    async function quickchart(key) {\n",
              "      const quickchartButtonEl =\n",
              "        document.querySelector('#' + key + ' button');\n",
              "      quickchartButtonEl.disabled = true;  // To prevent multiple clicks.\n",
              "      quickchartButtonEl.classList.add('colab-df-spinner');\n",
              "      try {\n",
              "        const charts = await google.colab.kernel.invokeFunction(\n",
              "            'suggestCharts', [key], {});\n",
              "      } catch (error) {\n",
              "        console.error('Error during call to suggestCharts:', error);\n",
              "      }\n",
              "      quickchartButtonEl.classList.remove('colab-df-spinner');\n",
              "      quickchartButtonEl.classList.add('colab-df-quickchart-complete');\n",
              "    }\n",
              "    (() => {\n",
              "      let quickchartButtonEl =\n",
              "        document.querySelector('#df-e80b657b-901a-4853-9f72-a2aacb5ff8ce button');\n",
              "      quickchartButtonEl.style.display =\n",
              "        google.colab.kernel.accessAllowed ? 'block' : 'none';\n",
              "    })();\n",
              "  </script>\n",
              "</div>\n",
              "    </div>\n",
              "  </div>\n"
            ],
            "application/vnd.google.colaboratory.intrinsic+json": {
              "type": "dataframe",
              "variable_name": "df",
              "summary": "{\n  \"name\": \"df\",\n  \"rows\": 3,\n  \"fields\": [\n    {\n      \"column\": \"SUMMARY\",\n      \"properties\": {\n        \"dtype\": \"string\",\n        \"num_unique_values\": 3,\n        \"samples\": [\n          \"hello world\",\n          \"X test\",\n          \"four five six\"\n        ],\n        \"semantic_type\": \"\",\n        \"description\": \"\"\n      }\n    }\n  ]\n}"
            }
          },
          "metadata": {},
          "execution_count": 21
        }
      ]
    },
    {
      "cell_type": "markdown",
      "source": [
        "Question 3- Create a function in python to find all words that are at least 4 characters long in a string. The use of the re.compile() method is mandatory."
      ],
      "metadata": {
        "id": "mURzF5zxEICZ"
      }
    },
    {
      "cell_type": "code",
      "source": [
        "def find_four_char(text):\n",
        "    pattern = re.compile(r'\\b\\w{4,}\\b')\n",
        "\n",
        "    long_words = pattern.findall(text)\n",
        "    return long_words\n",
        "\n",
        "text = \"India got its independence on 15 august 1947\"\n",
        "result = find_four_char(text)\n",
        "print(result)\n"
      ],
      "metadata": {
        "colab": {
          "base_uri": "https://localhost:8080/"
        },
        "id": "a77-1pRaEI2k",
        "outputId": "6c5033db-2101-4f32-83de-7ea488708205"
      },
      "execution_count": 22,
      "outputs": [
        {
          "output_type": "stream",
          "name": "stdout",
          "text": [
            "['India', 'independence', 'august', '1947']\n"
          ]
        }
      ]
    },
    {
      "cell_type": "markdown",
      "source": [
        "Question 4- Create a function in python to find all three, four, and five character words in a string. The use of the re.compile() method is mandatory."
      ],
      "metadata": {
        "id": "i3FGTlcbFUMG"
      }
    },
    {
      "cell_type": "code",
      "source": [
        "def find_words(text):\n",
        "    pattern = re.compile(r'\\b\\w{3,5}\\b')\n",
        "\n",
        "    words = pattern.findall(text)\n",
        "\n",
        "    return words\n",
        "\n",
        "text = \"India celecbrates republic day on 26 of january every year\"\n",
        "result = find_words(text)\n",
        "print(result)"
      ],
      "metadata": {
        "colab": {
          "base_uri": "https://localhost:8080/"
        },
        "id": "b3QaPdirFeeP",
        "outputId": "9a8e630e-0a84-4d13-87d3-58350e89552e"
      },
      "execution_count": 23,
      "outputs": [
        {
          "output_type": "stream",
          "name": "stdout",
          "text": [
            "['India', 'day', 'every', 'year']\n"
          ]
        }
      ]
    },
    {
      "cell_type": "markdown",
      "source": [
        "Question 5- Create a function in Python to remove the parenthesis in a list of strings. The use of the re.compile() method is mandatory.\n",
        "\n",
        "Sample Text: [\"example (.com)\", \"hr@fliprobo (.com)\", \"github (.com)\", \"Hello (Data Science World)\", \"Data (Scientist)\"]\n",
        "\n",
        "Expected Output:\n",
        "\n",
        "example.com\n",
        "\n",
        "hr@fliprobo.com\n",
        "\n",
        "github.com\n",
        "\n",
        "Hello Data Science World\n",
        "\n",
        "Data Scientist"
      ],
      "metadata": {
        "id": "sbqu4hBpGFEJ"
      }
    },
    {
      "cell_type": "code",
      "source": [
        "def remove_parentheses(strings):\n",
        "    pattern = re.compile(r'\\([^)]*\\)')\n",
        "\n",
        "    result = []\n",
        "\n",
        "    for string in strings:\n",
        "        modified_string = pattern.sub('', string)\n",
        "\n",
        "        result.append(modified_string)\n",
        "\n",
        "    return result\n",
        "\n",
        "sample_text = [\"example (.com)\", \"hr@fliprobo (.com)\", \"github (.com)\", \"Hello (Data Science World)\", \"Data (Scientist)\"]\n",
        "output = remove_parentheses(sample_text)\n",
        "print(output)"
      ],
      "metadata": {
        "colab": {
          "base_uri": "https://localhost:8080/"
        },
        "id": "oNgEqm44GGbs",
        "outputId": "73268787-263b-4cc9-8609-ce7177eccf57"
      },
      "execution_count": 24,
      "outputs": [
        {
          "output_type": "stream",
          "name": "stdout",
          "text": [
            "['example ', 'hr@fliprobo ', 'github ', 'Hello ', 'Data ']\n"
          ]
        }
      ]
    },
    {
      "cell_type": "markdown",
      "source": [
        "Question 6- Write a python program to remove the parenthesis area from the text stored in the text file using Regular Expression.\n",
        "\n",
        "Sample Text: [\"example (.com)\", \"hr@fliprobo (.com)\", \"github (.com)\", \"Hello (Data Science World)\", \"Data (Scientist)\"]\n",
        "\n",
        "Expected Output: [\"example\", \"hr@fliprobo\", \"github\", \"Hello\", \"Data\"]\n",
        "\n",
        "Note- Store given sample text in the text file and then to remove the parenthesis area from the text.\n"
      ],
      "metadata": {
        "id": "gSeJsOzZWf42"
      }
    },
    {
      "cell_type": "code",
      "source": [
        "with open('sample1.txt', 'r') as file:\n",
        "  content = file.read()\n",
        "\n",
        "def remove_parentheses(text):\n",
        "    pattern = re.compile(r'\\([^)]*\\)')\n",
        "    return pattern.sub('', text)\n",
        "\n",
        "modified_op = remove_parentheses(content)\n",
        "modified_op\n"
      ],
      "metadata": {
        "colab": {
          "base_uri": "https://localhost:8080/",
          "height": 36
        },
        "id": "cRfOs5voWivL",
        "outputId": "e996fe7f-6b95-4444-ed08-1fa33f77a241"
      },
      "execution_count": 25,
      "outputs": [
        {
          "output_type": "execute_result",
          "data": {
            "text/plain": [
              "'[\"example \", \"hr@fliprobo \", \"github \", \"Hello \", \"Data \"]'"
            ],
            "application/vnd.google.colaboratory.intrinsic+json": {
              "type": "string"
            }
          },
          "metadata": {},
          "execution_count": 25
        }
      ]
    },
    {
      "cell_type": "markdown",
      "source": [
        "Question 7- Write a regular expression in Python to split a string into uppercase letters.\n",
        "\n",
        "Sample text: “ImportanceOfRegularExpressionsInPython”\n",
        "\n",
        "Expected Output: [‘Importance’, ‘Of’, ‘Regular’, ‘Expression’, ‘In’, ‘Python’]\n"
      ],
      "metadata": {
        "id": "hbQ1IKBrhgLH"
      }
    },
    {
      "cell_type": "code",
      "source": [
        "text = \"ImportanceOfRegularExpressionsInPython\"\n",
        "\n",
        "pattern = re.compile(r'[A-Z][a-z]*')\n",
        "\n",
        "matches = pattern.findall(text)\n",
        "\n",
        "print(matches)"
      ],
      "metadata": {
        "id": "PFTdfNKahixT",
        "colab": {
          "base_uri": "https://localhost:8080/"
        },
        "outputId": "5d4f1eff-6920-4c63-f0da-acf11c9fc419"
      },
      "execution_count": 26,
      "outputs": [
        {
          "output_type": "stream",
          "name": "stdout",
          "text": [
            "['Importance', 'Of', 'Regular', 'Expressions', 'In', 'Python']\n"
          ]
        }
      ]
    },
    {
      "cell_type": "markdown",
      "source": [
        "Question 8- Create a function in python to insert spaces between words starting with numbers.\n",
        "\n",
        "Sample Text: “RegularExpression1IsAn2ImportantTopic3InPython\"\n",
        "\n",
        "Expected Output: RegularExpression 1IsAn 2ImportantTopic 3InPython"
      ],
      "metadata": {
        "id": "mHYWJH6miWym"
      }
    },
    {
      "cell_type": "code",
      "source": [
        "def insert_space(text):\n",
        "    new_text = re.sub(r'(\\d)([A-Z][a-z])', r' \\1\\2', text)\n",
        "    return new_text\n",
        "\n",
        "sample_text = \"RegularExpression1IsAn2ImportantTopic3InPython\"\n",
        "\n",
        "output = insert_space(sample_text)\n",
        "print(output)"
      ],
      "metadata": {
        "id": "pufz8lT_iaqO",
        "colab": {
          "base_uri": "https://localhost:8080/"
        },
        "outputId": "5004daa6-8b89-46b2-a243-e20cdfc6e9a3"
      },
      "execution_count": 27,
      "outputs": [
        {
          "output_type": "stream",
          "name": "stdout",
          "text": [
            "RegularExpression 1IsAn 2ImportantTopic 3InPython\n"
          ]
        }
      ]
    },
    {
      "cell_type": "markdown",
      "source": [
        "Question 9- Create a function in python to insert spaces between words starting with capital letters or with numbers.\n",
        "\n",
        "Sample Text: “RegularExpression1IsAn2ImportantTopic3InPython\"\n",
        "\n",
        "Expected Output:  RegularExpression 1 IsAn 2 ImportantTopic 3 InPython\n"
      ],
      "metadata": {
        "id": "wRnmnNe7bODB"
      }
    },
    {
      "cell_type": "code",
      "source": [
        "def insert_space(text):\n",
        "    pattern=r'([A-Z])([a-z])'\n",
        "    new_text = re.sub(pattern, r' \\1\\2', text)\n",
        "    new_text=re.sub(r'([\\w])(\\d)',r'\\1 \\2', new_text)\n",
        "    return new_text\n",
        "\n",
        "sample_text = \"RegularExpression1IsAn2ImportantTopic3InPython\"\n",
        "\n",
        "output = insert_space(sample_text)\n",
        "print(output)"
      ],
      "metadata": {
        "id": "YKp10j86bbMD",
        "colab": {
          "base_uri": "https://localhost:8080/"
        },
        "outputId": "4385cfa4-80f9-4c06-9811-ebea2943007f"
      },
      "execution_count": 28,
      "outputs": [
        {
          "output_type": "stream",
          "name": "stdout",
          "text": [
            " Regular Expression 1 Is An 2 Important Topic 3 In Python\n"
          ]
        }
      ]
    },
    {
      "cell_type": "markdown",
      "source": [
        "Question 10- Use the github link below to read the data and create a dataframe. After creating the dataframe extract the first 6 letters of each country and store in the dataframe under a new column called first_five_letters.\n",
        "\n",
        "Github Link-  https://raw.githubusercontent.com/dsrscientist/DSData/master/happiness_score_dataset.csv\n"
      ],
      "metadata": {
        "id": "nxPIA3qlkiLk"
      }
    },
    {
      "cell_type": "code",
      "source": [
        "url = \"https://raw.githubusercontent.com/dsrscientist/DSData/master/happiness_score_dataset.csv\"\n",
        "df = pd.read_csv(url)\n",
        "df\n",
        "\n",
        "df['first_5_letters'] = df['Country'].str[:6]\n",
        "df.head()"
      ],
      "metadata": {
        "id": "yfKYkhhbko2P",
        "colab": {
          "base_uri": "https://localhost:8080/",
          "height": 310
        },
        "outputId": "4148cfea-18e3-43fd-af90-fff97afbe54d"
      },
      "execution_count": 29,
      "outputs": [
        {
          "output_type": "execute_result",
          "data": {
            "text/plain": [
              "       Country          Region  Happiness Rank  Happiness Score  \\\n",
              "0  Switzerland  Western Europe               1            7.587   \n",
              "1      Iceland  Western Europe               2            7.561   \n",
              "2      Denmark  Western Europe               3            7.527   \n",
              "3       Norway  Western Europe               4            7.522   \n",
              "4       Canada   North America               5            7.427   \n",
              "\n",
              "   Standard Error  Economy (GDP per Capita)   Family  \\\n",
              "0         0.03411                   1.39651  1.34951   \n",
              "1         0.04884                   1.30232  1.40223   \n",
              "2         0.03328                   1.32548  1.36058   \n",
              "3         0.03880                   1.45900  1.33095   \n",
              "4         0.03553                   1.32629  1.32261   \n",
              "\n",
              "   Health (Life Expectancy)  Freedom  Trust (Government Corruption)  \\\n",
              "0                   0.94143  0.66557                        0.41978   \n",
              "1                   0.94784  0.62877                        0.14145   \n",
              "2                   0.87464  0.64938                        0.48357   \n",
              "3                   0.88521  0.66973                        0.36503   \n",
              "4                   0.90563  0.63297                        0.32957   \n",
              "\n",
              "   Generosity  Dystopia Residual first_5_letters  \n",
              "0     0.29678            2.51738          Switze  \n",
              "1     0.43630            2.70201          Icelan  \n",
              "2     0.34139            2.49204          Denmar  \n",
              "3     0.34699            2.46531          Norway  \n",
              "4     0.45811            2.45176          Canada  "
            ],
            "text/html": [
              "\n",
              "  <div id=\"df-99e8e6e9-2550-4b82-936f-9bb7e7f28d4e\" class=\"colab-df-container\">\n",
              "    <div>\n",
              "<style scoped>\n",
              "    .dataframe tbody tr th:only-of-type {\n",
              "        vertical-align: middle;\n",
              "    }\n",
              "\n",
              "    .dataframe tbody tr th {\n",
              "        vertical-align: top;\n",
              "    }\n",
              "\n",
              "    .dataframe thead th {\n",
              "        text-align: right;\n",
              "    }\n",
              "</style>\n",
              "<table border=\"1\" class=\"dataframe\">\n",
              "  <thead>\n",
              "    <tr style=\"text-align: right;\">\n",
              "      <th></th>\n",
              "      <th>Country</th>\n",
              "      <th>Region</th>\n",
              "      <th>Happiness Rank</th>\n",
              "      <th>Happiness Score</th>\n",
              "      <th>Standard Error</th>\n",
              "      <th>Economy (GDP per Capita)</th>\n",
              "      <th>Family</th>\n",
              "      <th>Health (Life Expectancy)</th>\n",
              "      <th>Freedom</th>\n",
              "      <th>Trust (Government Corruption)</th>\n",
              "      <th>Generosity</th>\n",
              "      <th>Dystopia Residual</th>\n",
              "      <th>first_5_letters</th>\n",
              "    </tr>\n",
              "  </thead>\n",
              "  <tbody>\n",
              "    <tr>\n",
              "      <th>0</th>\n",
              "      <td>Switzerland</td>\n",
              "      <td>Western Europe</td>\n",
              "      <td>1</td>\n",
              "      <td>7.587</td>\n",
              "      <td>0.03411</td>\n",
              "      <td>1.39651</td>\n",
              "      <td>1.34951</td>\n",
              "      <td>0.94143</td>\n",
              "      <td>0.66557</td>\n",
              "      <td>0.41978</td>\n",
              "      <td>0.29678</td>\n",
              "      <td>2.51738</td>\n",
              "      <td>Switze</td>\n",
              "    </tr>\n",
              "    <tr>\n",
              "      <th>1</th>\n",
              "      <td>Iceland</td>\n",
              "      <td>Western Europe</td>\n",
              "      <td>2</td>\n",
              "      <td>7.561</td>\n",
              "      <td>0.04884</td>\n",
              "      <td>1.30232</td>\n",
              "      <td>1.40223</td>\n",
              "      <td>0.94784</td>\n",
              "      <td>0.62877</td>\n",
              "      <td>0.14145</td>\n",
              "      <td>0.43630</td>\n",
              "      <td>2.70201</td>\n",
              "      <td>Icelan</td>\n",
              "    </tr>\n",
              "    <tr>\n",
              "      <th>2</th>\n",
              "      <td>Denmark</td>\n",
              "      <td>Western Europe</td>\n",
              "      <td>3</td>\n",
              "      <td>7.527</td>\n",
              "      <td>0.03328</td>\n",
              "      <td>1.32548</td>\n",
              "      <td>1.36058</td>\n",
              "      <td>0.87464</td>\n",
              "      <td>0.64938</td>\n",
              "      <td>0.48357</td>\n",
              "      <td>0.34139</td>\n",
              "      <td>2.49204</td>\n",
              "      <td>Denmar</td>\n",
              "    </tr>\n",
              "    <tr>\n",
              "      <th>3</th>\n",
              "      <td>Norway</td>\n",
              "      <td>Western Europe</td>\n",
              "      <td>4</td>\n",
              "      <td>7.522</td>\n",
              "      <td>0.03880</td>\n",
              "      <td>1.45900</td>\n",
              "      <td>1.33095</td>\n",
              "      <td>0.88521</td>\n",
              "      <td>0.66973</td>\n",
              "      <td>0.36503</td>\n",
              "      <td>0.34699</td>\n",
              "      <td>2.46531</td>\n",
              "      <td>Norway</td>\n",
              "    </tr>\n",
              "    <tr>\n",
              "      <th>4</th>\n",
              "      <td>Canada</td>\n",
              "      <td>North America</td>\n",
              "      <td>5</td>\n",
              "      <td>7.427</td>\n",
              "      <td>0.03553</td>\n",
              "      <td>1.32629</td>\n",
              "      <td>1.32261</td>\n",
              "      <td>0.90563</td>\n",
              "      <td>0.63297</td>\n",
              "      <td>0.32957</td>\n",
              "      <td>0.45811</td>\n",
              "      <td>2.45176</td>\n",
              "      <td>Canada</td>\n",
              "    </tr>\n",
              "  </tbody>\n",
              "</table>\n",
              "</div>\n",
              "    <div class=\"colab-df-buttons\">\n",
              "\n",
              "  <div class=\"colab-df-container\">\n",
              "    <button class=\"colab-df-convert\" onclick=\"convertToInteractive('df-99e8e6e9-2550-4b82-936f-9bb7e7f28d4e')\"\n",
              "            title=\"Convert this dataframe to an interactive table.\"\n",
              "            style=\"display:none;\">\n",
              "\n",
              "  <svg xmlns=\"http://www.w3.org/2000/svg\" height=\"24px\" viewBox=\"0 -960 960 960\">\n",
              "    <path d=\"M120-120v-720h720v720H120Zm60-500h600v-160H180v160Zm220 220h160v-160H400v160Zm0 220h160v-160H400v160ZM180-400h160v-160H180v160Zm440 0h160v-160H620v160ZM180-180h160v-160H180v160Zm440 0h160v-160H620v160Z\"/>\n",
              "  </svg>\n",
              "    </button>\n",
              "\n",
              "  <style>\n",
              "    .colab-df-container {\n",
              "      display:flex;\n",
              "      gap: 12px;\n",
              "    }\n",
              "\n",
              "    .colab-df-convert {\n",
              "      background-color: #E8F0FE;\n",
              "      border: none;\n",
              "      border-radius: 50%;\n",
              "      cursor: pointer;\n",
              "      display: none;\n",
              "      fill: #1967D2;\n",
              "      height: 32px;\n",
              "      padding: 0 0 0 0;\n",
              "      width: 32px;\n",
              "    }\n",
              "\n",
              "    .colab-df-convert:hover {\n",
              "      background-color: #E2EBFA;\n",
              "      box-shadow: 0px 1px 2px rgba(60, 64, 67, 0.3), 0px 1px 3px 1px rgba(60, 64, 67, 0.15);\n",
              "      fill: #174EA6;\n",
              "    }\n",
              "\n",
              "    .colab-df-buttons div {\n",
              "      margin-bottom: 4px;\n",
              "    }\n",
              "\n",
              "    [theme=dark] .colab-df-convert {\n",
              "      background-color: #3B4455;\n",
              "      fill: #D2E3FC;\n",
              "    }\n",
              "\n",
              "    [theme=dark] .colab-df-convert:hover {\n",
              "      background-color: #434B5C;\n",
              "      box-shadow: 0px 1px 3px 1px rgba(0, 0, 0, 0.15);\n",
              "      filter: drop-shadow(0px 1px 2px rgba(0, 0, 0, 0.3));\n",
              "      fill: #FFFFFF;\n",
              "    }\n",
              "  </style>\n",
              "\n",
              "    <script>\n",
              "      const buttonEl =\n",
              "        document.querySelector('#df-99e8e6e9-2550-4b82-936f-9bb7e7f28d4e button.colab-df-convert');\n",
              "      buttonEl.style.display =\n",
              "        google.colab.kernel.accessAllowed ? 'block' : 'none';\n",
              "\n",
              "      async function convertToInteractive(key) {\n",
              "        const element = document.querySelector('#df-99e8e6e9-2550-4b82-936f-9bb7e7f28d4e');\n",
              "        const dataTable =\n",
              "          await google.colab.kernel.invokeFunction('convertToInteractive',\n",
              "                                                    [key], {});\n",
              "        if (!dataTable) return;\n",
              "\n",
              "        const docLinkHtml = 'Like what you see? Visit the ' +\n",
              "          '<a target=\"_blank\" href=https://colab.research.google.com/notebooks/data_table.ipynb>data table notebook</a>'\n",
              "          + ' to learn more about interactive tables.';\n",
              "        element.innerHTML = '';\n",
              "        dataTable['output_type'] = 'display_data';\n",
              "        await google.colab.output.renderOutput(dataTable, element);\n",
              "        const docLink = document.createElement('div');\n",
              "        docLink.innerHTML = docLinkHtml;\n",
              "        element.appendChild(docLink);\n",
              "      }\n",
              "    </script>\n",
              "  </div>\n",
              "\n",
              "\n",
              "<div id=\"df-09a6ff71-3e07-4a35-802d-7ca2a6081a42\">\n",
              "  <button class=\"colab-df-quickchart\" onclick=\"quickchart('df-09a6ff71-3e07-4a35-802d-7ca2a6081a42')\"\n",
              "            title=\"Suggest charts\"\n",
              "            style=\"display:none;\">\n",
              "\n",
              "<svg xmlns=\"http://www.w3.org/2000/svg\" height=\"24px\"viewBox=\"0 0 24 24\"\n",
              "     width=\"24px\">\n",
              "    <g>\n",
              "        <path d=\"M19 3H5c-1.1 0-2 .9-2 2v14c0 1.1.9 2 2 2h14c1.1 0 2-.9 2-2V5c0-1.1-.9-2-2-2zM9 17H7v-7h2v7zm4 0h-2V7h2v10zm4 0h-2v-4h2v4z\"/>\n",
              "    </g>\n",
              "</svg>\n",
              "  </button>\n",
              "\n",
              "<style>\n",
              "  .colab-df-quickchart {\n",
              "      --bg-color: #E8F0FE;\n",
              "      --fill-color: #1967D2;\n",
              "      --hover-bg-color: #E2EBFA;\n",
              "      --hover-fill-color: #174EA6;\n",
              "      --disabled-fill-color: #AAA;\n",
              "      --disabled-bg-color: #DDD;\n",
              "  }\n",
              "\n",
              "  [theme=dark] .colab-df-quickchart {\n",
              "      --bg-color: #3B4455;\n",
              "      --fill-color: #D2E3FC;\n",
              "      --hover-bg-color: #434B5C;\n",
              "      --hover-fill-color: #FFFFFF;\n",
              "      --disabled-bg-color: #3B4455;\n",
              "      --disabled-fill-color: #666;\n",
              "  }\n",
              "\n",
              "  .colab-df-quickchart {\n",
              "    background-color: var(--bg-color);\n",
              "    border: none;\n",
              "    border-radius: 50%;\n",
              "    cursor: pointer;\n",
              "    display: none;\n",
              "    fill: var(--fill-color);\n",
              "    height: 32px;\n",
              "    padding: 0;\n",
              "    width: 32px;\n",
              "  }\n",
              "\n",
              "  .colab-df-quickchart:hover {\n",
              "    background-color: var(--hover-bg-color);\n",
              "    box-shadow: 0 1px 2px rgba(60, 64, 67, 0.3), 0 1px 3px 1px rgba(60, 64, 67, 0.15);\n",
              "    fill: var(--button-hover-fill-color);\n",
              "  }\n",
              "\n",
              "  .colab-df-quickchart-complete:disabled,\n",
              "  .colab-df-quickchart-complete:disabled:hover {\n",
              "    background-color: var(--disabled-bg-color);\n",
              "    fill: var(--disabled-fill-color);\n",
              "    box-shadow: none;\n",
              "  }\n",
              "\n",
              "  .colab-df-spinner {\n",
              "    border: 2px solid var(--fill-color);\n",
              "    border-color: transparent;\n",
              "    border-bottom-color: var(--fill-color);\n",
              "    animation:\n",
              "      spin 1s steps(1) infinite;\n",
              "  }\n",
              "\n",
              "  @keyframes spin {\n",
              "    0% {\n",
              "      border-color: transparent;\n",
              "      border-bottom-color: var(--fill-color);\n",
              "      border-left-color: var(--fill-color);\n",
              "    }\n",
              "    20% {\n",
              "      border-color: transparent;\n",
              "      border-left-color: var(--fill-color);\n",
              "      border-top-color: var(--fill-color);\n",
              "    }\n",
              "    30% {\n",
              "      border-color: transparent;\n",
              "      border-left-color: var(--fill-color);\n",
              "      border-top-color: var(--fill-color);\n",
              "      border-right-color: var(--fill-color);\n",
              "    }\n",
              "    40% {\n",
              "      border-color: transparent;\n",
              "      border-right-color: var(--fill-color);\n",
              "      border-top-color: var(--fill-color);\n",
              "    }\n",
              "    60% {\n",
              "      border-color: transparent;\n",
              "      border-right-color: var(--fill-color);\n",
              "    }\n",
              "    80% {\n",
              "      border-color: transparent;\n",
              "      border-right-color: var(--fill-color);\n",
              "      border-bottom-color: var(--fill-color);\n",
              "    }\n",
              "    90% {\n",
              "      border-color: transparent;\n",
              "      border-bottom-color: var(--fill-color);\n",
              "    }\n",
              "  }\n",
              "</style>\n",
              "\n",
              "  <script>\n",
              "    async function quickchart(key) {\n",
              "      const quickchartButtonEl =\n",
              "        document.querySelector('#' + key + ' button');\n",
              "      quickchartButtonEl.disabled = true;  // To prevent multiple clicks.\n",
              "      quickchartButtonEl.classList.add('colab-df-spinner');\n",
              "      try {\n",
              "        const charts = await google.colab.kernel.invokeFunction(\n",
              "            'suggestCharts', [key], {});\n",
              "      } catch (error) {\n",
              "        console.error('Error during call to suggestCharts:', error);\n",
              "      }\n",
              "      quickchartButtonEl.classList.remove('colab-df-spinner');\n",
              "      quickchartButtonEl.classList.add('colab-df-quickchart-complete');\n",
              "    }\n",
              "    (() => {\n",
              "      let quickchartButtonEl =\n",
              "        document.querySelector('#df-09a6ff71-3e07-4a35-802d-7ca2a6081a42 button');\n",
              "      quickchartButtonEl.style.display =\n",
              "        google.colab.kernel.accessAllowed ? 'block' : 'none';\n",
              "    })();\n",
              "  </script>\n",
              "</div>\n",
              "    </div>\n",
              "  </div>\n"
            ],
            "application/vnd.google.colaboratory.intrinsic+json": {
              "type": "dataframe",
              "variable_name": "df",
              "summary": "{\n  \"name\": \"df\",\n  \"rows\": 158,\n  \"fields\": [\n    {\n      \"column\": \"Country\",\n      \"properties\": {\n        \"dtype\": \"string\",\n        \"num_unique_values\": 158,\n        \"samples\": [\n          \"Myanmar\",\n          \"Japan\",\n          \"Egypt\"\n        ],\n        \"semantic_type\": \"\",\n        \"description\": \"\"\n      }\n    },\n    {\n      \"column\": \"Region\",\n      \"properties\": {\n        \"dtype\": \"category\",\n        \"num_unique_values\": 10,\n        \"samples\": [\n          \"Sub-Saharan Africa\",\n          \"North America\",\n          \"Southeastern Asia\"\n        ],\n        \"semantic_type\": \"\",\n        \"description\": \"\"\n      }\n    },\n    {\n      \"column\": \"Happiness Rank\",\n      \"properties\": {\n        \"dtype\": \"number\",\n        \"std\": 45,\n        \"min\": 1,\n        \"max\": 158,\n        \"num_unique_values\": 157,\n        \"samples\": [\n          128,\n          46,\n          135\n        ],\n        \"semantic_type\": \"\",\n        \"description\": \"\"\n      }\n    },\n    {\n      \"column\": \"Happiness Score\",\n      \"properties\": {\n        \"dtype\": \"number\",\n        \"std\": 1.1450101349520665,\n        \"min\": 2.839,\n        \"max\": 7.587,\n        \"num_unique_values\": 157,\n        \"samples\": [\n          4.332,\n          5.987,\n          4.194\n        ],\n        \"semantic_type\": \"\",\n        \"description\": \"\"\n      }\n    },\n    {\n      \"column\": \"Standard Error\",\n      \"properties\": {\n        \"dtype\": \"number\",\n        \"std\": 0.017146178556969306,\n        \"min\": 0.01848,\n        \"max\": 0.13693,\n        \"num_unique_values\": 153,\n        \"samples\": [\n          0.06607,\n          0.04802,\n          0.06698\n        ],\n        \"semantic_type\": \"\",\n        \"description\": \"\"\n      }\n    },\n    {\n      \"column\": \"Economy (GDP per Capita)\",\n      \"properties\": {\n        \"dtype\": \"number\",\n        \"std\": 0.40312077853791,\n        \"min\": 0.0,\n        \"max\": 1.69042,\n        \"num_unique_values\": 158,\n        \"samples\": [\n          0.27108,\n          1.27074,\n          0.8818\n        ],\n        \"semantic_type\": \"\",\n        \"description\": \"\"\n      }\n    },\n    {\n      \"column\": \"Family\",\n      \"properties\": {\n        \"dtype\": \"number\",\n        \"std\": 0.27236908600791543,\n        \"min\": 0.0,\n        \"max\": 1.40223,\n        \"num_unique_values\": 158,\n        \"samples\": [\n          0.70905,\n          1.25712,\n          0.747\n        ],\n        \"semantic_type\": \"\",\n        \"description\": \"\"\n      }\n    },\n    {\n      \"column\": \"Health (Life Expectancy)\",\n      \"properties\": {\n        \"dtype\": \"number\",\n        \"std\": 0.24707776630217207,\n        \"min\": 0.0,\n        \"max\": 1.02525,\n        \"num_unique_values\": 157,\n        \"samples\": [\n          0.04776,\n          0.99111,\n          0.61712\n        ],\n        \"semantic_type\": \"\",\n        \"description\": \"\"\n      }\n    },\n    {\n      \"column\": \"Freedom\",\n      \"properties\": {\n        \"dtype\": \"number\",\n        \"std\": 0.15069278393767793,\n        \"min\": 0.0,\n        \"max\": 0.66973,\n        \"num_unique_values\": 158,\n        \"samples\": [\n          0.44017,\n          0.49615,\n          0.17288\n        ],\n        \"semantic_type\": \"\",\n        \"description\": \"\"\n      }\n    },\n    {\n      \"column\": \"Trust (Government Corruption)\",\n      \"properties\": {\n        \"dtype\": \"number\",\n        \"std\": 0.12003407357455917,\n        \"min\": 0.0,\n        \"max\": 0.55191,\n        \"num_unique_values\": 157,\n        \"samples\": [\n          0.12474,\n          0.07857,\n          0.06324\n        ],\n        \"semantic_type\": \"\",\n        \"description\": \"\"\n      }\n    },\n    {\n      \"column\": \"Generosity\",\n      \"properties\": {\n        \"dtype\": \"number\",\n        \"std\": 0.12668493402020534,\n        \"min\": 0.0,\n        \"max\": 0.79588,\n        \"num_unique_values\": 158,\n        \"samples\": [\n          0.79588,\n          0.10705,\n          0.11291\n        ],\n        \"semantic_type\": \"\",\n        \"description\": \"\"\n      }\n    },\n    {\n      \"column\": \"Dystopia Residual\",\n      \"properties\": {\n        \"dtype\": \"number\",\n        \"std\": 0.5535497923037984,\n        \"min\": 0.32858,\n        \"max\": 3.60214,\n        \"num_unique_values\": 158,\n        \"samples\": [\n          1.41805,\n          1.68435,\n          1.59927\n        ],\n        \"semantic_type\": \"\",\n        \"description\": \"\"\n      }\n    },\n    {\n      \"column\": \"first_5_letters\",\n      \"properties\": {\n        \"dtype\": \"string\",\n        \"num_unique_values\": 153,\n        \"samples\": [\n          \"Serbia\",\n          \"Latvia\",\n          \"Mongol\"\n        ],\n        \"semantic_type\": \"\",\n        \"description\": \"\"\n      }\n    }\n  ]\n}"
            }
          },
          "metadata": {},
          "execution_count": 29
        }
      ]
    },
    {
      "cell_type": "markdown",
      "source": [
        "Question 11- Write a Python program to match a string that contains only upper and lowercase letters, numbers, and underscores."
      ],
      "metadata": {
        "id": "xnbAgiuml7tg"
      }
    },
    {
      "cell_type": "code",
      "source": [
        "text = [\"Microsoft123\", \"abc123\", \"ABC_123\", \"Face*Book\", \"123\", \"_underscore\", \"India is great\"]\n",
        "for i in text:\n",
        "\n",
        "  pattern = r'^[a-zA-Z0-9_]+$'\n",
        "  output=re.match(pattern, i)\n",
        "  print(output)"
      ],
      "metadata": {
        "id": "sF4cKv7Wo9st",
        "colab": {
          "base_uri": "https://localhost:8080/"
        },
        "outputId": "cace7762-8128-4d74-9567-4c0218f6996d"
      },
      "execution_count": 30,
      "outputs": [
        {
          "output_type": "stream",
          "name": "stdout",
          "text": [
            "<re.Match object; span=(0, 12), match='Microsoft123'>\n",
            "<re.Match object; span=(0, 6), match='abc123'>\n",
            "<re.Match object; span=(0, 7), match='ABC_123'>\n",
            "None\n",
            "<re.Match object; span=(0, 3), match='123'>\n",
            "<re.Match object; span=(0, 11), match='_underscore'>\n",
            "None\n"
          ]
        }
      ]
    },
    {
      "cell_type": "markdown",
      "source": [
        "Question 12- Write a Python program where a string will start with a specific number."
      ],
      "metadata": {
        "id": "BRvNuhaKqB0O"
      }
    },
    {
      "cell_type": "code",
      "source": [
        "sample=['456','67','43','78','490']\n",
        "for i in sample:\n",
        "  pattern=r'^4[0-9]+'\n",
        "  output=re.match(pattern,i)\n",
        "  print(output)"
      ],
      "metadata": {
        "id": "WfR97T-0qEzO",
        "colab": {
          "base_uri": "https://localhost:8080/"
        },
        "outputId": "aaa78fbe-39a0-4eea-8a96-cc61fec44e49"
      },
      "execution_count": 31,
      "outputs": [
        {
          "output_type": "stream",
          "name": "stdout",
          "text": [
            "<re.Match object; span=(0, 3), match='456'>\n",
            "None\n",
            "<re.Match object; span=(0, 2), match='43'>\n",
            "None\n",
            "<re.Match object; span=(0, 3), match='490'>\n"
          ]
        }
      ]
    },
    {
      "cell_type": "markdown",
      "source": [
        "Question 13- Write a Python program to remove leading zeros from an IP address"
      ],
      "metadata": {
        "id": "pmv_Rdtfr__w"
      }
    },
    {
      "cell_type": "code",
      "source": [
        "pattern = r'\\b0*(\\d+)\\b'\n",
        "new_ip = re.sub(pattern, r'\\1','192.158.001.038.')\n",
        "print(new_ip)"
      ],
      "metadata": {
        "id": "71TfM-mYsDMq",
        "colab": {
          "base_uri": "https://localhost:8080/"
        },
        "outputId": "cb5849a5-26bd-417a-d28e-c0d09583d47a"
      },
      "execution_count": 32,
      "outputs": [
        {
          "output_type": "stream",
          "name": "stdout",
          "text": [
            "192.158.1.38.\n"
          ]
        }
      ]
    },
    {
      "cell_type": "markdown",
      "source": [
        "Question 14- Write a regular expression in python to match a date string in the form of Month name followed by day number and year stored in a text file.\n",
        "\n",
        "Sample text :  ' On August 15th 1947 that India was declared independent from British colonialism, and the reins of control were handed over to the leaders of the Country’.\n",
        "\n",
        "Expected Output- August 15th 1947\n",
        "\n",
        "Note- Store given sample text in the text file and then extract the date string asked format.\n"
      ],
      "metadata": {
        "id": "ju6mu-ZWwh3Z"
      }
    },
    {
      "cell_type": "code",
      "source": [
        "with open('sample2.txt', 'r') as file:\n",
        "  text = file.read()\n",
        "pattern = r'\\b(?:January|February|March|April|May|June|July|August|September|October|November|December)\\s+\\d{1,2}(?:st|nd|rd|th)\\s+\\d{4}\\b'\n",
        "match = re.findall(pattern, text)\n",
        "print(match)\n"
      ],
      "metadata": {
        "id": "MztYcbFPwnaA",
        "colab": {
          "base_uri": "https://localhost:8080/"
        },
        "outputId": "5b0a9552-8dfd-492f-ea85-72f81787014c"
      },
      "execution_count": 33,
      "outputs": [
        {
          "output_type": "stream",
          "name": "stdout",
          "text": [
            "['August 15th 1947']\n"
          ]
        }
      ]
    },
    {
      "cell_type": "markdown",
      "source": [
        "Question 15- Write a Python program to search some literals strings in a string.\n",
        "Sample text : 'The quick brown fox jumps over the lazy dog.'\n",
        "Searched words : 'fox', 'dog', 'horse'\n"
      ],
      "metadata": {
        "id": "cxx3D4ClzVbK"
      }
    },
    {
      "cell_type": "code",
      "source": [
        "sample_text = ['The quick brown fox jumps over the lazy dog.']\n",
        "pattern=r'fox|dog|horse'\n",
        "for i in sample_text:\n",
        "  match=re.findall(pattern,i)\n",
        "  print(match)"
      ],
      "metadata": {
        "id": "GZQ0fAF7zXME",
        "colab": {
          "base_uri": "https://localhost:8080/"
        },
        "outputId": "0bc8c7be-1187-4f27-c8bb-f454c0111227"
      },
      "execution_count": 34,
      "outputs": [
        {
          "output_type": "stream",
          "name": "stdout",
          "text": [
            "['fox', 'dog']\n"
          ]
        }
      ]
    },
    {
      "cell_type": "markdown",
      "source": [
        "Question 16- Write a Python program to search a literals string in a string and also find the location within the original string where the pattern occurs\n",
        "\n",
        "Sample text : 'The quick brown fox jumps over the lazy dog.'\n",
        "\n",
        "Searched words : 'fox'\n",
        "\n"
      ],
      "metadata": {
        "id": "U9Pqebw1saM5"
      }
    },
    {
      "cell_type": "code",
      "source": [
        "sample_text = 'The quick brown fox jumps over the lazy dog.'\n",
        "pattern=r'fox'\n",
        "re.search(pattern, sample_text)"
      ],
      "metadata": {
        "id": "OHZeZG83scoz",
        "colab": {
          "base_uri": "https://localhost:8080/"
        },
        "outputId": "7fe63d56-20e1-4f3e-9071-69d87091653c"
      },
      "execution_count": 35,
      "outputs": [
        {
          "output_type": "execute_result",
          "data": {
            "text/plain": [
              "<re.Match object; span=(16, 19), match='fox'>"
            ]
          },
          "metadata": {},
          "execution_count": 35
        }
      ]
    },
    {
      "cell_type": "markdown",
      "source": [
        "Question 17- Write a Python program to find the substrings within a string.\n",
        "\n",
        "Sample text : 'Python exercises, PHP exercises, C# exercises'\n",
        "\n",
        "Pattern : 'exercises'.\n"
      ],
      "metadata": {
        "id": "Kp_xMtYluLMx"
      }
    },
    {
      "cell_type": "code",
      "source": [
        "sample_text = 'Python exercises, PHP exercises, C# exercises'\n",
        "pattern = 'exercises'\n",
        "substrings = re.findall(pattern, sample_text)\n",
        "print(substrings)"
      ],
      "metadata": {
        "id": "oaTETO9TuQHu",
        "colab": {
          "base_uri": "https://localhost:8080/"
        },
        "outputId": "f1e91149-e323-41c2-845d-3803f4b1367d"
      },
      "execution_count": 36,
      "outputs": [
        {
          "output_type": "stream",
          "name": "stdout",
          "text": [
            "['exercises', 'exercises', 'exercises']\n"
          ]
        }
      ]
    },
    {
      "cell_type": "markdown",
      "source": [
        "Question 18- Write a Python program to find the occurrence and position of the substrings within a string."
      ],
      "metadata": {
        "id": "FZxOR3jPvLsq"
      }
    },
    {
      "cell_type": "code",
      "source": [
        "sample_text = '\"Python exercises\", \"PHP exercises\", \"C# exercises\"'\n",
        "pattern = 'exercises'\n",
        "for i in sample_text:\n",
        "  substrings = re.findall(pattern, sample_text)\n",
        "  print(substrings)"
      ],
      "metadata": {
        "id": "q7y31IOfvMqR",
        "colab": {
          "base_uri": "https://localhost:8080/"
        },
        "outputId": "9cd864e6-9f17-465d-8243-4c42fa6fb177"
      },
      "execution_count": 37,
      "outputs": [
        {
          "output_type": "stream",
          "name": "stdout",
          "text": [
            "['exercises', 'exercises', 'exercises']\n",
            "['exercises', 'exercises', 'exercises']\n",
            "['exercises', 'exercises', 'exercises']\n",
            "['exercises', 'exercises', 'exercises']\n",
            "['exercises', 'exercises', 'exercises']\n",
            "['exercises', 'exercises', 'exercises']\n",
            "['exercises', 'exercises', 'exercises']\n",
            "['exercises', 'exercises', 'exercises']\n",
            "['exercises', 'exercises', 'exercises']\n",
            "['exercises', 'exercises', 'exercises']\n",
            "['exercises', 'exercises', 'exercises']\n",
            "['exercises', 'exercises', 'exercises']\n",
            "['exercises', 'exercises', 'exercises']\n",
            "['exercises', 'exercises', 'exercises']\n",
            "['exercises', 'exercises', 'exercises']\n",
            "['exercises', 'exercises', 'exercises']\n",
            "['exercises', 'exercises', 'exercises']\n",
            "['exercises', 'exercises', 'exercises']\n",
            "['exercises', 'exercises', 'exercises']\n",
            "['exercises', 'exercises', 'exercises']\n",
            "['exercises', 'exercises', 'exercises']\n",
            "['exercises', 'exercises', 'exercises']\n",
            "['exercises', 'exercises', 'exercises']\n",
            "['exercises', 'exercises', 'exercises']\n",
            "['exercises', 'exercises', 'exercises']\n",
            "['exercises', 'exercises', 'exercises']\n",
            "['exercises', 'exercises', 'exercises']\n",
            "['exercises', 'exercises', 'exercises']\n",
            "['exercises', 'exercises', 'exercises']\n",
            "['exercises', 'exercises', 'exercises']\n",
            "['exercises', 'exercises', 'exercises']\n",
            "['exercises', 'exercises', 'exercises']\n",
            "['exercises', 'exercises', 'exercises']\n",
            "['exercises', 'exercises', 'exercises']\n",
            "['exercises', 'exercises', 'exercises']\n",
            "['exercises', 'exercises', 'exercises']\n",
            "['exercises', 'exercises', 'exercises']\n",
            "['exercises', 'exercises', 'exercises']\n",
            "['exercises', 'exercises', 'exercises']\n",
            "['exercises', 'exercises', 'exercises']\n",
            "['exercises', 'exercises', 'exercises']\n",
            "['exercises', 'exercises', 'exercises']\n",
            "['exercises', 'exercises', 'exercises']\n",
            "['exercises', 'exercises', 'exercises']\n",
            "['exercises', 'exercises', 'exercises']\n",
            "['exercises', 'exercises', 'exercises']\n",
            "['exercises', 'exercises', 'exercises']\n",
            "['exercises', 'exercises', 'exercises']\n",
            "['exercises', 'exercises', 'exercises']\n",
            "['exercises', 'exercises', 'exercises']\n",
            "['exercises', 'exercises', 'exercises']\n"
          ]
        }
      ]
    },
    {
      "cell_type": "markdown",
      "source": [
        "Question 19- Write a Python program to convert a date of yyyy-mm-dd format to dd-mm-yyyy format."
      ],
      "metadata": {
        "id": "nQxySfJO2zS3"
      }
    },
    {
      "cell_type": "code",
      "source": [
        "date = '2024-03-06'\n",
        "match = re.match(r'(\\d{4})-(\\d{2})-(\\d{2})', date)\n",
        "if match:\n",
        "    formatted_date = f\"{match.group(3)}-{match.group(2)}-{match.group(1)}\"\n",
        "    print(\"Original date:\", date)\n",
        "    print(\"Formatted date:\", formatted_date)"
      ],
      "metadata": {
        "id": "WwyeBBKb20Ql",
        "colab": {
          "base_uri": "https://localhost:8080/"
        },
        "outputId": "2cb3d1e7-7844-44a1-dd37-cb3092d43780"
      },
      "execution_count": 38,
      "outputs": [
        {
          "output_type": "stream",
          "name": "stdout",
          "text": [
            "Original date: 2024-03-06\n",
            "Formatted date: 06-03-2024\n"
          ]
        }
      ]
    },
    {
      "cell_type": "markdown",
      "source": [
        "Question 20- Create a function in python to find all decimal numbers with a precision of 1 or 2 in a string. The use of the re.compile() method is mandatory.\n",
        "\n",
        "Sample Text: \"01.12 0132.123 2.31875 145.8 3.01 27.25 0.25\"\n",
        "\n",
        "Expected Output: ['01.12', '145.8', '3.01', '27.25', '0.25']\n"
      ],
      "metadata": {
        "id": "IrOlrLZH4dbs"
      }
    },
    {
      "cell_type": "code",
      "source": [
        "pattern = re.compile(r'\\b\\d+\\.\\d{1,2}\\b')\n",
        "decimal_numbers = pattern.findall(text)\n",
        "\n",
        "sample_text = \"01.12 0132.123 2.31875 145.8 3.01 27.25 0.25\"\n",
        "result = re.findall(pattern, sample_text)\n",
        "print(result)"
      ],
      "metadata": {
        "id": "YrYc2Rkp40Nx",
        "colab": {
          "base_uri": "https://localhost:8080/"
        },
        "outputId": "29f5a5ab-d7da-4918-e4a9-01097d071484"
      },
      "execution_count": 39,
      "outputs": [
        {
          "output_type": "stream",
          "name": "stdout",
          "text": [
            "['01.12', '145.8', '3.01', '27.25', '0.25']\n"
          ]
        }
      ]
    },
    {
      "cell_type": "markdown",
      "source": [
        "Question 21- Write a Python program to separate and print the numbers and their position of a given string."
      ],
      "metadata": {
        "id": "GtjyhqyD50BP"
      }
    },
    {
      "cell_type": "code",
      "source": [
        "text = \"abc123def456ghi789\"\n",
        "\n",
        "pattern = re.compile(r'\\d+')\n",
        "\n",
        "matches = pattern.finditer(text)\n",
        "\n",
        "for match in matches:\n",
        "    number = match.group()\n",
        "    position = match.start()\n",
        "    print(f\"Number: {number}, Position: {position}\")"
      ],
      "metadata": {
        "id": "uYWDtzXR50xL",
        "colab": {
          "base_uri": "https://localhost:8080/"
        },
        "outputId": "792414da-fb2b-4b64-e391-650e0632255c"
      },
      "execution_count": 40,
      "outputs": [
        {
          "output_type": "stream",
          "name": "stdout",
          "text": [
            "Number: 123, Position: 3\n",
            "Number: 456, Position: 9\n",
            "Number: 789, Position: 15\n"
          ]
        }
      ]
    },
    {
      "cell_type": "markdown",
      "source": [
        "Question 22- Write a regular expression in python program to extract maximum/largest numeric value from a string.\n",
        "\n",
        "Sample Text:  'My marks in each semester are: 947, 896, 926, 524, 734, 950, 642'\n",
        "\n",
        "Expected Output: 950\n"
      ],
      "metadata": {
        "id": "kjRf-VSqN6U4"
      }
    },
    {
      "cell_type": "code",
      "source": [
        "sample_text = 'My marks in each semester are: 947, 896, 926, 524, 734, 950, 642'\n",
        "numbers = re.findall(r'\\d+', sample_text)\n",
        "max_value = max(map(int, numbers))\n",
        "print(max_value)"
      ],
      "metadata": {
        "id": "2LUTuLR8N8z8",
        "colab": {
          "base_uri": "https://localhost:8080/"
        },
        "outputId": "007fe8df-2296-48e5-f086-097139bba0da"
      },
      "execution_count": 41,
      "outputs": [
        {
          "output_type": "stream",
          "name": "stdout",
          "text": [
            "950\n"
          ]
        }
      ]
    },
    {
      "cell_type": "markdown",
      "source": [
        "Question 23- Create a function in python to insert spaces between words starting with capital letters.\n",
        "\n",
        "Sample Text: “RegularExpressionIsAnImportantTopicInPython\"\n",
        "\n",
        "Expected Output: Regular Expression Is An Important Topic In Python\n"
      ],
      "metadata": {
        "id": "30_kyoiXPnrP"
      }
    },
    {
      "cell_type": "code",
      "source": [
        "sample_text= 'RegularExpressionIsAnImportantTopicInPython'\n",
        "pattern = r'([a-z])([A-Z])'\n",
        "output = re.sub(pattern, r'\\1 \\2', sample_text)\n",
        "print(output)"
      ],
      "metadata": {
        "id": "6A_qGVWLSCxa",
        "colab": {
          "base_uri": "https://localhost:8080/"
        },
        "outputId": "1a5ee5c7-1469-41d2-d7fc-160a5022950e"
      },
      "execution_count": 42,
      "outputs": [
        {
          "output_type": "stream",
          "name": "stdout",
          "text": [
            "Regular Expression Is An Important Topic In Python\n"
          ]
        }
      ]
    },
    {
      "cell_type": "markdown",
      "source": [
        "Question 24- Python regex to find sequences of one upper case letter followed by lower case letters"
      ],
      "metadata": {
        "id": "GLKj6s39TOiP"
      }
    },
    {
      "cell_type": "code",
      "source": [
        "sample_text= 'RegularExpressionIsAnImportantTopicInPython'\n",
        "pattern = r'([A-Z][a-z]+)'\n",
        "output = re.findall(pattern, sample_text)\n",
        "print(output)"
      ],
      "metadata": {
        "id": "NzgXRjCaTSif",
        "colab": {
          "base_uri": "https://localhost:8080/"
        },
        "outputId": "145e3228-4615-48b0-9b09-acb713c78f67"
      },
      "execution_count": 43,
      "outputs": [
        {
          "output_type": "stream",
          "name": "stdout",
          "text": [
            "['Regular', 'Expression', 'Is', 'An', 'Important', 'Topic', 'In', 'Python']\n"
          ]
        }
      ]
    },
    {
      "cell_type": "markdown",
      "source": [
        "Question 25- Write a Python program to remove continuous duplicate words from Sentence using Regular Expression.\n",
        "\n",
        "Sample Text: \"Hello hello world world\"\n",
        "\n",
        "Expected Output: Hello hello world\n"
      ],
      "metadata": {
        "id": "pwUZBfUaUGJb"
      }
    },
    {
      "cell_type": "code",
      "source": [
        "sample_text= \"Hello hello world world\"\n",
        "pattern=r'(\\w+)(?:\\s+\\1)+'\n",
        "output=re.sub(pattern, r'\\1', sample_text)\n",
        "print(output)"
      ],
      "metadata": {
        "id": "b38WZbmJUH50",
        "colab": {
          "base_uri": "https://localhost:8080/"
        },
        "outputId": "cbd260a1-4542-4d7e-9509-021d65b05ebe"
      },
      "execution_count": 44,
      "outputs": [
        {
          "output_type": "stream",
          "name": "stdout",
          "text": [
            "Hello hello world\n"
          ]
        }
      ]
    },
    {
      "cell_type": "markdown",
      "source": [
        "Question 26-  Write a python program using RegEx to accept string ending with alphanumeric character."
      ],
      "metadata": {
        "id": "9uZa-eiI_cDn"
      }
    },
    {
      "cell_type": "code",
      "source": [
        "text = [\"Hello123\", \"abc123!\", \"Testing321\", \"123Testing\", \"Hello World\"]\n",
        "pattern = r'\\w$'\n",
        "for i in text:\n",
        "    if re.search(pattern, i):\n",
        "        print(f\"{i}: Accepted\")\n",
        "    else:\n",
        "        print(f\"{i}: Not accepted\")\n"
      ],
      "metadata": {
        "id": "LxURfNWiAwfZ",
        "colab": {
          "base_uri": "https://localhost:8080/"
        },
        "outputId": "9280c1a8-13b3-488d-9f69-99938dc4606a"
      },
      "execution_count": 45,
      "outputs": [
        {
          "output_type": "stream",
          "name": "stdout",
          "text": [
            "Hello123: Accepted\n",
            "abc123!: Not accepted\n",
            "Testing321: Accepted\n",
            "123Testing: Accepted\n",
            "Hello World: Accepted\n"
          ]
        }
      ]
    },
    {
      "cell_type": "markdown",
      "source": [
        "Question 27-Write a python program using RegEx to extract the hashtags.\n",
        "\n",
        "Sample Text:  \"\"\"RT @kapil_kausik: #Doltiwal I mean #xyzabc is \"hurt\" by #Demonetization as the same has rendered USELESS <ed><U+00A0><U+00BD><ed><U+00B1><U+0089> \"acquired funds\" No wo\"\"\"\n",
        "\n",
        "Expected Output: ['#Doltiwal', '#xyzabc', '#Demonetization']\n"
      ],
      "metadata": {
        "id": "66D6m6piBph7"
      }
    },
    {
      "cell_type": "code",
      "source": [
        "sample_text = \"\"\"RT @kapil_kausik: #Doltiwal I mean #xyzabc is \"hurt\" by #Demonetization as the same has rendered USELESS <ed><U+00A0><U+00BD><ed><U+00B1><U+0089> \"acquired funds\" No wo\"\"\"\n",
        "pattern = r'#\\w+'\n",
        "hashtags = re.findall(pattern, sample_text)\n",
        "print(hashtags)"
      ],
      "metadata": {
        "id": "3P2ZxuNdBtNb",
        "colab": {
          "base_uri": "https://localhost:8080/"
        },
        "outputId": "415f980b-550c-4c91-ed60-d770421803c7"
      },
      "execution_count": 46,
      "outputs": [
        {
          "output_type": "stream",
          "name": "stdout",
          "text": [
            "['#Doltiwal', '#xyzabc', '#Demonetization']\n"
          ]
        }
      ]
    },
    {
      "cell_type": "markdown",
      "source": [
        "Question 28- Write a python program using RegEx to remove <U+..> like symbols\n",
        "Check the below sample text, there are strange symbols something of the sort <U+..> all over the place. You need to come up with a general Regex expression that will cover all such symbols.\n",
        "\n",
        "Sample Text: \"@Jags123456 Bharat band on 28??<ed><U+00A0><U+00BD><ed><U+00B8><U+0082>Those who  are protesting #demonetization  are all different party leaders\"\n",
        "\n",
        "Expected Output: @Jags123456 Bharat band on 28??<ed><ed>Those who  are protesting #demonetization  are all different party leaders\n"
      ],
      "metadata": {
        "id": "7fz9J0ZDCZwU"
      }
    },
    {
      "cell_type": "code",
      "source": [
        "sample_text = \"@Jags123456 Bharat band on 28??<U+00A0><U+00BD><U+00B8><U+0082>Those who  are protesting #demonetization  are all different party leaders\"\n",
        "pattern = r'<U\\+[0-9A-Fa-f]+>'\n",
        "cleaned_text = re.sub(pattern, '', sample_text)\n",
        "print(cleaned_text)"
      ],
      "metadata": {
        "id": "xKeLXLVcCdse",
        "colab": {
          "base_uri": "https://localhost:8080/"
        },
        "outputId": "f7ba6cec-3979-4be5-c915-c0b5542cfd17"
      },
      "execution_count": 47,
      "outputs": [
        {
          "output_type": "stream",
          "name": "stdout",
          "text": [
            "@Jags123456 Bharat band on 28??Those who  are protesting #demonetization  are all different party leaders\n"
          ]
        }
      ]
    },
    {
      "cell_type": "markdown",
      "source": [
        "Question 29- Write a python program to extract dates from the text stored in the text file.\n",
        "\n",
        "Sample Text: Ron was born on 12-09-1992 and he was admitted to school 15-12-1999.\n",
        "\n",
        "Note- Store this sample text in the file and then extract dates.\n"
      ],
      "metadata": {
        "id": "Lm6Y0D03C2I-"
      }
    },
    {
      "cell_type": "code",
      "source": [
        "with open('sample3.txt', 'r') as file:\n",
        "    text = file.read()\n",
        "pattern = r'\\b\\d{2}-\\d{2}-\\d{4}\\b'\n",
        "dates = re.findall(pattern, text)\n",
        "print(dates)"
      ],
      "metadata": {
        "id": "5UNEnC51C7SS",
        "colab": {
          "base_uri": "https://localhost:8080/"
        },
        "outputId": "0ca1fbfe-9134-4f69-87b8-b8a5574070f4"
      },
      "execution_count": 48,
      "outputs": [
        {
          "output_type": "stream",
          "name": "stdout",
          "text": [
            "['12-09-1992', '15-12-1999']\n"
          ]
        }
      ]
    },
    {
      "cell_type": "markdown",
      "source": [
        "Question 30- Create a function in python to remove all words from a string of length between 2 and 4.\n",
        "\n",
        "The use of the re.compile() method is mandatory.\n",
        "Sample Text: \"The following example creates an ArrayList with a capacity of 50 elements. 4 elements are then added to the ArrayList and the ArrayList is trimmed accordingly.\"\n",
        "\n",
        "Expected Output:  following example creates ArrayList a capacity elements. 4 elements added ArrayList ArrayList trimmed accordingly.\n"
      ],
      "metadata": {
        "id": "NlRgPLMsF5gd"
      }
    },
    {
      "cell_type": "code",
      "source": [
        "def remove_words(text):\n",
        "    pattern = re.compile(r'\\b\\w{2,4}\\b')\n",
        "    cleaned_text = pattern.sub('', text)\n",
        "\n",
        "    return cleaned_text.strip()\n",
        "\n",
        "sample_text = \"The following example creates an ArrayList with a capacity of 50 elements. 4 elements are then added to the ArrayList and the ArrayList is trimmed accordingly.\"\n",
        "print(remove_words(sample_text))\n"
      ],
      "metadata": {
        "colab": {
          "base_uri": "https://localhost:8080/"
        },
        "id": "MPrIEX7JF-HV",
        "outputId": "bc1d3199-e041-41e9-c491-3c3d0734b819"
      },
      "execution_count": 49,
      "outputs": [
        {
          "output_type": "stream",
          "name": "stdout",
          "text": [
            "following example creates  ArrayList  a capacity   elements. 4 elements   added   ArrayList   ArrayList  trimmed accordingly.\n"
          ]
        }
      ]
    }
  ]
}